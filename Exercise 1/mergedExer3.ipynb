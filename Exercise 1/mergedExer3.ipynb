{
 "cells": [
  {
   "cell_type": "markdown",
   "metadata": {},
   "source": [
    "# Exercise 3"
   ]
  },
  {
   "cell_type": "code",
   "execution_count": 80,
   "metadata": {},
   "outputs": [],
   "source": [
    "import numpy as np\n",
    "import pandas as pd\n",
    "import matplotlib.pyplot as plt #main plotting tool for python\n",
    "import json\n",
    "from datetime import date\n",
    "import seaborn as sns\n",
    "import ast\n",
    "from scipy import stats #The statistics part of the library"
   ]
  },
  {
   "cell_type": "markdown",
   "metadata": {},
   "source": [
    "<span style=\"color:black; font-weight:700;font-size:18px\"> Για αρχή θα κάνουμε προεπεξεργασία τα δεδομένα. Διαβάζουμε το αρχείο με τις επιχειρήσεις, το μετατρέπουμε προσωρινά και το ξαναδιαβάζουμε γιατι υπήρχε θέμα με τις null τιμές, οι οποίες φεύγουν με το dropna(). </span>"
   ]
  },
  {
   "cell_type": "code",
   "execution_count": 10,
   "metadata": {},
   "outputs": [],
   "source": [
    "with open('yelp_dataset/yelp_academic_dataset_business.json', encoding='utf-8') as inputfile:\n",
    "    df = pd.read_json(inputfile, lines=True)\n",
    "\n",
    "# save to csv file\n",
    "df.to_csv('businessCSVTEMP.csv')\n",
    "\n",
    "df = pd.read_csv('businessCSVTEMP.csv')"
   ]
  },
  {
   "cell_type": "code",
   "execution_count": 11,
   "metadata": {},
   "outputs": [
    {
     "data": {
      "text/html": [
       "<div>\n",
       "<style scoped>\n",
       "    .dataframe tbody tr th:only-of-type {\n",
       "        vertical-align: middle;\n",
       "    }\n",
       "\n",
       "    .dataframe tbody tr th {\n",
       "        vertical-align: top;\n",
       "    }\n",
       "\n",
       "    .dataframe thead th {\n",
       "        text-align: right;\n",
       "    }\n",
       "</style>\n",
       "<table border=\"1\" class=\"dataframe\">\n",
       "  <thead>\n",
       "    <tr style=\"text-align: right;\">\n",
       "      <th></th>\n",
       "      <th>Unnamed: 0</th>\n",
       "      <th>business_id</th>\n",
       "      <th>name</th>\n",
       "      <th>address</th>\n",
       "      <th>city</th>\n",
       "      <th>state</th>\n",
       "      <th>postal_code</th>\n",
       "      <th>latitude</th>\n",
       "      <th>longitude</th>\n",
       "      <th>stars</th>\n",
       "      <th>review_count</th>\n",
       "      <th>is_open</th>\n",
       "      <th>attributes</th>\n",
       "      <th>categories</th>\n",
       "      <th>hours</th>\n",
       "    </tr>\n",
       "  </thead>\n",
       "  <tbody>\n",
       "    <tr>\n",
       "      <th>0</th>\n",
       "      <td>0</td>\n",
       "      <td>Pns2l4eNsfO8kk83dixA6A</td>\n",
       "      <td>Abby Rappoport, LAC, CMQ</td>\n",
       "      <td>1616 Chapala St, Ste 2</td>\n",
       "      <td>Santa Barbara</td>\n",
       "      <td>CA</td>\n",
       "      <td>93101</td>\n",
       "      <td>34.426679</td>\n",
       "      <td>-119.711197</td>\n",
       "      <td>5.0</td>\n",
       "      <td>7</td>\n",
       "      <td>0</td>\n",
       "      <td>{'ByAppointmentOnly': 'True'}</td>\n",
       "      <td>Doctors, Traditional Chinese Medicine, Naturop...</td>\n",
       "      <td>NaN</td>\n",
       "    </tr>\n",
       "    <tr>\n",
       "      <th>1</th>\n",
       "      <td>1</td>\n",
       "      <td>mpf3x-BjTdTEA3yCZrAYPw</td>\n",
       "      <td>The UPS Store</td>\n",
       "      <td>87 Grasso Plaza Shopping Center</td>\n",
       "      <td>Affton</td>\n",
       "      <td>MO</td>\n",
       "      <td>63123</td>\n",
       "      <td>38.551126</td>\n",
       "      <td>-90.335695</td>\n",
       "      <td>3.0</td>\n",
       "      <td>15</td>\n",
       "      <td>1</td>\n",
       "      <td>{'BusinessAcceptsCreditCards': 'True'}</td>\n",
       "      <td>Shipping Centers, Local Services, Notaries, Ma...</td>\n",
       "      <td>{'Monday': '0:0-0:0', 'Tuesday': '8:0-18:30', ...</td>\n",
       "    </tr>\n",
       "    <tr>\n",
       "      <th>2</th>\n",
       "      <td>2</td>\n",
       "      <td>tUFrWirKiKi_TAnsVWINQQ</td>\n",
       "      <td>Target</td>\n",
       "      <td>5255 E Broadway Blvd</td>\n",
       "      <td>Tucson</td>\n",
       "      <td>AZ</td>\n",
       "      <td>85711</td>\n",
       "      <td>32.223236</td>\n",
       "      <td>-110.880452</td>\n",
       "      <td>3.5</td>\n",
       "      <td>22</td>\n",
       "      <td>0</td>\n",
       "      <td>{'BikeParking': 'True', 'BusinessAcceptsCredit...</td>\n",
       "      <td>Department Stores, Shopping, Fashion, Home &amp; G...</td>\n",
       "      <td>{'Monday': '8:0-22:0', 'Tuesday': '8:0-22:0', ...</td>\n",
       "    </tr>\n",
       "    <tr>\n",
       "      <th>3</th>\n",
       "      <td>3</td>\n",
       "      <td>MTSW4McQd7CbVtyjqoe9mw</td>\n",
       "      <td>St Honore Pastries</td>\n",
       "      <td>935 Race St</td>\n",
       "      <td>Philadelphia</td>\n",
       "      <td>PA</td>\n",
       "      <td>19107</td>\n",
       "      <td>39.955505</td>\n",
       "      <td>-75.155564</td>\n",
       "      <td>4.0</td>\n",
       "      <td>80</td>\n",
       "      <td>1</td>\n",
       "      <td>{'RestaurantsDelivery': 'False', 'OutdoorSeati...</td>\n",
       "      <td>Restaurants, Food, Bubble Tea, Coffee &amp; Tea, B...</td>\n",
       "      <td>{'Monday': '7:0-20:0', 'Tuesday': '7:0-20:0', ...</td>\n",
       "    </tr>\n",
       "    <tr>\n",
       "      <th>4</th>\n",
       "      <td>4</td>\n",
       "      <td>mWMc6_wTdE0EUBKIGXDVfA</td>\n",
       "      <td>Perkiomen Valley Brewery</td>\n",
       "      <td>101 Walnut St</td>\n",
       "      <td>Green Lane</td>\n",
       "      <td>PA</td>\n",
       "      <td>18054</td>\n",
       "      <td>40.338183</td>\n",
       "      <td>-75.471658</td>\n",
       "      <td>4.5</td>\n",
       "      <td>13</td>\n",
       "      <td>1</td>\n",
       "      <td>{'BusinessAcceptsCreditCards': 'True', 'Wheelc...</td>\n",
       "      <td>Brewpubs, Breweries, Food</td>\n",
       "      <td>{'Wednesday': '14:0-22:0', 'Thursday': '16:0-2...</td>\n",
       "    </tr>\n",
       "  </tbody>\n",
       "</table>\n",
       "</div>"
      ],
      "text/plain": [
       "   Unnamed: 0             business_id                      name  \\\n",
       "0           0  Pns2l4eNsfO8kk83dixA6A  Abby Rappoport, LAC, CMQ   \n",
       "1           1  mpf3x-BjTdTEA3yCZrAYPw             The UPS Store   \n",
       "2           2  tUFrWirKiKi_TAnsVWINQQ                    Target   \n",
       "3           3  MTSW4McQd7CbVtyjqoe9mw        St Honore Pastries   \n",
       "4           4  mWMc6_wTdE0EUBKIGXDVfA  Perkiomen Valley Brewery   \n",
       "\n",
       "                           address           city state postal_code  \\\n",
       "0           1616 Chapala St, Ste 2  Santa Barbara    CA       93101   \n",
       "1  87 Grasso Plaza Shopping Center         Affton    MO       63123   \n",
       "2             5255 E Broadway Blvd         Tucson    AZ       85711   \n",
       "3                      935 Race St   Philadelphia    PA       19107   \n",
       "4                    101 Walnut St     Green Lane    PA       18054   \n",
       "\n",
       "    latitude   longitude  stars  review_count  is_open  \\\n",
       "0  34.426679 -119.711197    5.0             7        0   \n",
       "1  38.551126  -90.335695    3.0            15        1   \n",
       "2  32.223236 -110.880452    3.5            22        0   \n",
       "3  39.955505  -75.155564    4.0            80        1   \n",
       "4  40.338183  -75.471658    4.5            13        1   \n",
       "\n",
       "                                          attributes  \\\n",
       "0                      {'ByAppointmentOnly': 'True'}   \n",
       "1             {'BusinessAcceptsCreditCards': 'True'}   \n",
       "2  {'BikeParking': 'True', 'BusinessAcceptsCredit...   \n",
       "3  {'RestaurantsDelivery': 'False', 'OutdoorSeati...   \n",
       "4  {'BusinessAcceptsCreditCards': 'True', 'Wheelc...   \n",
       "\n",
       "                                          categories  \\\n",
       "0  Doctors, Traditional Chinese Medicine, Naturop...   \n",
       "1  Shipping Centers, Local Services, Notaries, Ma...   \n",
       "2  Department Stores, Shopping, Fashion, Home & G...   \n",
       "3  Restaurants, Food, Bubble Tea, Coffee & Tea, B...   \n",
       "4                          Brewpubs, Breweries, Food   \n",
       "\n",
       "                                               hours  \n",
       "0                                                NaN  \n",
       "1  {'Monday': '0:0-0:0', 'Tuesday': '8:0-18:30', ...  \n",
       "2  {'Monday': '8:0-22:0', 'Tuesday': '8:0-22:0', ...  \n",
       "3  {'Monday': '7:0-20:0', 'Tuesday': '7:0-20:0', ...  \n",
       "4  {'Wednesday': '14:0-22:0', 'Thursday': '16:0-2...  "
      ]
     },
     "execution_count": 11,
     "metadata": {},
     "output_type": "execute_result"
    }
   ],
   "source": [
    "df.head()"
   ]
  },
  {
   "cell_type": "code",
   "execution_count": 12,
   "metadata": {
    "scrolled": true
   },
   "outputs": [
    {
     "data": {
      "text/html": [
       "<div>\n",
       "<style scoped>\n",
       "    .dataframe tbody tr th:only-of-type {\n",
       "        vertical-align: middle;\n",
       "    }\n",
       "\n",
       "    .dataframe tbody tr th {\n",
       "        vertical-align: top;\n",
       "    }\n",
       "\n",
       "    .dataframe thead th {\n",
       "        text-align: right;\n",
       "    }\n",
       "</style>\n",
       "<table border=\"1\" class=\"dataframe\">\n",
       "  <thead>\n",
       "    <tr style=\"text-align: right;\">\n",
       "      <th></th>\n",
       "      <th>Unnamed: 0</th>\n",
       "      <th>business_id</th>\n",
       "      <th>name</th>\n",
       "      <th>address</th>\n",
       "      <th>city</th>\n",
       "      <th>state</th>\n",
       "      <th>postal_code</th>\n",
       "      <th>latitude</th>\n",
       "      <th>longitude</th>\n",
       "      <th>stars</th>\n",
       "      <th>review_count</th>\n",
       "      <th>is_open</th>\n",
       "      <th>attributes</th>\n",
       "      <th>categories</th>\n",
       "      <th>hours</th>\n",
       "    </tr>\n",
       "  </thead>\n",
       "  <tbody>\n",
       "    <tr>\n",
       "      <th>3</th>\n",
       "      <td>3</td>\n",
       "      <td>MTSW4McQd7CbVtyjqoe9mw</td>\n",
       "      <td>St Honore Pastries</td>\n",
       "      <td>935 Race St</td>\n",
       "      <td>Philadelphia</td>\n",
       "      <td>PA</td>\n",
       "      <td>19107</td>\n",
       "      <td>39.955505</td>\n",
       "      <td>-75.155564</td>\n",
       "      <td>4.0</td>\n",
       "      <td>80</td>\n",
       "      <td>1</td>\n",
       "      <td>{'RestaurantsDelivery': 'False', 'OutdoorSeati...</td>\n",
       "      <td>Restaurants, Food, Bubble Tea, Coffee &amp; Tea, B...</td>\n",
       "      <td>{'Monday': '7:0-20:0', 'Tuesday': '7:0-20:0', ...</td>\n",
       "    </tr>\n",
       "    <tr>\n",
       "      <th>15</th>\n",
       "      <td>15</td>\n",
       "      <td>MUTTqe8uqyMdBl186RmNeA</td>\n",
       "      <td>Tuna Bar</td>\n",
       "      <td>205 Race St</td>\n",
       "      <td>Philadelphia</td>\n",
       "      <td>PA</td>\n",
       "      <td>19106</td>\n",
       "      <td>39.953949</td>\n",
       "      <td>-75.143226</td>\n",
       "      <td>4.0</td>\n",
       "      <td>245</td>\n",
       "      <td>1</td>\n",
       "      <td>{'RestaurantsReservations': 'True', 'Restauran...</td>\n",
       "      <td>Sushi Bars, Restaurants, Japanese</td>\n",
       "      <td>{'Tuesday': '13:30-22:0', 'Wednesday': '13:30-...</td>\n",
       "    </tr>\n",
       "    <tr>\n",
       "      <th>19</th>\n",
       "      <td>19</td>\n",
       "      <td>ROeacJQwBeh05Rqg7F6TCg</td>\n",
       "      <td>BAP</td>\n",
       "      <td>1224 South St</td>\n",
       "      <td>Philadelphia</td>\n",
       "      <td>PA</td>\n",
       "      <td>19147</td>\n",
       "      <td>39.943223</td>\n",
       "      <td>-75.162568</td>\n",
       "      <td>4.5</td>\n",
       "      <td>205</td>\n",
       "      <td>1</td>\n",
       "      <td>{'NoiseLevel': \"u'quiet'\", 'GoodForMeal': \"{'d...</td>\n",
       "      <td>Korean, Restaurants</td>\n",
       "      <td>{'Monday': '11:30-20:30', 'Tuesday': '11:30-20...</td>\n",
       "    </tr>\n",
       "    <tr>\n",
       "      <th>28</th>\n",
       "      <td>28</td>\n",
       "      <td>QdN72BWoyFypdGJhhI5r7g</td>\n",
       "      <td>Bar One</td>\n",
       "      <td>767 S 9th St</td>\n",
       "      <td>Philadelphia</td>\n",
       "      <td>PA</td>\n",
       "      <td>19147</td>\n",
       "      <td>39.939825</td>\n",
       "      <td>-75.157447</td>\n",
       "      <td>4.0</td>\n",
       "      <td>65</td>\n",
       "      <td>0</td>\n",
       "      <td>{'Smoking': \"u'no'\", 'NoiseLevel': \"u'average'...</td>\n",
       "      <td>Cocktail Bars, Bars, Italian, Nightlife, Resta...</td>\n",
       "      <td>{'Monday': '16:0-0:0', 'Tuesday': '16:0-0:0', ...</td>\n",
       "    </tr>\n",
       "    <tr>\n",
       "      <th>31</th>\n",
       "      <td>31</td>\n",
       "      <td>Mjboz24M9NlBeiOJKLEd_Q</td>\n",
       "      <td>DeSandro on Main</td>\n",
       "      <td>4105 Main St</td>\n",
       "      <td>Philadelphia</td>\n",
       "      <td>PA</td>\n",
       "      <td>19127</td>\n",
       "      <td>40.022466</td>\n",
       "      <td>-75.218314</td>\n",
       "      <td>3.0</td>\n",
       "      <td>41</td>\n",
       "      <td>0</td>\n",
       "      <td>{'RestaurantsReservations': 'False', 'Caters':...</td>\n",
       "      <td>Pizza, Restaurants, Salad, Soup</td>\n",
       "      <td>{'Tuesday': '17:0-21:30', 'Wednesday': '17:0-1...</td>\n",
       "    </tr>\n",
       "    <tr>\n",
       "      <th>...</th>\n",
       "      <td>...</td>\n",
       "      <td>...</td>\n",
       "      <td>...</td>\n",
       "      <td>...</td>\n",
       "      <td>...</td>\n",
       "      <td>...</td>\n",
       "      <td>...</td>\n",
       "      <td>...</td>\n",
       "      <td>...</td>\n",
       "      <td>...</td>\n",
       "      <td>...</td>\n",
       "      <td>...</td>\n",
       "      <td>...</td>\n",
       "      <td>...</td>\n",
       "      <td>...</td>\n",
       "    </tr>\n",
       "    <tr>\n",
       "      <th>150319</th>\n",
       "      <td>150319</td>\n",
       "      <td>8n93L-ilMAsvwUatarykSg</td>\n",
       "      <td>Kitchen Gia</td>\n",
       "      <td>3716 Spruce St</td>\n",
       "      <td>Philadelphia</td>\n",
       "      <td>PA</td>\n",
       "      <td>19104</td>\n",
       "      <td>39.951018</td>\n",
       "      <td>-75.198240</td>\n",
       "      <td>3.0</td>\n",
       "      <td>22</td>\n",
       "      <td>0</td>\n",
       "      <td>{'RestaurantsGoodForGroups': 'True', 'BikePark...</td>\n",
       "      <td>Coffee &amp; Tea, Food, Sandwiches, American (Trad...</td>\n",
       "      <td>{'Monday': '9:0-19:30', 'Tuesday': '9:0-19:30'...</td>\n",
       "    </tr>\n",
       "    <tr>\n",
       "      <th>150320</th>\n",
       "      <td>150320</td>\n",
       "      <td>wPAaAbFbq5wfLfW0gnYU7g</td>\n",
       "      <td>Intermix</td>\n",
       "      <td>1718 Walnut St</td>\n",
       "      <td>Philadelphia</td>\n",
       "      <td>PA</td>\n",
       "      <td>19103</td>\n",
       "      <td>39.950060</td>\n",
       "      <td>-75.170129</td>\n",
       "      <td>2.0</td>\n",
       "      <td>10</td>\n",
       "      <td>0</td>\n",
       "      <td>{'BusinessParking': \"{'garage': False, 'street...</td>\n",
       "      <td>Fashion, Shopping, Women's Clothing</td>\n",
       "      <td>{'Monday': '10:0-19:0', 'Tuesday': '10:0-19:0'...</td>\n",
       "    </tr>\n",
       "    <tr>\n",
       "      <th>150329</th>\n",
       "      <td>150329</td>\n",
       "      <td>9U1Igcpe954LoWZRmNc-zg</td>\n",
       "      <td>Hand &amp; Stone Massage And Facial Spa</td>\n",
       "      <td>1100 S Columbus Blvd, Ste 24</td>\n",
       "      <td>Philadelphia</td>\n",
       "      <td>PA</td>\n",
       "      <td>19147</td>\n",
       "      <td>39.932756</td>\n",
       "      <td>-75.144504</td>\n",
       "      <td>3.0</td>\n",
       "      <td>32</td>\n",
       "      <td>1</td>\n",
       "      <td>{'BusinessAcceptsCreditCards': 'True', 'Wheelc...</td>\n",
       "      <td>Day Spas, Beauty &amp; Spas, Skin Care, Massage</td>\n",
       "      <td>{'Monday': '9:0-22:0', 'Tuesday': '9:0-22:0', ...</td>\n",
       "    </tr>\n",
       "    <tr>\n",
       "      <th>150334</th>\n",
       "      <td>150334</td>\n",
       "      <td>LJ4GjQ1HL6kqvIPpNUNNaQ</td>\n",
       "      <td>Shanti Yoga and Ayurveda</td>\n",
       "      <td>1638 Pine St, Fl 1</td>\n",
       "      <td>Philadelphia</td>\n",
       "      <td>PA</td>\n",
       "      <td>19103</td>\n",
       "      <td>39.945966</td>\n",
       "      <td>-75.169666</td>\n",
       "      <td>4.5</td>\n",
       "      <td>39</td>\n",
       "      <td>1</td>\n",
       "      <td>{'ByAppointmentOnly': 'True', 'GoodForKids': '...</td>\n",
       "      <td>Health &amp; Medical, Yoga, Shopping, Naturopathic...</td>\n",
       "      <td>{'Monday': '7:0-20:0', 'Tuesday': '7:0-20:0', ...</td>\n",
       "    </tr>\n",
       "    <tr>\n",
       "      <th>150336</th>\n",
       "      <td>150336</td>\n",
       "      <td>WnT9NIzQgLlILjPT0kEcsQ</td>\n",
       "      <td>Adelita Taqueria &amp; Restaurant</td>\n",
       "      <td>1108 S 9th St</td>\n",
       "      <td>Philadelphia</td>\n",
       "      <td>PA</td>\n",
       "      <td>19147</td>\n",
       "      <td>39.935982</td>\n",
       "      <td>-75.158665</td>\n",
       "      <td>4.5</td>\n",
       "      <td>35</td>\n",
       "      <td>1</td>\n",
       "      <td>{'WheelchairAccessible': 'False', 'Restaurants...</td>\n",
       "      <td>Restaurants, Mexican</td>\n",
       "      <td>{'Monday': '11:0-22:0', 'Tuesday': '11:0-22:0'...</td>\n",
       "    </tr>\n",
       "  </tbody>\n",
       "</table>\n",
       "<p>10692 rows × 15 columns</p>\n",
       "</div>"
      ],
      "text/plain": [
       "        Unnamed: 0             business_id  \\\n",
       "3                3  MTSW4McQd7CbVtyjqoe9mw   \n",
       "15              15  MUTTqe8uqyMdBl186RmNeA   \n",
       "19              19  ROeacJQwBeh05Rqg7F6TCg   \n",
       "28              28  QdN72BWoyFypdGJhhI5r7g   \n",
       "31              31  Mjboz24M9NlBeiOJKLEd_Q   \n",
       "...            ...                     ...   \n",
       "150319      150319  8n93L-ilMAsvwUatarykSg   \n",
       "150320      150320  wPAaAbFbq5wfLfW0gnYU7g   \n",
       "150329      150329  9U1Igcpe954LoWZRmNc-zg   \n",
       "150334      150334  LJ4GjQ1HL6kqvIPpNUNNaQ   \n",
       "150336      150336  WnT9NIzQgLlILjPT0kEcsQ   \n",
       "\n",
       "                                       name                       address  \\\n",
       "3                        St Honore Pastries                   935 Race St   \n",
       "15                                 Tuna Bar                   205 Race St   \n",
       "19                                      BAP                 1224 South St   \n",
       "28                                  Bar One                  767 S 9th St   \n",
       "31                         DeSandro on Main                  4105 Main St   \n",
       "...                                     ...                           ...   \n",
       "150319                          Kitchen Gia                3716 Spruce St   \n",
       "150320                             Intermix                1718 Walnut St   \n",
       "150329  Hand & Stone Massage And Facial Spa  1100 S Columbus Blvd, Ste 24   \n",
       "150334             Shanti Yoga and Ayurveda            1638 Pine St, Fl 1   \n",
       "150336        Adelita Taqueria & Restaurant                 1108 S 9th St   \n",
       "\n",
       "                city state postal_code   latitude  longitude  stars  \\\n",
       "3       Philadelphia    PA       19107  39.955505 -75.155564    4.0   \n",
       "15      Philadelphia    PA       19106  39.953949 -75.143226    4.0   \n",
       "19      Philadelphia    PA       19147  39.943223 -75.162568    4.5   \n",
       "28      Philadelphia    PA       19147  39.939825 -75.157447    4.0   \n",
       "31      Philadelphia    PA       19127  40.022466 -75.218314    3.0   \n",
       "...              ...   ...         ...        ...        ...    ...   \n",
       "150319  Philadelphia    PA       19104  39.951018 -75.198240    3.0   \n",
       "150320  Philadelphia    PA       19103  39.950060 -75.170129    2.0   \n",
       "150329  Philadelphia    PA       19147  39.932756 -75.144504    3.0   \n",
       "150334  Philadelphia    PA       19103  39.945966 -75.169666    4.5   \n",
       "150336  Philadelphia    PA       19147  39.935982 -75.158665    4.5   \n",
       "\n",
       "        review_count  is_open  \\\n",
       "3                 80        1   \n",
       "15               245        1   \n",
       "19               205        1   \n",
       "28                65        0   \n",
       "31                41        0   \n",
       "...              ...      ...   \n",
       "150319            22        0   \n",
       "150320            10        0   \n",
       "150329            32        1   \n",
       "150334            39        1   \n",
       "150336            35        1   \n",
       "\n",
       "                                               attributes  \\\n",
       "3       {'RestaurantsDelivery': 'False', 'OutdoorSeati...   \n",
       "15      {'RestaurantsReservations': 'True', 'Restauran...   \n",
       "19      {'NoiseLevel': \"u'quiet'\", 'GoodForMeal': \"{'d...   \n",
       "28      {'Smoking': \"u'no'\", 'NoiseLevel': \"u'average'...   \n",
       "31      {'RestaurantsReservations': 'False', 'Caters':...   \n",
       "...                                                   ...   \n",
       "150319  {'RestaurantsGoodForGroups': 'True', 'BikePark...   \n",
       "150320  {'BusinessParking': \"{'garage': False, 'street...   \n",
       "150329  {'BusinessAcceptsCreditCards': 'True', 'Wheelc...   \n",
       "150334  {'ByAppointmentOnly': 'True', 'GoodForKids': '...   \n",
       "150336  {'WheelchairAccessible': 'False', 'Restaurants...   \n",
       "\n",
       "                                               categories  \\\n",
       "3       Restaurants, Food, Bubble Tea, Coffee & Tea, B...   \n",
       "15                      Sushi Bars, Restaurants, Japanese   \n",
       "19                                    Korean, Restaurants   \n",
       "28      Cocktail Bars, Bars, Italian, Nightlife, Resta...   \n",
       "31                        Pizza, Restaurants, Salad, Soup   \n",
       "...                                                   ...   \n",
       "150319  Coffee & Tea, Food, Sandwiches, American (Trad...   \n",
       "150320                Fashion, Shopping, Women's Clothing   \n",
       "150329        Day Spas, Beauty & Spas, Skin Care, Massage   \n",
       "150334  Health & Medical, Yoga, Shopping, Naturopathic...   \n",
       "150336                               Restaurants, Mexican   \n",
       "\n",
       "                                                    hours  \n",
       "3       {'Monday': '7:0-20:0', 'Tuesday': '7:0-20:0', ...  \n",
       "15      {'Tuesday': '13:30-22:0', 'Wednesday': '13:30-...  \n",
       "19      {'Monday': '11:30-20:30', 'Tuesday': '11:30-20...  \n",
       "28      {'Monday': '16:0-0:0', 'Tuesday': '16:0-0:0', ...  \n",
       "31      {'Tuesday': '17:0-21:30', 'Wednesday': '17:0-1...  \n",
       "...                                                   ...  \n",
       "150319  {'Monday': '9:0-19:30', 'Tuesday': '9:0-19:30'...  \n",
       "150320  {'Monday': '10:0-19:0', 'Tuesday': '10:0-19:0'...  \n",
       "150329  {'Monday': '9:0-22:0', 'Tuesday': '9:0-22:0', ...  \n",
       "150334  {'Monday': '7:0-20:0', 'Tuesday': '7:0-20:0', ...  \n",
       "150336  {'Monday': '11:0-22:0', 'Tuesday': '11:0-22:0'...  \n",
       "\n",
       "[10692 rows x 15 columns]"
      ]
     },
     "execution_count": 12,
     "metadata": {},
     "output_type": "execute_result"
    }
   ],
   "source": [
    "# get reviews of city Philadephia\n",
    "df = df[df.city=='Philadelphia']\n",
    "# drop null values\n",
    "df.dropna()"
   ]
  },
  {
   "cell_type": "markdown",
   "metadata": {},
   "source": [
    "<span style=\"color:black; font-weight:700;font-size:18px\"> Αποθηκεύουμε σε μορφές json csv. </span>"
   ]
  },
  {
   "cell_type": "code",
   "execution_count": 13,
   "metadata": {},
   "outputs": [],
   "source": [
    "# save to json file\n",
    "df.to_json('businessPhilly.json')"
   ]
  },
  {
   "cell_type": "code",
   "execution_count": 14,
   "metadata": {},
   "outputs": [],
   "source": [
    "# save to csv file\n",
    "df.to_csv('businessPhilly.csv')"
   ]
  },
  {
   "cell_type": "code",
   "execution_count": null,
   "metadata": {},
   "outputs": [],
   "source": []
  },
  {
   "cell_type": "markdown",
   "metadata": {},
   "source": [
    "<span style=\"color:black; font-weight:700;font-size:20px\"> Read reviews </span>"
   ]
  },
  {
   "cell_type": "code",
   "execution_count": 16,
   "metadata": {
    "scrolled": true
   },
   "outputs": [
    {
     "data": {
      "text/html": [
       "<div>\n",
       "<style scoped>\n",
       "    .dataframe tbody tr th:only-of-type {\n",
       "        vertical-align: middle;\n",
       "    }\n",
       "\n",
       "    .dataframe tbody tr th {\n",
       "        vertical-align: top;\n",
       "    }\n",
       "\n",
       "    .dataframe thead th {\n",
       "        text-align: right;\n",
       "    }\n",
       "</style>\n",
       "<table border=\"1\" class=\"dataframe\">\n",
       "  <thead>\n",
       "    <tr style=\"text-align: right;\">\n",
       "      <th></th>\n",
       "      <th>Unnamed: 0</th>\n",
       "      <th>Unnamed: 0.1</th>\n",
       "      <th>business_id</th>\n",
       "      <th>name</th>\n",
       "      <th>address</th>\n",
       "      <th>city</th>\n",
       "      <th>state</th>\n",
       "      <th>postal_code</th>\n",
       "      <th>latitude</th>\n",
       "      <th>longitude</th>\n",
       "      <th>stars</th>\n",
       "      <th>review_count</th>\n",
       "      <th>is_open</th>\n",
       "      <th>attributes</th>\n",
       "      <th>categories</th>\n",
       "      <th>hours</th>\n",
       "    </tr>\n",
       "  </thead>\n",
       "  <tbody>\n",
       "    <tr>\n",
       "      <th>0</th>\n",
       "      <td>3</td>\n",
       "      <td>3</td>\n",
       "      <td>MTSW4McQd7CbVtyjqoe9mw</td>\n",
       "      <td>St Honore Pastries</td>\n",
       "      <td>935 Race St</td>\n",
       "      <td>Philadelphia</td>\n",
       "      <td>PA</td>\n",
       "      <td>19107.0</td>\n",
       "      <td>39.955505</td>\n",
       "      <td>-75.155564</td>\n",
       "      <td>4.0</td>\n",
       "      <td>80</td>\n",
       "      <td>1</td>\n",
       "      <td>{'RestaurantsDelivery': 'False', 'OutdoorSeati...</td>\n",
       "      <td>Restaurants, Food, Bubble Tea, Coffee &amp; Tea, B...</td>\n",
       "      <td>{'Monday': '7:0-20:0', 'Tuesday': '7:0-20:0', ...</td>\n",
       "    </tr>\n",
       "    <tr>\n",
       "      <th>1</th>\n",
       "      <td>15</td>\n",
       "      <td>15</td>\n",
       "      <td>MUTTqe8uqyMdBl186RmNeA</td>\n",
       "      <td>Tuna Bar</td>\n",
       "      <td>205 Race St</td>\n",
       "      <td>Philadelphia</td>\n",
       "      <td>PA</td>\n",
       "      <td>19106.0</td>\n",
       "      <td>39.953949</td>\n",
       "      <td>-75.143226</td>\n",
       "      <td>4.0</td>\n",
       "      <td>245</td>\n",
       "      <td>1</td>\n",
       "      <td>{'RestaurantsReservations': 'True', 'Restauran...</td>\n",
       "      <td>Sushi Bars, Restaurants, Japanese</td>\n",
       "      <td>{'Tuesday': '13:30-22:0', 'Wednesday': '13:30-...</td>\n",
       "    </tr>\n",
       "    <tr>\n",
       "      <th>2</th>\n",
       "      <td>19</td>\n",
       "      <td>19</td>\n",
       "      <td>ROeacJQwBeh05Rqg7F6TCg</td>\n",
       "      <td>BAP</td>\n",
       "      <td>1224 South St</td>\n",
       "      <td>Philadelphia</td>\n",
       "      <td>PA</td>\n",
       "      <td>19147.0</td>\n",
       "      <td>39.943223</td>\n",
       "      <td>-75.162568</td>\n",
       "      <td>4.5</td>\n",
       "      <td>205</td>\n",
       "      <td>1</td>\n",
       "      <td>{'NoiseLevel': \"u'quiet'\", 'GoodForMeal': \"{'d...</td>\n",
       "      <td>Korean, Restaurants</td>\n",
       "      <td>{'Monday': '11:30-20:30', 'Tuesday': '11:30-20...</td>\n",
       "    </tr>\n",
       "    <tr>\n",
       "      <th>3</th>\n",
       "      <td>28</td>\n",
       "      <td>28</td>\n",
       "      <td>QdN72BWoyFypdGJhhI5r7g</td>\n",
       "      <td>Bar One</td>\n",
       "      <td>767 S 9th St</td>\n",
       "      <td>Philadelphia</td>\n",
       "      <td>PA</td>\n",
       "      <td>19147.0</td>\n",
       "      <td>39.939825</td>\n",
       "      <td>-75.157447</td>\n",
       "      <td>4.0</td>\n",
       "      <td>65</td>\n",
       "      <td>0</td>\n",
       "      <td>{'Smoking': \"u'no'\", 'NoiseLevel': \"u'average'...</td>\n",
       "      <td>Cocktail Bars, Bars, Italian, Nightlife, Resta...</td>\n",
       "      <td>{'Monday': '16:0-0:0', 'Tuesday': '16:0-0:0', ...</td>\n",
       "    </tr>\n",
       "    <tr>\n",
       "      <th>4</th>\n",
       "      <td>31</td>\n",
       "      <td>31</td>\n",
       "      <td>Mjboz24M9NlBeiOJKLEd_Q</td>\n",
       "      <td>DeSandro on Main</td>\n",
       "      <td>4105 Main St</td>\n",
       "      <td>Philadelphia</td>\n",
       "      <td>PA</td>\n",
       "      <td>19127.0</td>\n",
       "      <td>40.022466</td>\n",
       "      <td>-75.218314</td>\n",
       "      <td>3.0</td>\n",
       "      <td>41</td>\n",
       "      <td>0</td>\n",
       "      <td>{'RestaurantsReservations': 'False', 'Caters':...</td>\n",
       "      <td>Pizza, Restaurants, Salad, Soup</td>\n",
       "      <td>{'Tuesday': '17:0-21:30', 'Wednesday': '17:0-1...</td>\n",
       "    </tr>\n",
       "    <tr>\n",
       "      <th>...</th>\n",
       "      <td>...</td>\n",
       "      <td>...</td>\n",
       "      <td>...</td>\n",
       "      <td>...</td>\n",
       "      <td>...</td>\n",
       "      <td>...</td>\n",
       "      <td>...</td>\n",
       "      <td>...</td>\n",
       "      <td>...</td>\n",
       "      <td>...</td>\n",
       "      <td>...</td>\n",
       "      <td>...</td>\n",
       "      <td>...</td>\n",
       "      <td>...</td>\n",
       "      <td>...</td>\n",
       "      <td>...</td>\n",
       "    </tr>\n",
       "    <tr>\n",
       "      <th>14563</th>\n",
       "      <td>150319</td>\n",
       "      <td>150319</td>\n",
       "      <td>8n93L-ilMAsvwUatarykSg</td>\n",
       "      <td>Kitchen Gia</td>\n",
       "      <td>3716 Spruce St</td>\n",
       "      <td>Philadelphia</td>\n",
       "      <td>PA</td>\n",
       "      <td>19104.0</td>\n",
       "      <td>39.951018</td>\n",
       "      <td>-75.198240</td>\n",
       "      <td>3.0</td>\n",
       "      <td>22</td>\n",
       "      <td>0</td>\n",
       "      <td>{'RestaurantsGoodForGroups': 'True', 'BikePark...</td>\n",
       "      <td>Coffee &amp; Tea, Food, Sandwiches, American (Trad...</td>\n",
       "      <td>{'Monday': '9:0-19:30', 'Tuesday': '9:0-19:30'...</td>\n",
       "    </tr>\n",
       "    <tr>\n",
       "      <th>14564</th>\n",
       "      <td>150320</td>\n",
       "      <td>150320</td>\n",
       "      <td>wPAaAbFbq5wfLfW0gnYU7g</td>\n",
       "      <td>Intermix</td>\n",
       "      <td>1718 Walnut St</td>\n",
       "      <td>Philadelphia</td>\n",
       "      <td>PA</td>\n",
       "      <td>19103.0</td>\n",
       "      <td>39.950060</td>\n",
       "      <td>-75.170129</td>\n",
       "      <td>2.0</td>\n",
       "      <td>10</td>\n",
       "      <td>0</td>\n",
       "      <td>{'BusinessParking': \"{'garage': False, 'street...</td>\n",
       "      <td>Fashion, Shopping, Women's Clothing</td>\n",
       "      <td>{'Monday': '10:0-19:0', 'Tuesday': '10:0-19:0'...</td>\n",
       "    </tr>\n",
       "    <tr>\n",
       "      <th>14566</th>\n",
       "      <td>150329</td>\n",
       "      <td>150329</td>\n",
       "      <td>9U1Igcpe954LoWZRmNc-zg</td>\n",
       "      <td>Hand &amp; Stone Massage And Facial Spa</td>\n",
       "      <td>1100 S Columbus Blvd, Ste 24</td>\n",
       "      <td>Philadelphia</td>\n",
       "      <td>PA</td>\n",
       "      <td>19147.0</td>\n",
       "      <td>39.932756</td>\n",
       "      <td>-75.144504</td>\n",
       "      <td>3.0</td>\n",
       "      <td>32</td>\n",
       "      <td>1</td>\n",
       "      <td>{'BusinessAcceptsCreditCards': 'True', 'Wheelc...</td>\n",
       "      <td>Day Spas, Beauty &amp; Spas, Skin Care, Massage</td>\n",
       "      <td>{'Monday': '9:0-22:0', 'Tuesday': '9:0-22:0', ...</td>\n",
       "    </tr>\n",
       "    <tr>\n",
       "      <th>14567</th>\n",
       "      <td>150334</td>\n",
       "      <td>150334</td>\n",
       "      <td>LJ4GjQ1HL6kqvIPpNUNNaQ</td>\n",
       "      <td>Shanti Yoga and Ayurveda</td>\n",
       "      <td>1638 Pine St, Fl 1</td>\n",
       "      <td>Philadelphia</td>\n",
       "      <td>PA</td>\n",
       "      <td>19103.0</td>\n",
       "      <td>39.945966</td>\n",
       "      <td>-75.169666</td>\n",
       "      <td>4.5</td>\n",
       "      <td>39</td>\n",
       "      <td>1</td>\n",
       "      <td>{'ByAppointmentOnly': 'True', 'GoodForKids': '...</td>\n",
       "      <td>Health &amp; Medical, Yoga, Shopping, Naturopathic...</td>\n",
       "      <td>{'Monday': '7:0-20:0', 'Tuesday': '7:0-20:0', ...</td>\n",
       "    </tr>\n",
       "    <tr>\n",
       "      <th>14568</th>\n",
       "      <td>150336</td>\n",
       "      <td>150336</td>\n",
       "      <td>WnT9NIzQgLlILjPT0kEcsQ</td>\n",
       "      <td>Adelita Taqueria &amp; Restaurant</td>\n",
       "      <td>1108 S 9th St</td>\n",
       "      <td>Philadelphia</td>\n",
       "      <td>PA</td>\n",
       "      <td>19147.0</td>\n",
       "      <td>39.935982</td>\n",
       "      <td>-75.158665</td>\n",
       "      <td>4.5</td>\n",
       "      <td>35</td>\n",
       "      <td>1</td>\n",
       "      <td>{'WheelchairAccessible': 'False', 'Restaurants...</td>\n",
       "      <td>Restaurants, Mexican</td>\n",
       "      <td>{'Monday': '11:0-22:0', 'Tuesday': '11:0-22:0'...</td>\n",
       "    </tr>\n",
       "  </tbody>\n",
       "</table>\n",
       "<p>10692 rows × 16 columns</p>\n",
       "</div>"
      ],
      "text/plain": [
       "       Unnamed: 0  Unnamed: 0.1             business_id  \\\n",
       "0               3             3  MTSW4McQd7CbVtyjqoe9mw   \n",
       "1              15            15  MUTTqe8uqyMdBl186RmNeA   \n",
       "2              19            19  ROeacJQwBeh05Rqg7F6TCg   \n",
       "3              28            28  QdN72BWoyFypdGJhhI5r7g   \n",
       "4              31            31  Mjboz24M9NlBeiOJKLEd_Q   \n",
       "...           ...           ...                     ...   \n",
       "14563      150319        150319  8n93L-ilMAsvwUatarykSg   \n",
       "14564      150320        150320  wPAaAbFbq5wfLfW0gnYU7g   \n",
       "14566      150329        150329  9U1Igcpe954LoWZRmNc-zg   \n",
       "14567      150334        150334  LJ4GjQ1HL6kqvIPpNUNNaQ   \n",
       "14568      150336        150336  WnT9NIzQgLlILjPT0kEcsQ   \n",
       "\n",
       "                                      name                       address  \\\n",
       "0                       St Honore Pastries                   935 Race St   \n",
       "1                                 Tuna Bar                   205 Race St   \n",
       "2                                      BAP                 1224 South St   \n",
       "3                                  Bar One                  767 S 9th St   \n",
       "4                         DeSandro on Main                  4105 Main St   \n",
       "...                                    ...                           ...   \n",
       "14563                          Kitchen Gia                3716 Spruce St   \n",
       "14564                             Intermix                1718 Walnut St   \n",
       "14566  Hand & Stone Massage And Facial Spa  1100 S Columbus Blvd, Ste 24   \n",
       "14567             Shanti Yoga and Ayurveda            1638 Pine St, Fl 1   \n",
       "14568        Adelita Taqueria & Restaurant                 1108 S 9th St   \n",
       "\n",
       "               city state  postal_code   latitude  longitude  stars  \\\n",
       "0      Philadelphia    PA      19107.0  39.955505 -75.155564    4.0   \n",
       "1      Philadelphia    PA      19106.0  39.953949 -75.143226    4.0   \n",
       "2      Philadelphia    PA      19147.0  39.943223 -75.162568    4.5   \n",
       "3      Philadelphia    PA      19147.0  39.939825 -75.157447    4.0   \n",
       "4      Philadelphia    PA      19127.0  40.022466 -75.218314    3.0   \n",
       "...             ...   ...          ...        ...        ...    ...   \n",
       "14563  Philadelphia    PA      19104.0  39.951018 -75.198240    3.0   \n",
       "14564  Philadelphia    PA      19103.0  39.950060 -75.170129    2.0   \n",
       "14566  Philadelphia    PA      19147.0  39.932756 -75.144504    3.0   \n",
       "14567  Philadelphia    PA      19103.0  39.945966 -75.169666    4.5   \n",
       "14568  Philadelphia    PA      19147.0  39.935982 -75.158665    4.5   \n",
       "\n",
       "       review_count  is_open  \\\n",
       "0                80        1   \n",
       "1               245        1   \n",
       "2               205        1   \n",
       "3                65        0   \n",
       "4                41        0   \n",
       "...             ...      ...   \n",
       "14563            22        0   \n",
       "14564            10        0   \n",
       "14566            32        1   \n",
       "14567            39        1   \n",
       "14568            35        1   \n",
       "\n",
       "                                              attributes  \\\n",
       "0      {'RestaurantsDelivery': 'False', 'OutdoorSeati...   \n",
       "1      {'RestaurantsReservations': 'True', 'Restauran...   \n",
       "2      {'NoiseLevel': \"u'quiet'\", 'GoodForMeal': \"{'d...   \n",
       "3      {'Smoking': \"u'no'\", 'NoiseLevel': \"u'average'...   \n",
       "4      {'RestaurantsReservations': 'False', 'Caters':...   \n",
       "...                                                  ...   \n",
       "14563  {'RestaurantsGoodForGroups': 'True', 'BikePark...   \n",
       "14564  {'BusinessParking': \"{'garage': False, 'street...   \n",
       "14566  {'BusinessAcceptsCreditCards': 'True', 'Wheelc...   \n",
       "14567  {'ByAppointmentOnly': 'True', 'GoodForKids': '...   \n",
       "14568  {'WheelchairAccessible': 'False', 'Restaurants...   \n",
       "\n",
       "                                              categories  \\\n",
       "0      Restaurants, Food, Bubble Tea, Coffee & Tea, B...   \n",
       "1                      Sushi Bars, Restaurants, Japanese   \n",
       "2                                    Korean, Restaurants   \n",
       "3      Cocktail Bars, Bars, Italian, Nightlife, Resta...   \n",
       "4                        Pizza, Restaurants, Salad, Soup   \n",
       "...                                                  ...   \n",
       "14563  Coffee & Tea, Food, Sandwiches, American (Trad...   \n",
       "14564                Fashion, Shopping, Women's Clothing   \n",
       "14566        Day Spas, Beauty & Spas, Skin Care, Massage   \n",
       "14567  Health & Medical, Yoga, Shopping, Naturopathic...   \n",
       "14568                               Restaurants, Mexican   \n",
       "\n",
       "                                                   hours  \n",
       "0      {'Monday': '7:0-20:0', 'Tuesday': '7:0-20:0', ...  \n",
       "1      {'Tuesday': '13:30-22:0', 'Wednesday': '13:30-...  \n",
       "2      {'Monday': '11:30-20:30', 'Tuesday': '11:30-20...  \n",
       "3      {'Monday': '16:0-0:0', 'Tuesday': '16:0-0:0', ...  \n",
       "4      {'Tuesday': '17:0-21:30', 'Wednesday': '17:0-1...  \n",
       "...                                                  ...  \n",
       "14563  {'Monday': '9:0-19:30', 'Tuesday': '9:0-19:30'...  \n",
       "14564  {'Monday': '10:0-19:0', 'Tuesday': '10:0-19:0'...  \n",
       "14566  {'Monday': '9:0-22:0', 'Tuesday': '9:0-22:0', ...  \n",
       "14567  {'Monday': '7:0-20:0', 'Tuesday': '7:0-20:0', ...  \n",
       "14568  {'Monday': '11:0-22:0', 'Tuesday': '11:0-22:0'...  \n",
       "\n",
       "[10692 rows x 16 columns]"
      ]
     },
     "execution_count": 16,
     "metadata": {},
     "output_type": "execute_result"
    }
   ],
   "source": [
    "df = pd.read_csv('businessPhilly.csv')\n",
    "\n",
    "df.head()\n",
    "df.dropna()"
   ]
  },
  {
   "cell_type": "markdown",
   "metadata": {},
   "source": [
    "<span style=\"color:black; font-weight:700;font-size:18px\"> Ο υπολογιστής μου αδυνατούσε να διαβάσει ολόκληρο το αρχείο και να επιλέξει τα reviews με business_id που υπάρχουν στο απο πάνω αρχείο. Δοκίμασα αρχικά να διαβάζω με την read_json και να κάνω batches και skip, αλλά ούτε αυτό δούλευε, με όσο μικρό batch και αν διάλεγα. Οπότε επέλεξα το απλό σκεπτικό, ότι διαβάζω γραμμή-γραμμή, κάνω τον επιθυμητό έλεγχο και μόλις διαβαστούν 100 γραμμές αδειάζω την λίστα. Καταφεύγοντας στην πιο απλή μέθοδο, απέφυγα το πρόβλημα μνήμης. </span>"
   ]
  },
  {
   "cell_type": "code",
   "execution_count": 18,
   "metadata": {},
   "outputs": [],
   "source": [
    "# the plan: read line by line, append, delete the read line"
   ]
  },
  {
   "cell_type": "code",
   "execution_count": 38,
   "metadata": {
    "scrolled": true
   },
   "outputs": [],
   "source": [
    "data = []\n",
    "reviews = []\n",
    "phillyBusiness = np.array(df.business_id.values)\n",
    "i = 0\n",
    "realCounter = 0\n",
    "with open('yelp_dataset/yelp_academic_dataset_review.json', encoding='utf-8') as f:\n",
    "    for line in f:\n",
    "        data.append(json.loads(line))\n",
    "        #print(data[i][\"business_id\"])\n",
    "        if(data[i][\"business_id\"] in phillyBusiness):\n",
    "            reviews.append(data[i])\n",
    "            #print(\"Found one! at:\",realCounter)\n",
    "        \n",
    "        #break after 1000 lines\n",
    "        #if(realCounter==10000):\n",
    "        #    break\n",
    "        if(i==1000):\n",
    "            #print(\"~~~~~~~~~~~~~~~~~~~~~~~~~~~~~~~~~~~~~~~~~~~~~~~~~~~~~~~~~~~~~~~~~\")\n",
    "            # clear the list so we dont have memory problem\n",
    "            data = []\n",
    "            i = -1\n",
    "        i+=1\n",
    "        realCounter += 1"
   ]
  },
  {
   "cell_type": "code",
   "execution_count": 39,
   "metadata": {},
   "outputs": [],
   "source": [
    "revDf = pd.DataFrame(reviews)"
   ]
  },
  {
   "cell_type": "code",
   "execution_count": 40,
   "metadata": {},
   "outputs": [
    {
     "data": {
      "text/html": [
       "<div>\n",
       "<style scoped>\n",
       "    .dataframe tbody tr th:only-of-type {\n",
       "        vertical-align: middle;\n",
       "    }\n",
       "\n",
       "    .dataframe tbody tr th {\n",
       "        vertical-align: top;\n",
       "    }\n",
       "\n",
       "    .dataframe thead th {\n",
       "        text-align: right;\n",
       "    }\n",
       "</style>\n",
       "<table border=\"1\" class=\"dataframe\">\n",
       "  <thead>\n",
       "    <tr style=\"text-align: right;\">\n",
       "      <th></th>\n",
       "      <th>review_id</th>\n",
       "      <th>user_id</th>\n",
       "      <th>business_id</th>\n",
       "      <th>stars</th>\n",
       "      <th>useful</th>\n",
       "      <th>funny</th>\n",
       "      <th>cool</th>\n",
       "      <th>text</th>\n",
       "      <th>date</th>\n",
       "    </tr>\n",
       "  </thead>\n",
       "  <tbody>\n",
       "    <tr>\n",
       "      <th>0</th>\n",
       "      <td>BiTunyQ73aT9WBnpR9DZGw</td>\n",
       "      <td>OyoGAe7OKpv6SyGZT5g77Q</td>\n",
       "      <td>7ATYjTIgM3jUlt4UM3IypQ</td>\n",
       "      <td>5.0</td>\n",
       "      <td>1</td>\n",
       "      <td>0</td>\n",
       "      <td>1</td>\n",
       "      <td>I've taken a lot of spin classes over the year...</td>\n",
       "      <td>2012-01-03 15:28:18</td>\n",
       "    </tr>\n",
       "    <tr>\n",
       "      <th>1</th>\n",
       "      <td>AqPFMleE6RsU23_auESxiA</td>\n",
       "      <td>_7bHUi9Uuf5__HHc_Q8guQ</td>\n",
       "      <td>kxX2SOes4o-D3ZQBkiMRfA</td>\n",
       "      <td>5.0</td>\n",
       "      <td>1</td>\n",
       "      <td>0</td>\n",
       "      <td>1</td>\n",
       "      <td>Wow!  Yummy, different,  delicious.   Our favo...</td>\n",
       "      <td>2015-01-04 00:01:03</td>\n",
       "    </tr>\n",
       "    <tr>\n",
       "      <th>2</th>\n",
       "      <td>JrIxlS1TzJ-iCu79ul40cQ</td>\n",
       "      <td>eUta8W_HdHMXPzLBBZhL1A</td>\n",
       "      <td>04UD14gamNjLY0IDYVhHJg</td>\n",
       "      <td>1.0</td>\n",
       "      <td>1</td>\n",
       "      <td>2</td>\n",
       "      <td>1</td>\n",
       "      <td>I am a long term frequent customer of this est...</td>\n",
       "      <td>2015-09-23 23:10:31</td>\n",
       "    </tr>\n",
       "    <tr>\n",
       "      <th>3</th>\n",
       "      <td>8JFGBuHMoiNDyfcxuWNtrA</td>\n",
       "      <td>smOvOajNG0lS4Pq7d8g4JQ</td>\n",
       "      <td>RZtGWDLCAtuipwaZ-UfjmQ</td>\n",
       "      <td>4.0</td>\n",
       "      <td>0</td>\n",
       "      <td>0</td>\n",
       "      <td>0</td>\n",
       "      <td>Good food--loved the gnocchi with marinara\\nth...</td>\n",
       "      <td>2009-10-14 19:57:14</td>\n",
       "    </tr>\n",
       "    <tr>\n",
       "      <th>4</th>\n",
       "      <td>oyaMhzBSwfGgemSGuZCdwQ</td>\n",
       "      <td>Dd1jQj7S-BFGqRbApFzCFw</td>\n",
       "      <td>YtSqYv1Q_pOltsVPSx54SA</td>\n",
       "      <td>5.0</td>\n",
       "      <td>0</td>\n",
       "      <td>0</td>\n",
       "      <td>0</td>\n",
       "      <td>Tremendous service (Big shout out to Douglas) ...</td>\n",
       "      <td>2013-06-24 11:21:25</td>\n",
       "    </tr>\n",
       "  </tbody>\n",
       "</table>\n",
       "</div>"
      ],
      "text/plain": [
       "                review_id                 user_id             business_id  \\\n",
       "0  BiTunyQ73aT9WBnpR9DZGw  OyoGAe7OKpv6SyGZT5g77Q  7ATYjTIgM3jUlt4UM3IypQ   \n",
       "1  AqPFMleE6RsU23_auESxiA  _7bHUi9Uuf5__HHc_Q8guQ  kxX2SOes4o-D3ZQBkiMRfA   \n",
       "2  JrIxlS1TzJ-iCu79ul40cQ  eUta8W_HdHMXPzLBBZhL1A  04UD14gamNjLY0IDYVhHJg   \n",
       "3  8JFGBuHMoiNDyfcxuWNtrA  smOvOajNG0lS4Pq7d8g4JQ  RZtGWDLCAtuipwaZ-UfjmQ   \n",
       "4  oyaMhzBSwfGgemSGuZCdwQ  Dd1jQj7S-BFGqRbApFzCFw  YtSqYv1Q_pOltsVPSx54SA   \n",
       "\n",
       "   stars  useful  funny  cool  \\\n",
       "0    5.0       1      0     1   \n",
       "1    5.0       1      0     1   \n",
       "2    1.0       1      2     1   \n",
       "3    4.0       0      0     0   \n",
       "4    5.0       0      0     0   \n",
       "\n",
       "                                                text                 date  \n",
       "0  I've taken a lot of spin classes over the year...  2012-01-03 15:28:18  \n",
       "1  Wow!  Yummy, different,  delicious.   Our favo...  2015-01-04 00:01:03  \n",
       "2  I am a long term frequent customer of this est...  2015-09-23 23:10:31  \n",
       "3  Good food--loved the gnocchi with marinara\\nth...  2009-10-14 19:57:14  \n",
       "4  Tremendous service (Big shout out to Douglas) ...  2013-06-24 11:21:25  "
      ]
     },
     "execution_count": 40,
     "metadata": {},
     "output_type": "execute_result"
    }
   ],
   "source": [
    "revDf.head()"
   ]
  },
  {
   "cell_type": "code",
   "execution_count": 42,
   "metadata": {},
   "outputs": [
    {
     "name": "stdout",
     "output_type": "stream",
     "text": [
      "967552\n"
     ]
    }
   ],
   "source": [
    "ls = revDf.dropna()\n",
    "print(len(ls.index))"
   ]
  },
  {
   "cell_type": "markdown",
   "metadata": {},
   "source": [
    "<span style=\"color:black; font-weight:700;font-size:18px\"> Αποθηκεύουμε σε αρχείο csv. </span>"
   ]
  },
  {
   "cell_type": "code",
   "execution_count": 43,
   "metadata": {},
   "outputs": [],
   "source": [
    "# save to csv file\n",
    "revDf.to_csv('reviewsPhilly.csv', encoding='utf-8', index=False)"
   ]
  },
  {
   "cell_type": "code",
   "execution_count": null,
   "metadata": {},
   "outputs": [],
   "source": []
  },
  {
   "cell_type": "code",
   "execution_count": null,
   "metadata": {},
   "outputs": [],
   "source": []
  },
  {
   "cell_type": "markdown",
   "metadata": {},
   "source": [
    "# Exercise 3A"
   ]
  },
  {
   "cell_type": "markdown",
   "metadata": {},
   "source": [
    "<span style=\"color:black; font-weight:700;font-size:18px\">Διαβάζουμε τις επιχειρήσεις από την Philadelphia.</span>"
   ]
  },
  {
   "cell_type": "code",
   "execution_count": 148,
   "metadata": {},
   "outputs": [
    {
     "data": {
      "text/html": [
       "<div>\n",
       "<style scoped>\n",
       "    .dataframe tbody tr th:only-of-type {\n",
       "        vertical-align: middle;\n",
       "    }\n",
       "\n",
       "    .dataframe tbody tr th {\n",
       "        vertical-align: top;\n",
       "    }\n",
       "\n",
       "    .dataframe thead th {\n",
       "        text-align: right;\n",
       "    }\n",
       "</style>\n",
       "<table border=\"1\" class=\"dataframe\">\n",
       "  <thead>\n",
       "    <tr style=\"text-align: right;\">\n",
       "      <th></th>\n",
       "      <th>Unnamed: 0</th>\n",
       "      <th>Unnamed: 0.1</th>\n",
       "      <th>business_id</th>\n",
       "      <th>name</th>\n",
       "      <th>address</th>\n",
       "      <th>city</th>\n",
       "      <th>state</th>\n",
       "      <th>postal_code</th>\n",
       "      <th>latitude</th>\n",
       "      <th>longitude</th>\n",
       "      <th>stars</th>\n",
       "      <th>review_count</th>\n",
       "      <th>is_open</th>\n",
       "      <th>attributes</th>\n",
       "      <th>categories</th>\n",
       "      <th>hours</th>\n",
       "    </tr>\n",
       "  </thead>\n",
       "  <tbody>\n",
       "    <tr>\n",
       "      <th>0</th>\n",
       "      <td>3</td>\n",
       "      <td>3</td>\n",
       "      <td>MTSW4McQd7CbVtyjqoe9mw</td>\n",
       "      <td>St Honore Pastries</td>\n",
       "      <td>935 Race St</td>\n",
       "      <td>Philadelphia</td>\n",
       "      <td>PA</td>\n",
       "      <td>19107.0</td>\n",
       "      <td>39.955505</td>\n",
       "      <td>-75.155564</td>\n",
       "      <td>4.0</td>\n",
       "      <td>80</td>\n",
       "      <td>1</td>\n",
       "      <td>{'RestaurantsDelivery': 'False', 'OutdoorSeati...</td>\n",
       "      <td>Restaurants, Food, Bubble Tea, Coffee &amp; Tea, B...</td>\n",
       "      <td>{'Monday': '7:0-20:0', 'Tuesday': '7:0-20:0', ...</td>\n",
       "    </tr>\n",
       "    <tr>\n",
       "      <th>1</th>\n",
       "      <td>15</td>\n",
       "      <td>15</td>\n",
       "      <td>MUTTqe8uqyMdBl186RmNeA</td>\n",
       "      <td>Tuna Bar</td>\n",
       "      <td>205 Race St</td>\n",
       "      <td>Philadelphia</td>\n",
       "      <td>PA</td>\n",
       "      <td>19106.0</td>\n",
       "      <td>39.953949</td>\n",
       "      <td>-75.143226</td>\n",
       "      <td>4.0</td>\n",
       "      <td>245</td>\n",
       "      <td>1</td>\n",
       "      <td>{'RestaurantsReservations': 'True', 'Restauran...</td>\n",
       "      <td>Sushi Bars, Restaurants, Japanese</td>\n",
       "      <td>{'Tuesday': '13:30-22:0', 'Wednesday': '13:30-...</td>\n",
       "    </tr>\n",
       "    <tr>\n",
       "      <th>2</th>\n",
       "      <td>19</td>\n",
       "      <td>19</td>\n",
       "      <td>ROeacJQwBeh05Rqg7F6TCg</td>\n",
       "      <td>BAP</td>\n",
       "      <td>1224 South St</td>\n",
       "      <td>Philadelphia</td>\n",
       "      <td>PA</td>\n",
       "      <td>19147.0</td>\n",
       "      <td>39.943223</td>\n",
       "      <td>-75.162568</td>\n",
       "      <td>4.5</td>\n",
       "      <td>205</td>\n",
       "      <td>1</td>\n",
       "      <td>{'NoiseLevel': \"u'quiet'\", 'GoodForMeal': \"{'d...</td>\n",
       "      <td>Korean, Restaurants</td>\n",
       "      <td>{'Monday': '11:30-20:30', 'Tuesday': '11:30-20...</td>\n",
       "    </tr>\n",
       "    <tr>\n",
       "      <th>3</th>\n",
       "      <td>28</td>\n",
       "      <td>28</td>\n",
       "      <td>QdN72BWoyFypdGJhhI5r7g</td>\n",
       "      <td>Bar One</td>\n",
       "      <td>767 S 9th St</td>\n",
       "      <td>Philadelphia</td>\n",
       "      <td>PA</td>\n",
       "      <td>19147.0</td>\n",
       "      <td>39.939825</td>\n",
       "      <td>-75.157447</td>\n",
       "      <td>4.0</td>\n",
       "      <td>65</td>\n",
       "      <td>0</td>\n",
       "      <td>{'Smoking': \"u'no'\", 'NoiseLevel': \"u'average'...</td>\n",
       "      <td>Cocktail Bars, Bars, Italian, Nightlife, Resta...</td>\n",
       "      <td>{'Monday': '16:0-0:0', 'Tuesday': '16:0-0:0', ...</td>\n",
       "    </tr>\n",
       "    <tr>\n",
       "      <th>4</th>\n",
       "      <td>31</td>\n",
       "      <td>31</td>\n",
       "      <td>Mjboz24M9NlBeiOJKLEd_Q</td>\n",
       "      <td>DeSandro on Main</td>\n",
       "      <td>4105 Main St</td>\n",
       "      <td>Philadelphia</td>\n",
       "      <td>PA</td>\n",
       "      <td>19127.0</td>\n",
       "      <td>40.022466</td>\n",
       "      <td>-75.218314</td>\n",
       "      <td>3.0</td>\n",
       "      <td>41</td>\n",
       "      <td>0</td>\n",
       "      <td>{'RestaurantsReservations': 'False', 'Caters':...</td>\n",
       "      <td>Pizza, Restaurants, Salad, Soup</td>\n",
       "      <td>{'Tuesday': '17:0-21:30', 'Wednesday': '17:0-1...</td>\n",
       "    </tr>\n",
       "  </tbody>\n",
       "</table>\n",
       "</div>"
      ],
      "text/plain": [
       "   Unnamed: 0  Unnamed: 0.1             business_id                name  \\\n",
       "0           3             3  MTSW4McQd7CbVtyjqoe9mw  St Honore Pastries   \n",
       "1          15            15  MUTTqe8uqyMdBl186RmNeA            Tuna Bar   \n",
       "2          19            19  ROeacJQwBeh05Rqg7F6TCg                 BAP   \n",
       "3          28            28  QdN72BWoyFypdGJhhI5r7g             Bar One   \n",
       "4          31            31  Mjboz24M9NlBeiOJKLEd_Q    DeSandro on Main   \n",
       "\n",
       "         address          city state  postal_code   latitude  longitude  \\\n",
       "0    935 Race St  Philadelphia    PA      19107.0  39.955505 -75.155564   \n",
       "1    205 Race St  Philadelphia    PA      19106.0  39.953949 -75.143226   \n",
       "2  1224 South St  Philadelphia    PA      19147.0  39.943223 -75.162568   \n",
       "3   767 S 9th St  Philadelphia    PA      19147.0  39.939825 -75.157447   \n",
       "4   4105 Main St  Philadelphia    PA      19127.0  40.022466 -75.218314   \n",
       "\n",
       "   stars  review_count  is_open  \\\n",
       "0    4.0            80        1   \n",
       "1    4.0           245        1   \n",
       "2    4.5           205        1   \n",
       "3    4.0            65        0   \n",
       "4    3.0            41        0   \n",
       "\n",
       "                                          attributes  \\\n",
       "0  {'RestaurantsDelivery': 'False', 'OutdoorSeati...   \n",
       "1  {'RestaurantsReservations': 'True', 'Restauran...   \n",
       "2  {'NoiseLevel': \"u'quiet'\", 'GoodForMeal': \"{'d...   \n",
       "3  {'Smoking': \"u'no'\", 'NoiseLevel': \"u'average'...   \n",
       "4  {'RestaurantsReservations': 'False', 'Caters':...   \n",
       "\n",
       "                                          categories  \\\n",
       "0  Restaurants, Food, Bubble Tea, Coffee & Tea, B...   \n",
       "1                  Sushi Bars, Restaurants, Japanese   \n",
       "2                                Korean, Restaurants   \n",
       "3  Cocktail Bars, Bars, Italian, Nightlife, Resta...   \n",
       "4                    Pizza, Restaurants, Salad, Soup   \n",
       "\n",
       "                                               hours  \n",
       "0  {'Monday': '7:0-20:0', 'Tuesday': '7:0-20:0', ...  \n",
       "1  {'Tuesday': '13:30-22:0', 'Wednesday': '13:30-...  \n",
       "2  {'Monday': '11:30-20:30', 'Tuesday': '11:30-20...  \n",
       "3  {'Monday': '16:0-0:0', 'Tuesday': '16:0-0:0', ...  \n",
       "4  {'Tuesday': '17:0-21:30', 'Wednesday': '17:0-1...  "
      ]
     },
     "execution_count": 148,
     "metadata": {},
     "output_type": "execute_result"
    }
   ],
   "source": [
    "df = pd.read_csv('businessPhilly.csv')\n",
    "\n",
    "df.head()"
   ]
  },
  {
   "cell_type": "markdown",
   "metadata": {
    "scrolled": true
   },
   "source": [
    "<span style=\"color:black; font-weight:700;font-size:18px\">Λογαριθμίζουμε τον πίνακα.</span>"
   ]
  },
  {
   "cell_type": "code",
   "execution_count": 149,
   "metadata": {
    "scrolled": false
   },
   "outputs": [],
   "source": [
    "logReview = np.log1p(df.review_count.pct_change())"
   ]
  },
  {
   "cell_type": "markdown",
   "metadata": {},
   "source": [
    "<span style=\"color:black; font-weight:700;font-size:18px\">Μετατρέπουμε την στήλη σε λίστα και την χωρίζουμε σε 100 ισομεγέθη διαστήματα.</span>"
   ]
  },
  {
   "cell_type": "code",
   "execution_count": 150,
   "metadata": {},
   "outputs": [
    {
     "name": "stdout",
     "output_type": "stream",
     "text": [
      "How many bins out of review_count column: 100\n"
     ]
    }
   ],
   "source": [
    "# turn column review_count into list\n",
    "reviewList = df['review_count'].tolist()\n",
    "\n",
    "# split review_count list into 10 bins\n",
    "reviewTemp = np.sort(reviewList)\n",
    "reviewListBins=np.array_split(reviewTemp, 100)\n",
    "\n",
    "print(\"How many bins out of review_count column:\",len(reviewListBins))\n",
    "binDict = {}\n",
    "binCounter = 0\n",
    "for i in range(len(reviewListBins)):\n",
    "    if(reviewListBins[i][0] not in binDict):\n",
    "        binCounter = len(reviewListBins[i])\n",
    "        binDict[reviewListBins[i][0]] = binCounter\n",
    "    else:\n",
    "        binCounter += binDict[reviewListBins[i][0]]\n",
    "        binDict[reviewListBins[i][0]] = binCounter\n",
    "#print(binDict)\n",
    "\n",
    "lowBorders = list(binDict.keys())\n",
    "countsPerBorder = list(binDict.values())\n",
    "#print(lowBorders)\n",
    "#print(countsPerBorder)\n",
    "logOfCounts = np.log2(countsPerBorder)\n",
    "#print(logOfCounts)"
   ]
  },
  {
   "cell_type": "markdown",
   "metadata": {},
   "source": [
    "<span style=\"color:black; font-weight:700;font-size:18px\">Κάνουμε sort ώστε να βρούμε το rank και μετά λογαριθμίζουμε.</span>"
   ]
  },
  {
   "cell_type": "code",
   "execution_count": 151,
   "metadata": {},
   "outputs": [],
   "source": [
    "rankReview = reviewList\n",
    "rankReview.sort(reverse=True)\n",
    "rankReview = np.log2(rankReview)\n",
    "#print(rankReview)\n",
    "\n",
    "axx = np.log2(np.arange(1,len(rankReview)+1))"
   ]
  },
  {
   "cell_type": "markdown",
   "metadata": {},
   "source": [
    "<span style=\"color:black; font-weight:700;font-size:18px\">Για το πρώτο plot: Κάνουμε plot 100 bins, στον άξονα x έχουμε το πλήθος των reviews και στον άξονα y το πλήθος των μαγαζιών. Οπότε ανά bin ουσιαστικά έχουμε το πλήθος των μαγαζιών που έχουν τόσο πλήθος reviews. Η πρώτη στήλη έφτανε μέχρι το 7000, αλλά για πρακτικούς λόγους ο άξονας y φτάνει μέχρι το 2000.</span>"
   ]
  },
  {
   "cell_type": "code",
   "execution_count": 152,
   "metadata": {
    "scrolled": false
   },
   "outputs": [
    {
     "data": {
      "image/png": "[encoded data removed]",
      "text/plain": [
       "<Figure size 1440x1440 with 4 Axes>"
      ]
     },
     "metadata": {},
     "output_type": "display_data"
    }
   ],
   "source": [
    "plt.figure(figsize=(20, 20))\n",
    "plt.rcParams.update({'font.size': 15})\n",
    "plt.subplot(2, 2, 1)\n",
    "plt.hist(df.review_count, bins=100, edgecolor=\"black\")\n",
    "plt.xlabel(\"bins\", labelpad=20, weight='bold', size=15)\n",
    "plt.ylabel(\"review_count\", labelpad=20, weight='bold', size=15)\n",
    "plt.xlim(0,1000)\n",
    "plt.ylim(0,2000)\n",
    "\n",
    "\n",
    "plt.rcParams.update({'font.size': 15})\n",
    "plt.subplot(2, 2, 2)\n",
    "plt.hist(logReview, bins=100, edgecolor=\"black\")\n",
    "plt.xlabel(\"log(review_count)\", labelpad=20, weight='bold', size=15)\n",
    "plt.ylabel(\"frequency of review_count\", labelpad=20, weight='bold', size=15)\n",
    "\n",
    "\n",
    "plt.rcParams.update({'font.size': 15})\n",
    "plt.subplot(2, 2, 3)\n",
    "plt.plot(lowBorders,logOfCounts, linewidth=8, marker='x')\n",
    "plt.xlim(0,100)\n",
    "plt.ylabel(\"log(how many reviews of restaurant)\", labelpad=20, weight='bold', size=15)\n",
    "plt.xlabel(\"lowBins\", labelpad=20, weight='bold', size=15)\n",
    "\n",
    "\n",
    "plt.rcParams.update({'font.size': 15})\n",
    "plt.subplot(2, 2, 4)\n",
    "plt.plot(axx,rankReview, linewidth=1, marker='x')\n",
    "plt.xlim(0,20)\n",
    "plt.ylabel(\"log(how many reviews of restaurant)\", labelpad=20, weight='bold', size=15)\n",
    "plt.xlabel(\"rank\", labelpad=20, weight='bold', size=15)\n",
    "\n",
    "\n",
    "plt.show()"
   ]
  },
  {
   "cell_type": "code",
   "execution_count": null,
   "metadata": {},
   "outputs": [],
   "source": []
  },
  {
   "cell_type": "code",
   "execution_count": null,
   "metadata": {},
   "outputs": [],
   "source": []
  },
  {
   "cell_type": "markdown",
   "metadata": {},
   "source": [
    "# Exercise 3B"
   ]
  },
  {
   "cell_type": "markdown",
   "metadata": {},
   "source": [
    "<span style=\"color:black; font-weight:700;font-size:18px\"> Διαβάζουμε για αρχή τα reviews από την Philadelphia, κάνουμε μετατροπή το string σε ημερομηνία και κρατάμε μόνο μέρες, μήνες και χρόνο, δηλαδή έχουμε format yy/mm/dd. Ύστερα κάνουμε group σύμφωνα με date και μέσα σε κάθε dataframe κάνουμε εσωτερικά sort με βάση την ημερομηνία. </span>"
   ]
  },
  {
   "cell_type": "code",
   "execution_count": 50,
   "metadata": {
    "scrolled": true
   },
   "outputs": [],
   "source": [
    "df = pd.read_csv('reviewsPhilly.csv')\n",
    "\n",
    "# convert to date\n",
    "df['date'] = pd.to_datetime(df['date'])\n",
    "\n",
    "# trying to remove the hours/seconds, leave the date only\n",
    "df['date'] = pd.to_datetime(df['date']).dt.date\n",
    "\n",
    "# group by business_id and sort by date within each dataframe\n",
    "df2 = df.sort_values(['date'],ascending=True).groupby('business_id')"
   ]
  },
  {
   "cell_type": "markdown",
   "metadata": {},
   "source": [
    "<span style=\"color:black; font-weight:700;font-size:18px\"> Εδώ πέρα πηγαίνουμε μέσα σε κάθε dataframe από το groupby και βρίσκουμε τρείς στήλες. Η πρώτη νέα στήλη δείχνει σε ποιόν μήνα έχει γραφτεί το review, το οποίο βρίσκουμε με την διαφορά σε μέρες από το πρώτο review και διαίρεση με 30. Στην δεύτερη στήλη τα αστέρια από τα εκάστοτε review και τέλος η τελευταία στήλη μια μονάδα, η οποία είναι βοηθητική για να μετρήσουμε το πλήθος των review ανά μήνα. Έχοντας αυτές τις τρεις στήλες ανά dataframe δημιουργούμε το τελικό dataframe, με τις ίδιες τρεις στήλες, όπου γίνεται πρόσθεση σε κάθε στήλη.</span>"
   ]
  },
  {
   "cell_type": "code",
   "execution_count": 51,
   "metadata": {},
   "outputs": [],
   "source": [
    "starsData = pd.DataFrame([])\n",
    "\n",
    "for bus, reviews in df2:\n",
    "    #print(reviews.head)\n",
    "    #print(type(reviews))\n",
    "    firstDate = reviews['date'].iloc[0]\n",
    "    #print(\"first date:\",firstDate)\n",
    "    ll = []\n",
    "    tup = ()\n",
    "    for d in reviews['date']:\n",
    "        diff = d - firstDate\n",
    "        #print(\"diff in days:\",diff.days)\n",
    "        ll.append(int(diff.days / 30))\n",
    "    \n",
    "    #datall = pd.Series(ll)\n",
    "    #print(reviews)\n",
    "    #reviews = pd.merge(reviews, datall, on=[\"date\"])\n",
    "    reviews = reviews.assign(month=ll)\n",
    "    reviews = reviews.assign(n=[1]*len(ll))\n",
    "    #print(\"after adding:\")\n",
    "    #print(reviews[['month','stars','n']])\n",
    "    curRev = reviews[['month','stars','n']]\n",
    "    starsData = pd.concat([starsData, curRev]).groupby(['month']).sum().reset_index()\n",
    "    #print('=============================')\n",
    "    #print('=============================')"
   ]
  },
  {
   "cell_type": "markdown",
   "metadata": {},
   "source": [
    "<span style=\"color:black; font-weight:700;font-size:18px\"> Θα προσθέσουμε μια τέταρτη στήλη, mean=stars/n (ανά μήνα).</span>"
   ]
  },
  {
   "cell_type": "code",
   "execution_count": 52,
   "metadata": {},
   "outputs": [
    {
     "data": {
      "text/html": [
       "<div>\n",
       "<style scoped>\n",
       "    .dataframe tbody tr th:only-of-type {\n",
       "        vertical-align: middle;\n",
       "    }\n",
       "\n",
       "    .dataframe tbody tr th {\n",
       "        vertical-align: top;\n",
       "    }\n",
       "\n",
       "    .dataframe thead th {\n",
       "        text-align: right;\n",
       "    }\n",
       "</style>\n",
       "<table border=\"1\" class=\"dataframe\">\n",
       "  <thead>\n",
       "    <tr style=\"text-align: right;\">\n",
       "      <th></th>\n",
       "      <th>month</th>\n",
       "      <th>stars</th>\n",
       "      <th>n</th>\n",
       "      <th>mean</th>\n",
       "    </tr>\n",
       "  </thead>\n",
       "  <tbody>\n",
       "    <tr>\n",
       "      <th>0</th>\n",
       "      <td>0</td>\n",
       "      <td>149858.0</td>\n",
       "      <td>37636</td>\n",
       "      <td>3.981773</td>\n",
       "    </tr>\n",
       "    <tr>\n",
       "      <th>1</th>\n",
       "      <td>1</td>\n",
       "      <td>67454.0</td>\n",
       "      <td>16880</td>\n",
       "      <td>3.996090</td>\n",
       "    </tr>\n",
       "    <tr>\n",
       "      <th>2</th>\n",
       "      <td>2</td>\n",
       "      <td>56655.0</td>\n",
       "      <td>14239</td>\n",
       "      <td>3.978861</td>\n",
       "    </tr>\n",
       "    <tr>\n",
       "      <th>3</th>\n",
       "      <td>3</td>\n",
       "      <td>50262.0</td>\n",
       "      <td>12680</td>\n",
       "      <td>3.963880</td>\n",
       "    </tr>\n",
       "    <tr>\n",
       "      <th>4</th>\n",
       "      <td>4</td>\n",
       "      <td>45960.0</td>\n",
       "      <td>11671</td>\n",
       "      <td>3.937966</td>\n",
       "    </tr>\n",
       "  </tbody>\n",
       "</table>\n",
       "</div>"
      ],
      "text/plain": [
       "   month     stars      n      mean\n",
       "0      0  149858.0  37636  3.981773\n",
       "1      1   67454.0  16880  3.996090\n",
       "2      2   56655.0  14239  3.978861\n",
       "3      3   50262.0  12680  3.963880\n",
       "4      4   45960.0  11671  3.937966"
      ]
     },
     "execution_count": 52,
     "metadata": {},
     "output_type": "execute_result"
    }
   ],
   "source": [
    "starsData['mean'] = starsData['stars']/starsData['n']\n",
    "starsData.head()"
   ]
  },
  {
   "cell_type": "markdown",
   "metadata": {},
   "source": [
    "<span style=\"color:black; font-weight:700;font-size:18px\"> Εκτυπώνουμε τον νέο μας πίνακα.</span>"
   ]
  },
  {
   "cell_type": "code",
   "execution_count": 53,
   "metadata": {},
   "outputs": [
    {
     "name": "stdout",
     "output_type": "stream",
     "text": [
      "     month     stars      n      mean\n",
      "0        0  149858.0  37636  3.981773\n",
      "1        1   67454.0  16880  3.996090\n",
      "2        2   56655.0  14239  3.978861\n",
      "3        3   50262.0  12680  3.963880\n",
      "4        4   45960.0  11671  3.937966\n",
      "..     ...       ...    ...       ...\n",
      "201    201     219.0     60  3.650000\n",
      "202    202     184.0     48  3.833333\n",
      "203    203      26.0     11  2.363636\n",
      "204    204      33.0     12  2.750000\n",
      "205    205      22.0      6  3.666667\n",
      "\n",
      "[206 rows x 4 columns]\n"
     ]
    }
   ],
   "source": [
    "print(starsData)"
   ]
  },
  {
   "cell_type": "markdown",
   "metadata": {},
   "source": [
    "<span style=\"color:black; font-weight:700;font-size:18px\"> Βρίσκουμε το confidence interval από τον τύπο και εκτυπώνουμε το γράφημα μέσο όρο αστεριών ανά μήνα.</span>"
   ]
  },
  {
   "cell_type": "code",
   "execution_count": 54,
   "metadata": {},
   "outputs": [],
   "source": [
    "# ci = 1.95*σ/sqr_root(n), we chose 1.96 cause of 95%\n",
    "ci = 1.96 * np.std(starsData['mean'])/np.sqrt(206)"
   ]
  },
  {
   "cell_type": "code",
   "execution_count": 55,
   "metadata": {},
   "outputs": [
    {
     "data": {
      "image/png": "[encoded data removed]",
      "text/plain": [
       "<Figure size 2160x1440 with 1 Axes>"
      ]
     },
     "metadata": {
      "needs_background": "light"
     },
     "output_type": "display_data"
    }
   ],
   "source": [
    "%matplotlib inline \n",
    "plt.figure(figsize=(30, 20))\n",
    "plt.rcParams.update({'font.size': 30})\n",
    "#starsData.plot(x='month', y = 'mean',color='blue', linewidth=1, marker='x')\n",
    "x_axis = starsData['month'].values\n",
    "mean = starsData['mean'].values\n",
    "plt.plot(x_axis,mean,color='blue', linewidth=1, marker='x')\n",
    "plt.fill_between(x_axis,(mean-ci),(mean+ci),color='blue', linewidth=1,alpha=.1)\n",
    "plt.xlim(0,207)\n",
    "plt.ylabel(\"mean of stars per month\", labelpad=20, weight='bold', size=30)\n",
    "plt.xlabel(\"month\", labelpad=20, weight='bold', size=30)\n",
    "\n",
    "plt.show();"
   ]
  },
  {
   "cell_type": "markdown",
   "metadata": {},
   "source": [
    "<span style=\"color:black; font-weight:700;font-size:18px\"> Κρατάμε τις πρώτες 60 τιμές, τα πρώτα 5 χρόνια, βρίσκουμε το confidence interval από τον τύπο και εκτυπώνουμε το γράφημα μέσο όρο αστεριών ανά μήνα για τα πρώτα 5 χρόνια.</span>"
   ]
  },
  {
   "cell_type": "code",
   "execution_count": 56,
   "metadata": {},
   "outputs": [],
   "source": [
    "# get the mean of reviews for the first 5 years\n",
    "meanOfStars5yr = mean[:61]\n",
    "\n",
    "# ci = 1.95*σ/sqr_root(n), we chose 1.96 cause of 95%\n",
    "ci = 1.96 * np.std(meanOfStars5yr)/np.sqrt(61)"
   ]
  },
  {
   "cell_type": "code",
   "execution_count": 57,
   "metadata": {
    "scrolled": false
   },
   "outputs": [
    {
     "data": {
      "image/png": "[encoded data removed]",
      "text/plain": [
       "<Figure size 2160x1440 with 1 Axes>"
      ]
     },
     "metadata": {
      "needs_background": "light"
     },
     "output_type": "display_data"
    }
   ],
   "source": [
    "plt.figure(figsize=(30, 20))\n",
    "plt.rcParams.update({'font.size': 30})\n",
    "ax = plt.plot(np.arange(1,62),meanOfStars5yr,color='blue', linewidth=2, marker='x')\n",
    "plt.fill_between(np.arange(1,62),(meanOfStars5yr-ci),(meanOfStars5yr+ci),color='blue', linewidth=1,alpha=.1)\n",
    "plt.xlim(0,60)\n",
    "plt.ylabel(\"mean of stars per month\", labelpad=20, weight='bold', size=30)\n",
    "plt.xlabel(\"month\", labelpad=20, weight='bold', size=30)\n",
    "plt.show()"
   ]
  },
  {
   "cell_type": "code",
   "execution_count": null,
   "metadata": {},
   "outputs": [],
   "source": []
  },
  {
   "cell_type": "code",
   "execution_count": null,
   "metadata": {},
   "outputs": [],
   "source": []
  },
  {
   "cell_type": "markdown",
   "metadata": {},
   "source": [
    "# Exercise 3C"
   ]
  },
  {
   "cell_type": "markdown",
   "metadata": {},
   "source": [
    "<span style=\"color:black; font-weight:700;font-size:18px\"> Διαβάζουμε το αρχείο RedfinPhila.tsv και κρατάμε μόνο τις στήλες region και median_sale_price. </span>"
   ]
  },
  {
   "cell_type": "code",
   "execution_count": 58,
   "metadata": {},
   "outputs": [],
   "source": [
    "bus = pd.read_csv('businessPhilly.csv', converters={'postal_code' : str})"
   ]
  },
  {
   "cell_type": "code",
   "execution_count": 59,
   "metadata": {},
   "outputs": [],
   "source": [
    "postalData = pd.read_csv('businessPhillyPostalCode.csv')"
   ]
  },
  {
   "cell_type": "code",
   "execution_count": 60,
   "metadata": {},
   "outputs": [
    {
     "name": "stdout",
     "output_type": "stream",
     "text": [
      "                region  median_sale_price\n",
      "0      Zip Code: 19070           252438.0\n",
      "1      Zip Code: 19078           580000.0\n",
      "2      Zip Code: 19043           219900.0\n",
      "3      Zip Code: 19124            55125.0\n",
      "4      Zip Code: 19124            69000.0\n",
      "...                ...                ...\n",
      "45239  Zip Code: 19041          1200819.0\n",
      "45240  Zip Code: 19079            50000.0\n",
      "45241  Zip Code: 19127           208500.0\n",
      "45242  Zip Code: 44663            90500.0\n",
      "45243  Zip Code: 19151           143500.0\n",
      "\n",
      "[45244 rows x 2 columns]\n"
     ]
    }
   ],
   "source": [
    "realEst = pd.read_csv('RedfinPhila.tsv', sep='\\t')\n",
    "\n",
    "# printing data\n",
    "realEst.head()\n",
    "realEstRegion = realEst[['region','median_sale_price']]\n",
    "\n",
    "print(realEstRegion)"
   ]
  },
  {
   "cell_type": "markdown",
   "metadata": {},
   "source": [
    "<span style=\"color:black; font-weight:700;font-size:18px\"> Κάνουμε groupby το dataframe μας σύμφωνα με region και μπαίνοντας μέσα σε κάθε dataframe του κάθε region υπολογίζουμε την μέση τιμή. </span>"
   ]
  },
  {
   "cell_type": "code",
   "execution_count": 125,
   "metadata": {},
   "outputs": [],
   "source": [
    "region_groups = realEstRegion.groupby('region')\n",
    "\n",
    "# key is the zip_code and the value is the MEAN of all median_sale_prices\n",
    "region_dict = {}\n",
    "\n",
    "for region, region_data in region_groups:\n",
    "    #print(region)\n",
    "    #print(region_data.head())\n",
    "    medianList = region_data['median_sale_price'].values\n",
    "    med = 0\n",
    "    for i in range(len(medianList)):\n",
    "        med += medianList[i]\n",
    "    region_dict[region[10:]] = med/len(medianList)\n",
    "    #print(\"Mean of region:\",med/len(medianList))\n",
    "    #print('=============================')"
   ]
  },
  {
   "cell_type": "code",
   "execution_count": 62,
   "metadata": {},
   "outputs": [],
   "source": [
    "regions = list(region_dict.keys())\n",
    "\n",
    "# here the following line WASNT a comment... \n",
    "#regions = regions[len(regions)//2:]\n",
    "\n",
    "meanOfRegions = []\n",
    "for reg in regions:\n",
    "    meanOfRegions.append(region_dict[reg])"
   ]
  },
  {
   "cell_type": "markdown",
   "metadata": {},
   "source": [
    "<span style=\"color:black; font-weight:700;font-size:18px\"> Για κάποιον λόγο το postal_code μέσα στο csv είχε αποθηκευτεί ως float αυτόματα. Ψάχνοτας στο διαδίκτυο είδα ότι έχει ξανασυμβεί σε άτομα και έπρεπε να το λύσω \"χειροκίνητα\". Δοκίμασα να διαβάσω από κάποια json αρχείο, αλλά μάταια. Χρειάστηκε να γεμίσω τις άδειες τιμές με 0, να μετατρέψω το float σε int για να πάρω το floor της τιμής και τέλος να γίνει str. </span>"
   ]
  },
  {
   "cell_type": "code",
   "execution_count": 63,
   "metadata": {},
   "outputs": [],
   "source": [
    "# replace column\n",
    "postalData = postalData.fillna(0)\n",
    "postalData = postalData.astype(int)\n",
    "postalData = postalData.astype(str)\n",
    "\n",
    "bus['postal_code'] = postalData['postal_code']"
   ]
  },
  {
   "cell_type": "markdown",
   "metadata": {},
   "source": [
    "<span style=\"color:black; font-weight:700;font-size:18px\"> Παίρνουμε την μέση τιμή του κάθε region. </span>"
   ]
  },
  {
   "cell_type": "code",
   "execution_count": 64,
   "metadata": {
    "scrolled": true
   },
   "outputs": [
    {
     "name": "stderr",
     "output_type": "stream",
     "text": [
      "<ipython-input-64-fb943317cd20>:23: RuntimeWarning: invalid value encountered in double_scalars\n",
      "  meanOfStars.append(sumOfStars/n)\n"
     ]
    }
   ],
   "source": [
    "# here we make the list that has the amount of businesses in the region\n",
    "business_inRegion = []\n",
    "meanOfStars = []\n",
    "for i in range(len(regions)):\n",
    "    # count returns a COLUMN(type: dataframe), not a whole dFrame of all the rows with region==the zip_code\n",
    "    # along with some info about it. The first info is the count of rows\n",
    "    # aka how many businesses we have.\n",
    "    count = bus[bus.postal_code == regions[i]]\n",
    "    n = len(count.index)\n",
    "    sumOfStars = count['stars'].sum()\n",
    "    #print(\"LENGTH:\",n)\n",
    "    #print(\"star column\\n\",count['stars'])\n",
    "    #print(\"sum of stars\",sumOfStars)\n",
    "    #print(\"##############################\")\n",
    "    #print(\"##############################\")\n",
    "    #print(\"##############################\")\n",
    "    #here we get a dataframe with all the rows with region==the zip_code and we sum the column of the stars\n",
    "    #sumOfStars = bus[bus.postal_code == regions[i]].sum()[8]\n",
    "    #print(sumOfStars,count[0])\n",
    "    \n",
    "    # we get some warnings because some regions DONT have businesses, so count = 0\n",
    "    business_inRegion.append(n)\n",
    "    meanOfStars.append(sumOfStars/n)"
   ]
  },
  {
   "cell_type": "code",
   "execution_count": 65,
   "metadata": {
    "scrolled": false
   },
   "outputs": [
    {
     "name": "stdout",
     "output_type": "stream",
     "text": [
      "106 106 106 106\n"
     ]
    }
   ],
   "source": [
    "#checking that we have same of amounts of records\n",
    "print(len(regions),len(meanOfRegions),len(business_inRegion), len(meanOfStars))"
   ]
  },
  {
   "cell_type": "code",
   "execution_count": 66,
   "metadata": {},
   "outputs": [],
   "source": [
    "record = {'region' : regions,\n",
    "          'meanOfRegions' : meanOfRegions,\n",
    "          'countOfBusiness' : business_inRegion,\n",
    "          'meanOfStars' : meanOfStars} \n",
    "\n",
    "data = pd.DataFrame(record, columns = ['region', 'meanOfRegions', 'countOfBusiness', 'meanOfStars'])"
   ]
  },
  {
   "cell_type": "markdown",
   "metadata": {},
   "source": [
    "<span style=\"color:black; font-weight:700;font-size:18px\"> Βλέποντας στο heat-map τα correlation μπορούμε να πούμε ότι υπάρχει κάποια συσχέτιση μεταξύ meanOfRegions-countOfBusiness και meanOfStars-countOfBusiness. Κοιτώντας βέβαια και το pairplot η συσχετίση meanOfRegions-countOfBusiness είναι διακριτή με correlation = 0.32 </span>"
   ]
  },
  {
   "cell_type": "code",
   "execution_count": 69,
   "metadata": {},
   "outputs": [
    {
     "data": {
      "text/plain": [
       "<seaborn.axisgrid.PairGrid at 0x179cc035af0>"
      ]
     },
     "execution_count": 69,
     "metadata": {},
     "output_type": "execute_result"
    },
    {
     "data": {
      "image/png": "[encoded data removed]",
      "text/plain": [
       "<Figure size 540x540 with 12 Axes>"
      ]
     },
     "metadata": {},
     "output_type": "display_data"
    }
   ],
   "source": [
    "sns.set(rc={'figure.figsize':(11.7,8.27)})\n",
    "sns.pairplot(data)"
   ]
  },
  {
   "cell_type": "code",
   "execution_count": 70,
   "metadata": {},
   "outputs": [
    {
     "data": {
      "text/plain": [
       "<AxesSubplot:>"
      ]
     },
     "execution_count": 70,
     "metadata": {},
     "output_type": "execute_result"
    },
    {
     "data": {
      "image/png": "[encoded data removed]",
      "text/plain": [
       "<Figure size 842.4x595.44 with 2 Axes>"
      ]
     },
     "metadata": {},
     "output_type": "display_data"
    }
   ],
   "source": [
    "sns.set(rc={'figure.figsize':(11.7,8.27)})\n",
    "sns.heatmap(data.corr(), annot=True)"
   ]
  },
  {
   "cell_type": "markdown",
   "metadata": {},
   "source": [
    "<span style=\"color:black; font-weight:700;font-size:18px\"> Με το t-test βρίσκουμε μικρό p-value. </span>"
   ]
  },
  {
   "cell_type": "code",
   "execution_count": 135,
   "metadata": {},
   "outputs": [
    {
     "data": {
      "text/plain": [
       "Ttest_indResult(statistic=-13.658452342577208, pvalue=8.187383300637235e-31)"
      ]
     },
     "execution_count": 135,
     "metadata": {},
     "output_type": "execute_result"
    }
   ],
   "source": [
    "stats.ttest_ind(data['countOfBusiness'], data['meanOfRegions'], axis=0,equal_var=True)"
   ]
  },
  {
   "cell_type": "code",
   "execution_count": null,
   "metadata": {},
   "outputs": [],
   "source": []
  },
  {
   "cell_type": "code",
   "execution_count": null,
   "metadata": {},
   "outputs": [],
   "source": []
  },
  {
   "cell_type": "markdown",
   "metadata": {},
   "source": [
    "<span style=\"color:black; font-weight:700;font-size:18px\"> Παίρνουμε μόνο τα σπίτια με πάνω από 200χιλ μέσο όρο και επαναλαμβάνουμε την διαδικασία. </span>"
   ]
  },
  {
   "cell_type": "code",
   "execution_count": 49,
   "metadata": {},
   "outputs": [],
   "source": [
    "# time for houses over 200k"
   ]
  },
  {
   "cell_type": "code",
   "execution_count": 71,
   "metadata": {},
   "outputs": [
    {
     "data": {
      "text/html": [
       "<div>\n",
       "<style scoped>\n",
       "    .dataframe tbody tr th:only-of-type {\n",
       "        vertical-align: middle;\n",
       "    }\n",
       "\n",
       "    .dataframe tbody tr th {\n",
       "        vertical-align: top;\n",
       "    }\n",
       "\n",
       "    .dataframe thead th {\n",
       "        text-align: right;\n",
       "    }\n",
       "</style>\n",
       "<table border=\"1\" class=\"dataframe\">\n",
       "  <thead>\n",
       "    <tr style=\"text-align: right;\">\n",
       "      <th></th>\n",
       "      <th>region</th>\n",
       "      <th>median_sale_price</th>\n",
       "    </tr>\n",
       "  </thead>\n",
       "  <tbody>\n",
       "    <tr>\n",
       "      <th>0</th>\n",
       "      <td>Zip Code: 19070</td>\n",
       "      <td>252438.0</td>\n",
       "    </tr>\n",
       "    <tr>\n",
       "      <th>1</th>\n",
       "      <td>Zip Code: 19078</td>\n",
       "      <td>580000.0</td>\n",
       "    </tr>\n",
       "    <tr>\n",
       "      <th>2</th>\n",
       "      <td>Zip Code: 19043</td>\n",
       "      <td>219900.0</td>\n",
       "    </tr>\n",
       "    <tr>\n",
       "      <th>3</th>\n",
       "      <td>Zip Code: 19124</td>\n",
       "      <td>55125.0</td>\n",
       "    </tr>\n",
       "    <tr>\n",
       "      <th>4</th>\n",
       "      <td>Zip Code: 19124</td>\n",
       "      <td>69000.0</td>\n",
       "    </tr>\n",
       "  </tbody>\n",
       "</table>\n",
       "</div>"
      ],
      "text/plain": [
       "            region  median_sale_price\n",
       "0  Zip Code: 19070           252438.0\n",
       "1  Zip Code: 19078           580000.0\n",
       "2  Zip Code: 19043           219900.0\n",
       "3  Zip Code: 19124            55125.0\n",
       "4  Zip Code: 19124            69000.0"
      ]
     },
     "execution_count": 71,
     "metadata": {},
     "output_type": "execute_result"
    }
   ],
   "source": [
    "realEstRegion.head()"
   ]
  },
  {
   "cell_type": "code",
   "execution_count": 72,
   "metadata": {},
   "outputs": [
    {
     "data": {
      "text/html": [
       "<div>\n",
       "<style scoped>\n",
       "    .dataframe tbody tr th:only-of-type {\n",
       "        vertical-align: middle;\n",
       "    }\n",
       "\n",
       "    .dataframe tbody tr th {\n",
       "        vertical-align: top;\n",
       "    }\n",
       "\n",
       "    .dataframe thead th {\n",
       "        text-align: right;\n",
       "    }\n",
       "</style>\n",
       "<table border=\"1\" class=\"dataframe\">\n",
       "  <thead>\n",
       "    <tr style=\"text-align: right;\">\n",
       "      <th></th>\n",
       "      <th>region</th>\n",
       "      <th>median_sale_price</th>\n",
       "    </tr>\n",
       "  </thead>\n",
       "  <tbody>\n",
       "    <tr>\n",
       "      <th>0</th>\n",
       "      <td>Zip Code: 19070</td>\n",
       "      <td>252438.0</td>\n",
       "    </tr>\n",
       "    <tr>\n",
       "      <th>1</th>\n",
       "      <td>Zip Code: 19078</td>\n",
       "      <td>580000.0</td>\n",
       "    </tr>\n",
       "    <tr>\n",
       "      <th>2</th>\n",
       "      <td>Zip Code: 19043</td>\n",
       "      <td>219900.0</td>\n",
       "    </tr>\n",
       "    <tr>\n",
       "      <th>5</th>\n",
       "      <td>Zip Code: 19104</td>\n",
       "      <td>215000.0</td>\n",
       "    </tr>\n",
       "    <tr>\n",
       "      <th>7</th>\n",
       "      <td>Zip Code: 19115</td>\n",
       "      <td>250999.5</td>\n",
       "    </tr>\n",
       "  </tbody>\n",
       "</table>\n",
       "</div>"
      ],
      "text/plain": [
       "            region  median_sale_price\n",
       "0  Zip Code: 19070           252438.0\n",
       "1  Zip Code: 19078           580000.0\n",
       "2  Zip Code: 19043           219900.0\n",
       "5  Zip Code: 19104           215000.0\n",
       "7  Zip Code: 19115           250999.5"
      ]
     },
     "execution_count": 72,
     "metadata": {},
     "output_type": "execute_result"
    }
   ],
   "source": [
    "realEstRegion = realEstRegion[realEstRegion.median_sale_price > 200000]\n",
    "realEstRegion.head()"
   ]
  },
  {
   "cell_type": "code",
   "execution_count": 126,
   "metadata": {},
   "outputs": [],
   "source": [
    "region_groups_2 = realEstRegion.groupby('region')\n",
    "\n",
    "# key is the zip_code and the value is the MEAN of all median_sale_prices\n",
    "region_dict_2 = {}\n",
    "\n",
    "for region, region_data in region_groups_2:\n",
    "    #print(region)\n",
    "    #print(region_data.head())\n",
    "    medianList = region_data['median_sale_price'].values\n",
    "    med = 0\n",
    "    for i in range(len(medianList)):\n",
    "        med += medianList[i]\n",
    "    region_dict_2[region[10:]] = med/len(medianList)\n",
    "    #print(\"Mean of region:\",med/len(medianList))\n",
    "    #print('=============================')"
   ]
  },
  {
   "cell_type": "code",
   "execution_count": 74,
   "metadata": {},
   "outputs": [],
   "source": [
    "regions_2 = list(region_dict_2.keys())\n",
    "\n",
    "# here the following line WASNT a comment... \n",
    "#regions = regions[len(regions)//2:]\n",
    "\n",
    "meanOfRegions_2 = []\n",
    "for reg in regions_2:\n",
    "    meanOfRegions_2.append(region_dict_2[reg])"
   ]
  },
  {
   "cell_type": "code",
   "execution_count": 75,
   "metadata": {},
   "outputs": [
    {
     "name": "stderr",
     "output_type": "stream",
     "text": [
      "<ipython-input-75-645aea386c4a>:23: RuntimeWarning: invalid value encountered in double_scalars\n",
      "  meanOfStars_2.append(sumOfStars/n)\n"
     ]
    }
   ],
   "source": [
    "# here we make the list that has the amount of businesses in the region\n",
    "business_inRegion_2 = []\n",
    "meanOfStars_2 = []\n",
    "for i in range(len(regions_2)):\n",
    "    # count returns a COLUMN(type: dataframe), not a whole dFrame of all the rows with region==the zip_code\n",
    "    # along with some info about it. The first info is the count of rows\n",
    "    # aka how many businesses we have.\n",
    "    count = bus[bus.postal_code == regions_2[i]]\n",
    "    n = len(count.index)\n",
    "    sumOfStars = count['stars'].sum()\n",
    "    #print(\"LENGTH:\",n)\n",
    "    #print(\"star column\\n\",count['stars'])\n",
    "    #print(\"sum of stars\",sumOfStars)\n",
    "    #print(\"##############################\")\n",
    "    #print(\"##############################\")\n",
    "    #print(\"##############################\")\n",
    "    #here we get a dataframe with all the rows with region==the zip_code and we sum the column of the stars\n",
    "    #sumOfStars = bus[bus.postal_code == regions[i]].sum()[8]\n",
    "    #print(sumOfStars,count[0])\n",
    "    \n",
    "    # we get some warnings because some regions DONT have businesses, so count = 0\n",
    "    business_inRegion_2.append(n)\n",
    "    meanOfStars_2.append(sumOfStars/n)"
   ]
  },
  {
   "cell_type": "code",
   "execution_count": 76,
   "metadata": {},
   "outputs": [],
   "source": [
    "record_2 = {'region' : regions_2,\n",
    "          'meanOfRegions' : meanOfRegions_2,\n",
    "          'countOfBusiness' : business_inRegion_2,\n",
    "          'meanOfStars' : meanOfStars_2} \n",
    "\n",
    "data_2 = pd.DataFrame(record_2, columns = ['region', 'meanOfRegions', 'countOfBusiness', 'meanOfStars'])"
   ]
  },
  {
   "cell_type": "markdown",
   "metadata": {},
   "source": [
    "<span style=\"color:black; font-weight:700;font-size:18px\"> Τώρα έχουμε μια αντιστροφή στις συσχετίσεις μας. Τώρα, η συσχετίση countOfBusiness-meanOfStars είναι υψηλότερη. Δηλαδή στο υψηλό μέσο όρο αστεριών έχουμε περισσότερες επιχειρήσεις (δες pairplot). </span>"
   ]
  },
  {
   "cell_type": "code",
   "execution_count": 77,
   "metadata": {},
   "outputs": [
    {
     "data": {
      "text/plain": [
       "<seaborn.axisgrid.PairGrid at 0x179c7419be0>"
      ]
     },
     "execution_count": 77,
     "metadata": {},
     "output_type": "execute_result"
    },
    {
     "data": {
      "image/png": "[encoded data removed]",
      "text/plain": [
       "<Figure size 540x540 with 12 Axes>"
      ]
     },
     "metadata": {},
     "output_type": "display_data"
    }
   ],
   "source": [
    "sns.set(rc={'figure.figsize':(11.7,8.27)})\n",
    "sns.pairplot(data_2)"
   ]
  },
  {
   "cell_type": "code",
   "execution_count": 78,
   "metadata": {},
   "outputs": [
    {
     "data": {
      "text/plain": [
       "<AxesSubplot:>"
      ]
     },
     "execution_count": 78,
     "metadata": {},
     "output_type": "execute_result"
    },
    {
     "data": {
      "image/png": "[encoded data removed]",
      "text/plain": [
       "<Figure size 842.4x595.44 with 2 Axes>"
      ]
     },
     "metadata": {},
     "output_type": "display_data"
    }
   ],
   "source": [
    "sns.set(rc={'figure.figsize':(11.7,8.27)})\n",
    "sns.heatmap(data_2.corr(), annot=True)"
   ]
  },
  {
   "cell_type": "code",
   "execution_count": null,
   "metadata": {},
   "outputs": [],
   "source": []
  },
  {
   "cell_type": "markdown",
   "metadata": {},
   "source": [
    "# Exercise 3D "
   ]
  },
  {
   "cell_type": "markdown",
   "metadata": {},
   "source": [
    "<span style=\"color:black; font-weight:700;font-size:18px\"> Διαβάζουμε και κρατάμε μόνο τις γραμμές όπου στην στήλη categories περιέχει την λέξη restaurant. </span>"
   ]
  },
  {
   "cell_type": "code",
   "execution_count": 84,
   "metadata": {},
   "outputs": [],
   "source": [
    "# READING JSON FILE IS BETTER BECAUSE CSV TURNS ALL COLUMNS TO STRINGS\n",
    "with open('businessPhilly.json', encoding='utf-8') as inputfile:\n",
    "    bus = pd.read_json(inputfile)\n",
    "\n",
    "bus = pd.read_json('businessPhilly.json')\n",
    "\n",
    "# get all businesses that have restaurants in category\n",
    "rest = bus[bus['categories'].str.contains('Restaurant', na=False)]"
   ]
  },
  {
   "cell_type": "code",
   "execution_count": 85,
   "metadata": {},
   "outputs": [
    {
     "data": {
      "text/html": [
       "<div>\n",
       "<style scoped>\n",
       "    .dataframe tbody tr th:only-of-type {\n",
       "        vertical-align: middle;\n",
       "    }\n",
       "\n",
       "    .dataframe tbody tr th {\n",
       "        vertical-align: top;\n",
       "    }\n",
       "\n",
       "    .dataframe thead th {\n",
       "        text-align: right;\n",
       "    }\n",
       "</style>\n",
       "<table border=\"1\" class=\"dataframe\">\n",
       "  <thead>\n",
       "    <tr style=\"text-align: right;\">\n",
       "      <th></th>\n",
       "      <th>Unnamed: 0</th>\n",
       "      <th>business_id</th>\n",
       "      <th>name</th>\n",
       "      <th>address</th>\n",
       "      <th>city</th>\n",
       "      <th>state</th>\n",
       "      <th>postal_code</th>\n",
       "      <th>latitude</th>\n",
       "      <th>longitude</th>\n",
       "      <th>stars</th>\n",
       "      <th>review_count</th>\n",
       "      <th>is_open</th>\n",
       "      <th>attributes</th>\n",
       "      <th>categories</th>\n",
       "      <th>hours</th>\n",
       "    </tr>\n",
       "  </thead>\n",
       "  <tbody>\n",
       "    <tr>\n",
       "      <th>3</th>\n",
       "      <td>3</td>\n",
       "      <td>MTSW4McQd7CbVtyjqoe9mw</td>\n",
       "      <td>St Honore Pastries</td>\n",
       "      <td>935 Race St</td>\n",
       "      <td>Philadelphia</td>\n",
       "      <td>PA</td>\n",
       "      <td>19107.0</td>\n",
       "      <td>39.955505</td>\n",
       "      <td>-75.155564</td>\n",
       "      <td>4.0</td>\n",
       "      <td>80</td>\n",
       "      <td>1</td>\n",
       "      <td>{'RestaurantsDelivery': 'False', 'OutdoorSeati...</td>\n",
       "      <td>Restaurants, Food, Bubble Tea, Coffee &amp; Tea, B...</td>\n",
       "      <td>{'Monday': '7:0-20:0', 'Tuesday': '7:0-20:0', ...</td>\n",
       "    </tr>\n",
       "    <tr>\n",
       "      <th>15</th>\n",
       "      <td>15</td>\n",
       "      <td>MUTTqe8uqyMdBl186RmNeA</td>\n",
       "      <td>Tuna Bar</td>\n",
       "      <td>205 Race St</td>\n",
       "      <td>Philadelphia</td>\n",
       "      <td>PA</td>\n",
       "      <td>19106.0</td>\n",
       "      <td>39.953949</td>\n",
       "      <td>-75.143226</td>\n",
       "      <td>4.0</td>\n",
       "      <td>245</td>\n",
       "      <td>1</td>\n",
       "      <td>{'RestaurantsReservations': 'True', 'Restauran...</td>\n",
       "      <td>Sushi Bars, Restaurants, Japanese</td>\n",
       "      <td>{'Tuesday': '13:30-22:0', 'Wednesday': '13:30-...</td>\n",
       "    </tr>\n",
       "    <tr>\n",
       "      <th>19</th>\n",
       "      <td>19</td>\n",
       "      <td>ROeacJQwBeh05Rqg7F6TCg</td>\n",
       "      <td>BAP</td>\n",
       "      <td>1224 South St</td>\n",
       "      <td>Philadelphia</td>\n",
       "      <td>PA</td>\n",
       "      <td>19147.0</td>\n",
       "      <td>39.943223</td>\n",
       "      <td>-75.162568</td>\n",
       "      <td>4.5</td>\n",
       "      <td>205</td>\n",
       "      <td>1</td>\n",
       "      <td>{'NoiseLevel': \"u'quiet'\", 'GoodForMeal': \"{'d...</td>\n",
       "      <td>Korean, Restaurants</td>\n",
       "      <td>{'Monday': '11:30-20:30', 'Tuesday': '11:30-20...</td>\n",
       "    </tr>\n",
       "    <tr>\n",
       "      <th>28</th>\n",
       "      <td>28</td>\n",
       "      <td>QdN72BWoyFypdGJhhI5r7g</td>\n",
       "      <td>Bar One</td>\n",
       "      <td>767 S 9th St</td>\n",
       "      <td>Philadelphia</td>\n",
       "      <td>PA</td>\n",
       "      <td>19147.0</td>\n",
       "      <td>39.939825</td>\n",
       "      <td>-75.157447</td>\n",
       "      <td>4.0</td>\n",
       "      <td>65</td>\n",
       "      <td>0</td>\n",
       "      <td>{'Smoking': \"u'no'\", 'NoiseLevel': \"u'average'...</td>\n",
       "      <td>Cocktail Bars, Bars, Italian, Nightlife, Resta...</td>\n",
       "      <td>{'Monday': '16:0-0:0', 'Tuesday': '16:0-0:0', ...</td>\n",
       "    </tr>\n",
       "    <tr>\n",
       "      <th>31</th>\n",
       "      <td>31</td>\n",
       "      <td>Mjboz24M9NlBeiOJKLEd_Q</td>\n",
       "      <td>DeSandro on Main</td>\n",
       "      <td>4105 Main St</td>\n",
       "      <td>Philadelphia</td>\n",
       "      <td>PA</td>\n",
       "      <td>19127.0</td>\n",
       "      <td>40.022466</td>\n",
       "      <td>-75.218314</td>\n",
       "      <td>3.0</td>\n",
       "      <td>41</td>\n",
       "      <td>0</td>\n",
       "      <td>{'RestaurantsReservations': 'False', 'Caters':...</td>\n",
       "      <td>Pizza, Restaurants, Salad, Soup</td>\n",
       "      <td>{'Tuesday': '17:0-21:30', 'Wednesday': '17:0-1...</td>\n",
       "    </tr>\n",
       "  </tbody>\n",
       "</table>\n",
       "</div>"
      ],
      "text/plain": [
       "    Unnamed: 0             business_id                name        address  \\\n",
       "3            3  MTSW4McQd7CbVtyjqoe9mw  St Honore Pastries    935 Race St   \n",
       "15          15  MUTTqe8uqyMdBl186RmNeA            Tuna Bar    205 Race St   \n",
       "19          19  ROeacJQwBeh05Rqg7F6TCg                 BAP  1224 South St   \n",
       "28          28  QdN72BWoyFypdGJhhI5r7g             Bar One   767 S 9th St   \n",
       "31          31  Mjboz24M9NlBeiOJKLEd_Q    DeSandro on Main   4105 Main St   \n",
       "\n",
       "            city state  postal_code   latitude  longitude  stars  \\\n",
       "3   Philadelphia    PA      19107.0  39.955505 -75.155564    4.0   \n",
       "15  Philadelphia    PA      19106.0  39.953949 -75.143226    4.0   \n",
       "19  Philadelphia    PA      19147.0  39.943223 -75.162568    4.5   \n",
       "28  Philadelphia    PA      19147.0  39.939825 -75.157447    4.0   \n",
       "31  Philadelphia    PA      19127.0  40.022466 -75.218314    3.0   \n",
       "\n",
       "    review_count  is_open                                         attributes  \\\n",
       "3             80        1  {'RestaurantsDelivery': 'False', 'OutdoorSeati...   \n",
       "15           245        1  {'RestaurantsReservations': 'True', 'Restauran...   \n",
       "19           205        1  {'NoiseLevel': \"u'quiet'\", 'GoodForMeal': \"{'d...   \n",
       "28            65        0  {'Smoking': \"u'no'\", 'NoiseLevel': \"u'average'...   \n",
       "31            41        0  {'RestaurantsReservations': 'False', 'Caters':...   \n",
       "\n",
       "                                           categories  \\\n",
       "3   Restaurants, Food, Bubble Tea, Coffee & Tea, B...   \n",
       "15                  Sushi Bars, Restaurants, Japanese   \n",
       "19                                Korean, Restaurants   \n",
       "28  Cocktail Bars, Bars, Italian, Nightlife, Resta...   \n",
       "31                    Pizza, Restaurants, Salad, Soup   \n",
       "\n",
       "                                                hours  \n",
       "3   {'Monday': '7:0-20:0', 'Tuesday': '7:0-20:0', ...  \n",
       "15  {'Tuesday': '13:30-22:0', 'Wednesday': '13:30-...  \n",
       "19  {'Monday': '11:30-20:30', 'Tuesday': '11:30-20...  \n",
       "28  {'Monday': '16:0-0:0', 'Tuesday': '16:0-0:0', ...  \n",
       "31  {'Tuesday': '17:0-21:30', 'Wednesday': '17:0-1...  "
      ]
     },
     "execution_count": 85,
     "metadata": {},
     "output_type": "execute_result"
    }
   ],
   "source": [
    "rest.head()"
   ]
  },
  {
   "cell_type": "markdown",
   "metadata": {},
   "source": [
    "<span style=\"color:black; font-weight:700;font-size:18px\"> Στο attr κρατάμε από τα παραπάνω εστιατόρια την στήλη attributes και με την χρήση του literal_eval και lambda μετατρέπουμε τα string την στήλης σε λεξικά. </span> "
   ]
  },
  {
   "cell_type": "code",
   "execution_count": 86,
   "metadata": {
    "scrolled": true
   },
   "outputs": [
    {
     "name": "stdout",
     "output_type": "stream",
     "text": [
      "<class 'str'>\n",
      "<class 'dict'>\n"
     ]
    }
   ],
   "source": [
    "# get column of attributes\n",
    "attr = rest['attributes']\n",
    "print(type(attr.iloc[0]))\n",
    "\n",
    "attr = attr.apply(lambda x: ast.literal_eval(x) if x is not None else None)\n",
    "print(type(attr.iloc[0]))"
   ]
  },
  {
   "cell_type": "markdown",
   "metadata": {},
   "source": [
    "<span style=\"color:black; font-weight:700;font-size:18px\"> Έχοντας λοιπόν μια στήλη με λεξικά τραβάμε την τιμή του κλειδιού RestaurantsPriceRange -όπου υπάρχει φυσικά, γίνεται έλεγχος-, και άμα η τιμή είναι μικρότερη του 3 τοποθετούμε το λεξικό μέσα σε μια λίστα attrListCheap αλλιώς το τοποθετούμε στην λίστα attrListExp </span>"
   ]
  },
  {
   "cell_type": "code",
   "execution_count": 88,
   "metadata": {
    "scrolled": true
   },
   "outputs": [
    {
     "name": "stdout",
     "output_type": "stream",
     "text": [
      "5854\n"
     ]
    }
   ],
   "source": [
    "# make two lists, one that contains ALL the DICTIONARIES of the rows that 'RestaurantsPriceRange'<3 (cheap ones)\n",
    "# and a second list that contains ALL the DICTIONARIES of the rows that 'RestaurantsPriceRange'>3 (expensive ones)\n",
    "attrListTmp = attr.values\n",
    "attrListCheap = []\n",
    "attrListExp = []\n",
    "print(len(attr.values))\n",
    "for i in range(len(attr.values)):\n",
    "    \n",
    "    # get dictionary\n",
    "    x = attrListTmp[i]\n",
    "    #print(type(x))\n",
    "    if(type(x) != dict):\n",
    "        #print(\"skipped\")\n",
    "        continue\n",
    "    \n",
    "    price = x.get('RestaurantsPriceRange2')\n",
    "    #print(price)\n",
    "    if(price == \"None\" or not price):\n",
    "        continue\n",
    "    #if(not price):\n",
    "    #    print(\"skipped\")\n",
    "    #    continue\n",
    "    \n",
    "    if(int(price) < 3):\n",
    "        attrListCheap.append(str(x))\n",
    "    else:\n",
    "        attrListExp.append(str(x))"
   ]
  },
  {
   "cell_type": "markdown",
   "metadata": {},
   "source": [
    "<span style=\"color:black; font-weight:700;font-size:18px\"> Τυπώνουμε για εξακρίβωση </span>"
   ]
  },
  {
   "cell_type": "code",
   "execution_count": 89,
   "metadata": {},
   "outputs": [
    {
     "name": "stdout",
     "output_type": "stream",
     "text": [
      "################CHEAP RESTAURANTS################\n",
      "Length: 4650 type: <class 'str'>\n",
      "################EXPENSIVE RESTAURANTS################\n",
      "Length: 289 type: <class 'str'>\n"
     ]
    }
   ],
   "source": [
    "print(\"################CHEAP RESTAURANTS################\")\n",
    "print(\"Length:\",len(attrListCheap),\"type:\",type(attrListCheap[0]))\n",
    "print(\"################EXPENSIVE RESTAURANTS################\")\n",
    "print(\"Length:\",len(attrListExp),\"type:\",type(attrListExp[0]))"
   ]
  },
  {
   "cell_type": "markdown",
   "metadata": {},
   "source": [
    "<span style=\"color:black; font-weight:700;font-size:18px\"> Τώρα έχουμε δύο λίστες attrListCheap και attrListExp που περιέχονται όλα τα λεξικά από τα cheap και τα expensive restaurants αντίστοιχα. Ανάλογα αν στο dataframe rest(εστιατόρια), στην στήλη attributes περιέχεται το λέξικο σε μία από τις δύο λίστες, μπαίνει στο αντίστοιχο dataframe, cheapRest και expRest </span>"
   ]
  },
  {
   "cell_type": "code",
   "execution_count": 139,
   "metadata": {},
   "outputs": [
    {
     "name": "stdout",
     "output_type": "stream",
     "text": [
      "Length of cheap: 4650\n",
      "Length of expensive: 289\n"
     ]
    }
   ],
   "source": [
    "# make dataframe that only contains cheap restaurants\n",
    "# if the row in the column attributes has a dictionary that is contained in attrListCheap\n",
    "# then append it\n",
    "cheapRest = rest[rest['attributes'].isin(attrListCheap)]\n",
    "#cheapRest.head()\n",
    "\n",
    "# same thinking here:\n",
    "# make dataframe that only contains expensive restaurants\n",
    "expRest = rest[rest['attributes'].isin(attrListExp)]\n",
    "print(\"Length of cheap:\",len(cheapRest.index))\n",
    "print(\"Length of expensive:\",len(expRest.index))"
   ]
  },
  {
   "cell_type": "markdown",
   "metadata": {},
   "source": [
    "<span style=\"color:black; font-weight:700;font-size:18px\"> Εκτυπώνουμε το μέσο όρο, το μήκος και την απόκλιση </span>"
   ]
  },
  {
   "cell_type": "code",
   "execution_count": 92,
   "metadata": {},
   "outputs": [
    {
     "name": "stdout",
     "output_type": "stream",
     "text": [
      "############### CHEAP RESTAURANTS ###############\n",
      "Mean Stars: 3.5029032258064516 length: 4650 std: 0.783200520817005\n",
      "############### EXPENSIVE RESTAURANTS ###############\n",
      "Mean Stars: 3.726643598615917 length: 289 std: 0.6545907444166118\n"
     ]
    }
   ],
   "source": [
    "print(\"############### CHEAP RESTAURANTS ###############\")\n",
    "print(\"Mean Stars:\",cheapRest['stars'].mean(),\"length:\",len(cheapRest.index),\"std:\",cheapRest['stars'].std())\n",
    "print(\"############### EXPENSIVE RESTAURANTS ###############\")\n",
    "print(\"Mean Stars:\",expRest['stars'].mean(),\"length:\",len(expRest.index),\"std:\",expRest['stars'].std())"
   ]
  },
  {
   "cell_type": "markdown",
   "metadata": {},
   "source": [
    "<span style=\"color:black; font-weight:700;font-size:18px\"> Τώρα χρησιμοποιώντας τον τύπο ci = 1.95*σ/sqr_root(n) υπολογίζουμε το έμπιστο διάστημα για καθένα από τα δύο -cheap, expensive- άνω και κάτω της μέσης τιμής και ύστερα κάνουμε το γράφημα. Οι βούλες είναι οι μέσες τιμές και οι κόκκινες μπάρες το έμπιστο διάστημα </span>"
   ]
  },
  {
   "cell_type": "code",
   "execution_count": 93,
   "metadata": {},
   "outputs": [
    {
     "name": "stdout",
     "output_type": "stream",
     "text": [
      "cheap ci: 0.022511402984762882 and expensive ci: 0.07547046229744465\n"
     ]
    }
   ],
   "source": [
    "# Calculate confidence interval\n",
    "# ci = 1.95*σ/sqr_root(n), we chose 1.96 cause of 95%\n",
    "cheapCI = 1.96 * cheapRest['stars'].std()/np.sqrt(len(cheapRest.index))\n",
    "expCI = 1.96 * expRest['stars'].std()/np.sqrt(len(expRest.index))\n",
    "print(\"cheap ci:\", cheapCI, \"and expensive ci:\",expCI)"
   ]
  },
  {
   "cell_type": "code",
   "execution_count": 94,
   "metadata": {},
   "outputs": [],
   "source": [
    "# make error list y_error = [minErrorList, maxErrorList]\n",
    "y_error = [[cheapCI, expCI],[cheapCI, expCI]]"
   ]
  },
  {
   "cell_type": "code",
   "execution_count": 95,
   "metadata": {},
   "outputs": [
    {
     "data": {
      "text/html": [
       "<div>\n",
       "<style scoped>\n",
       "    .dataframe tbody tr th:only-of-type {\n",
       "        vertical-align: middle;\n",
       "    }\n",
       "\n",
       "    .dataframe tbody tr th {\n",
       "        vertical-align: top;\n",
       "    }\n",
       "\n",
       "    .dataframe thead th {\n",
       "        text-align: right;\n",
       "    }\n",
       "</style>\n",
       "<table border=\"1\" class=\"dataframe\">\n",
       "  <thead>\n",
       "    <tr style=\"text-align: right;\">\n",
       "      <th></th>\n",
       "      <th>PriceRange</th>\n",
       "      <th>MeanStars</th>\n",
       "    </tr>\n",
       "  </thead>\n",
       "  <tbody>\n",
       "    <tr>\n",
       "      <th>0</th>\n",
       "      <td>cheap</td>\n",
       "      <td>3.502903</td>\n",
       "    </tr>\n",
       "    <tr>\n",
       "      <th>1</th>\n",
       "      <td>expensive</td>\n",
       "      <td>3.726644</td>\n",
       "    </tr>\n",
       "  </tbody>\n",
       "</table>\n",
       "</div>"
      ],
      "text/plain": [
       "  PriceRange  MeanStars\n",
       "0      cheap   3.502903\n",
       "1  expensive   3.726644"
      ]
     },
     "execution_count": 95,
     "metadata": {},
     "output_type": "execute_result"
    }
   ],
   "source": [
    "# make a new dataframe to plot\n",
    "restData = {'PriceRange': ['cheap', 'expensive'],\n",
    "           'MeanStars': [cheapRest['stars'].mean(), expRest['stars'].mean()]}\n",
    "df = pd.DataFrame(restData)\n",
    "df.head()"
   ]
  },
  {
   "cell_type": "code",
   "execution_count": 96,
   "metadata": {},
   "outputs": [
    {
     "data": {
      "text/plain": [
       "<ErrorbarContainer object of 3 artists>"
      ]
     },
     "execution_count": 96,
     "metadata": {},
     "output_type": "execute_result"
    },
    {
     "data": {
      "image/png": "[encoded data removed]",
      "text/plain": [
       "<Figure size 1080x720 with 1 Axes>"
      ]
     },
     "metadata": {},
     "output_type": "display_data"
    }
   ],
   "source": [
    "plt.figure(figsize=(15, 10))\n",
    "sns.pointplot(x = 'PriceRange', y = 'MeanStars', data=restData, join=False, ci=None)\n",
    "plt.errorbar(x=[0, 1],y=restData['MeanStars'],\n",
    "            yerr=y_error, fmt='none', c= 'r')"
   ]
  },
  {
   "cell_type": "markdown",
   "metadata": {},
   "source": [
    "<span style=\"color:black; font-weight:700;font-size:18px\"> Κάνουμε το t-test και βρίσκουμε χαμηλό pvalue=2.0487190675109893e-06, οπότε υπάρχει σχέση. </span>"
   ]
  },
  {
   "cell_type": "code",
   "execution_count": 97,
   "metadata": {},
   "outputs": [
    {
     "data": {
      "text/plain": [
       "Ttest_indResult(statistic=-4.754226620279354, pvalue=2.0487190675109893e-06)"
      ]
     },
     "execution_count": 97,
     "metadata": {},
     "output_type": "execute_result"
    }
   ],
   "source": [
    "stats.ttest_ind(a=cheapRest['stars'], b=expRest['stars'], equal_var=True)"
   ]
  },
  {
   "cell_type": "code",
   "execution_count": null,
   "metadata": {},
   "outputs": [],
   "source": []
  },
  {
   "cell_type": "markdown",
   "metadata": {},
   "source": [
    "<span style=\"color:black; font-weight:700;font-size:18px\"> Επαναλαμβάνουμε την ίδια διαδικασία, δημιουργούμε δυο λίστες που περιέχουν τα λεξικά των casual και των formal εστιατορίων, και κοιτώντας στο dataframe rest, δημιουργούμε άλλα δύο dataframes casualRest, formalRest ανάλογα με πού ανήκει το λεξικό του εστιατορίου. </span>"
   ]
  },
  {
   "cell_type": "code",
   "execution_count": 98,
   "metadata": {
    "scrolled": false
   },
   "outputs": [
    {
     "name": "stdout",
     "output_type": "stream",
     "text": [
      "5854\n"
     ]
    }
   ],
   "source": [
    "# make two lists, one that contains ALL the DICTIONARIES of the rows that 'RestaurantsAttire' has casual\n",
    "# and a second list that contains ALL the DICTIONARIES of the rows that 'RestaurantsAttire' has either\n",
    "# dressy or formal\n",
    "attrListTmp = attr.values\n",
    "attrListCasual = []\n",
    "attrListFormal = []\n",
    "print(len(attr.values))\n",
    "for i in range(len(attr.values)):\n",
    "    \n",
    "    # get dictionary\n",
    "    x = attrListTmp[i]\n",
    "\n",
    "    if(type(x) != dict):\n",
    "        continue\n",
    "    \n",
    "    clothes = x.get('RestaurantsAttire')\n",
    "    \n",
    "    if(clothes == \"None\" or not clothes):\n",
    "        continue\n",
    "\n",
    "    \n",
    "    #print(clothes,\"'casual'\",type(clothes))\n",
    "    #print(clothes == \"casual\")\n",
    "    #print(\"%%%%%%%%%%%%%%%%%%%%5\")\n",
    "    if((clothes == \"'casual'\") or (clothes == \"u'casual'\")):\n",
    "        attrListCasual.append(x)\n",
    "    elif((clothes == \"'dressy'\") or (clothes == \"u'dressy'\") or (clothes == \"'formal'\") or (clothes == \"u'formal'\")):\n",
    "        attrListFormal.append(x)"
   ]
  },
  {
   "cell_type": "code",
   "execution_count": 100,
   "metadata": {},
   "outputs": [
    {
     "name": "stdout",
     "output_type": "stream",
     "text": [
      "4230\n"
     ]
    },
    {
     "data": {
      "text/html": [
       "<div>\n",
       "<style scoped>\n",
       "    .dataframe tbody tr th:only-of-type {\n",
       "        vertical-align: middle;\n",
       "    }\n",
       "\n",
       "    .dataframe tbody tr th {\n",
       "        vertical-align: top;\n",
       "    }\n",
       "\n",
       "    .dataframe thead th {\n",
       "        text-align: right;\n",
       "    }\n",
       "</style>\n",
       "<table border=\"1\" class=\"dataframe\">\n",
       "  <thead>\n",
       "    <tr style=\"text-align: right;\">\n",
       "      <th></th>\n",
       "      <th>Unnamed: 0</th>\n",
       "      <th>business_id</th>\n",
       "      <th>name</th>\n",
       "      <th>address</th>\n",
       "      <th>city</th>\n",
       "      <th>state</th>\n",
       "      <th>postal_code</th>\n",
       "      <th>latitude</th>\n",
       "      <th>longitude</th>\n",
       "      <th>stars</th>\n",
       "      <th>review_count</th>\n",
       "      <th>is_open</th>\n",
       "      <th>attributes</th>\n",
       "      <th>categories</th>\n",
       "      <th>hours</th>\n",
       "    </tr>\n",
       "  </thead>\n",
       "  <tbody>\n",
       "    <tr>\n",
       "      <th>15</th>\n",
       "      <td>15</td>\n",
       "      <td>MUTTqe8uqyMdBl186RmNeA</td>\n",
       "      <td>Tuna Bar</td>\n",
       "      <td>205 Race St</td>\n",
       "      <td>Philadelphia</td>\n",
       "      <td>PA</td>\n",
       "      <td>19106.0</td>\n",
       "      <td>39.953949</td>\n",
       "      <td>-75.143226</td>\n",
       "      <td>4.0</td>\n",
       "      <td>245</td>\n",
       "      <td>1</td>\n",
       "      <td>{'RestaurantsReservations': 'True', 'Restauran...</td>\n",
       "      <td>Sushi Bars, Restaurants, Japanese</td>\n",
       "      <td>{'Tuesday': '13:30-22:0', 'Wednesday': '13:30-...</td>\n",
       "    </tr>\n",
       "    <tr>\n",
       "      <th>19</th>\n",
       "      <td>19</td>\n",
       "      <td>ROeacJQwBeh05Rqg7F6TCg</td>\n",
       "      <td>BAP</td>\n",
       "      <td>1224 South St</td>\n",
       "      <td>Philadelphia</td>\n",
       "      <td>PA</td>\n",
       "      <td>19147.0</td>\n",
       "      <td>39.943223</td>\n",
       "      <td>-75.162568</td>\n",
       "      <td>4.5</td>\n",
       "      <td>205</td>\n",
       "      <td>1</td>\n",
       "      <td>{'NoiseLevel': \"u'quiet'\", 'GoodForMeal': \"{'d...</td>\n",
       "      <td>Korean, Restaurants</td>\n",
       "      <td>{'Monday': '11:30-20:30', 'Tuesday': '11:30-20...</td>\n",
       "    </tr>\n",
       "    <tr>\n",
       "      <th>28</th>\n",
       "      <td>28</td>\n",
       "      <td>QdN72BWoyFypdGJhhI5r7g</td>\n",
       "      <td>Bar One</td>\n",
       "      <td>767 S 9th St</td>\n",
       "      <td>Philadelphia</td>\n",
       "      <td>PA</td>\n",
       "      <td>19147.0</td>\n",
       "      <td>39.939825</td>\n",
       "      <td>-75.157447</td>\n",
       "      <td>4.0</td>\n",
       "      <td>65</td>\n",
       "      <td>0</td>\n",
       "      <td>{'Smoking': \"u'no'\", 'NoiseLevel': \"u'average'...</td>\n",
       "      <td>Cocktail Bars, Bars, Italian, Nightlife, Resta...</td>\n",
       "      <td>{'Monday': '16:0-0:0', 'Tuesday': '16:0-0:0', ...</td>\n",
       "    </tr>\n",
       "    <tr>\n",
       "      <th>31</th>\n",
       "      <td>31</td>\n",
       "      <td>Mjboz24M9NlBeiOJKLEd_Q</td>\n",
       "      <td>DeSandro on Main</td>\n",
       "      <td>4105 Main St</td>\n",
       "      <td>Philadelphia</td>\n",
       "      <td>PA</td>\n",
       "      <td>19127.0</td>\n",
       "      <td>40.022466</td>\n",
       "      <td>-75.218314</td>\n",
       "      <td>3.0</td>\n",
       "      <td>41</td>\n",
       "      <td>0</td>\n",
       "      <td>{'RestaurantsReservations': 'False', 'Caters':...</td>\n",
       "      <td>Pizza, Restaurants, Salad, Soup</td>\n",
       "      <td>{'Tuesday': '17:0-21:30', 'Wednesday': '17:0-1...</td>\n",
       "    </tr>\n",
       "    <tr>\n",
       "      <th>82</th>\n",
       "      <td>82</td>\n",
       "      <td>ppFCk9aQkM338Rgwpl2F5A</td>\n",
       "      <td>Wawa</td>\n",
       "      <td>3604 Chestnut St</td>\n",
       "      <td>Philadelphia</td>\n",
       "      <td>PA</td>\n",
       "      <td>19104.0</td>\n",
       "      <td>39.954573</td>\n",
       "      <td>-75.194894</td>\n",
       "      <td>3.0</td>\n",
       "      <td>56</td>\n",
       "      <td>1</td>\n",
       "      <td>{'Alcohol': \"u'none'\", 'RestaurantsGoodForGrou...</td>\n",
       "      <td>Restaurants, Automotive, Delis, Gas Stations, ...</td>\n",
       "      <td>{'Monday': '0:0-0:0', 'Tuesday': '0:0-0:0', 'W...</td>\n",
       "    </tr>\n",
       "  </tbody>\n",
       "</table>\n",
       "</div>"
      ],
      "text/plain": [
       "    Unnamed: 0             business_id              name           address  \\\n",
       "15          15  MUTTqe8uqyMdBl186RmNeA          Tuna Bar       205 Race St   \n",
       "19          19  ROeacJQwBeh05Rqg7F6TCg               BAP     1224 South St   \n",
       "28          28  QdN72BWoyFypdGJhhI5r7g           Bar One      767 S 9th St   \n",
       "31          31  Mjboz24M9NlBeiOJKLEd_Q  DeSandro on Main      4105 Main St   \n",
       "82          82  ppFCk9aQkM338Rgwpl2F5A              Wawa  3604 Chestnut St   \n",
       "\n",
       "            city state  postal_code   latitude  longitude  stars  \\\n",
       "15  Philadelphia    PA      19106.0  39.953949 -75.143226    4.0   \n",
       "19  Philadelphia    PA      19147.0  39.943223 -75.162568    4.5   \n",
       "28  Philadelphia    PA      19147.0  39.939825 -75.157447    4.0   \n",
       "31  Philadelphia    PA      19127.0  40.022466 -75.218314    3.0   \n",
       "82  Philadelphia    PA      19104.0  39.954573 -75.194894    3.0   \n",
       "\n",
       "    review_count  is_open                                         attributes  \\\n",
       "15           245        1  {'RestaurantsReservations': 'True', 'Restauran...   \n",
       "19           205        1  {'NoiseLevel': \"u'quiet'\", 'GoodForMeal': \"{'d...   \n",
       "28            65        0  {'Smoking': \"u'no'\", 'NoiseLevel': \"u'average'...   \n",
       "31            41        0  {'RestaurantsReservations': 'False', 'Caters':...   \n",
       "82            56        1  {'Alcohol': \"u'none'\", 'RestaurantsGoodForGrou...   \n",
       "\n",
       "                                           categories  \\\n",
       "15                  Sushi Bars, Restaurants, Japanese   \n",
       "19                                Korean, Restaurants   \n",
       "28  Cocktail Bars, Bars, Italian, Nightlife, Resta...   \n",
       "31                    Pizza, Restaurants, Salad, Soup   \n",
       "82  Restaurants, Automotive, Delis, Gas Stations, ...   \n",
       "\n",
       "                                                hours  \n",
       "15  {'Tuesday': '13:30-22:0', 'Wednesday': '13:30-...  \n",
       "19  {'Monday': '11:30-20:30', 'Tuesday': '11:30-20...  \n",
       "28  {'Monday': '16:0-0:0', 'Tuesday': '16:0-0:0', ...  \n",
       "31  {'Tuesday': '17:0-21:30', 'Wednesday': '17:0-1...  \n",
       "82  {'Monday': '0:0-0:0', 'Tuesday': '0:0-0:0', 'W...  "
      ]
     },
     "execution_count": 100,
     "metadata": {},
     "output_type": "execute_result"
    }
   ],
   "source": [
    "# make dataframe that only contains casual restaurants\n",
    "# if the row in the column attributes has a dictionary that is contained in attrListCasual\n",
    "# then append it\n",
    "casualRest = rest[attr.isin(attrListCasual)]\n",
    "#cheapRest.head()\n",
    "\n",
    "# same thinking here:\n",
    "# make dataframe that only contains expensive restaurants\n",
    "formalRest = rest[attr.isin(attrListFormal)]\n",
    "print(len(casualRest.index))\n",
    "casualRest.head()"
   ]
  },
  {
   "cell_type": "markdown",
   "metadata": {},
   "source": [
    "<span style=\"color:black; font-weight:700;font-size:18px\"> Τώρα χρησιμοποιώντας τον τύπο ci = 1.95*σ/sqr_root(n) υπολογίζουμε το έμπιστο διάστημα για καθένα από τα δύο -casual, formal- άνω και κάτω της μέσης τιμής και ύστερα κάνουμε το γράφημα. Οι βούλες είναι οι μέσες τιμές και οι κόκκινες μπάρες το έμπιστο διάστημα </span>"
   ]
  },
  {
   "cell_type": "code",
   "execution_count": 101,
   "metadata": {},
   "outputs": [
    {
     "name": "stdout",
     "output_type": "stream",
     "text": [
      "############### CASUAL RESTAURANTS ###############\n",
      "Mean Stars: 3.511465721040189 length: 4230 std: 0.7506116230052353\n",
      "############### FORMAL RESTAURANTS ###############\n",
      "Mean Stars: 3.5867768595041323 length: 121 std: 0.6508894105709415\n"
     ]
    }
   ],
   "source": [
    "print(\"############### CASUAL RESTAURANTS ###############\")\n",
    "print(\"Mean Stars:\",casualRest['stars'].mean(),\"length:\",len(casualRest.index),\"std:\",casualRest['stars'].std())\n",
    "print(\"############### FORMAL RESTAURANTS ###############\")\n",
    "print(\"Mean Stars:\",formalRest['stars'].mean(),\"length:\",len(formalRest.index),\"std:\",formalRest['stars'].std())"
   ]
  },
  {
   "cell_type": "code",
   "execution_count": 102,
   "metadata": {},
   "outputs": [
    {
     "name": "stdout",
     "output_type": "stream",
     "text": [
      "casual ci: 0.02262044647949703 and formal ci: 0.1159766586108223\n"
     ]
    }
   ],
   "source": [
    "# Calculate confidence interval\n",
    "# ci = 1.95*σ/sqr_root(n), we chose 1.96 cause of 95%\n",
    "casualCI = 1.96 * casualRest['stars'].std()/np.sqrt(len(casualRest.index))\n",
    "formalCI = 1.96 * formalRest['stars'].std()/np.sqrt(len(formalRest.index))\n",
    "print(\"casual ci:\", casualCI, \"and formal ci:\",formalCI)"
   ]
  },
  {
   "cell_type": "code",
   "execution_count": 103,
   "metadata": {},
   "outputs": [],
   "source": [
    "# make error list y_error = [minErrorList, maxErrorList]\n",
    "y_error = [[casualCI, formalCI],[casualCI, formalCI]]"
   ]
  },
  {
   "cell_type": "code",
   "execution_count": 104,
   "metadata": {},
   "outputs": [
    {
     "data": {
      "text/html": [
       "<div>\n",
       "<style scoped>\n",
       "    .dataframe tbody tr th:only-of-type {\n",
       "        vertical-align: middle;\n",
       "    }\n",
       "\n",
       "    .dataframe tbody tr th {\n",
       "        vertical-align: top;\n",
       "    }\n",
       "\n",
       "    .dataframe thead th {\n",
       "        text-align: right;\n",
       "    }\n",
       "</style>\n",
       "<table border=\"1\" class=\"dataframe\">\n",
       "  <thead>\n",
       "    <tr style=\"text-align: right;\">\n",
       "      <th></th>\n",
       "      <th>RestaurantsAttire</th>\n",
       "      <th>MeanStars</th>\n",
       "    </tr>\n",
       "  </thead>\n",
       "  <tbody>\n",
       "    <tr>\n",
       "      <th>0</th>\n",
       "      <td>casual</td>\n",
       "      <td>3.511466</td>\n",
       "    </tr>\n",
       "    <tr>\n",
       "      <th>1</th>\n",
       "      <td>formal</td>\n",
       "      <td>3.586777</td>\n",
       "    </tr>\n",
       "  </tbody>\n",
       "</table>\n",
       "</div>"
      ],
      "text/plain": [
       "  RestaurantsAttire  MeanStars\n",
       "0            casual   3.511466\n",
       "1            formal   3.586777"
      ]
     },
     "execution_count": 104,
     "metadata": {},
     "output_type": "execute_result"
    }
   ],
   "source": [
    "# make a new dataframe to plot\n",
    "restData = {'RestaurantsAttire': ['casual', 'formal'],\n",
    "           'MeanStars': [casualRest['stars'].mean(), formalRest['stars'].mean()]}\n",
    "df = pd.DataFrame(restData)\n",
    "df.head()"
   ]
  },
  {
   "cell_type": "code",
   "execution_count": 105,
   "metadata": {},
   "outputs": [
    {
     "data": {
      "text/plain": [
       "<ErrorbarContainer object of 3 artists>"
      ]
     },
     "execution_count": 105,
     "metadata": {},
     "output_type": "execute_result"
    },
    {
     "data": {
      "image/png": "[encoded data removed]",
      "text/plain": [
       "<Figure size 1080x720 with 1 Axes>"
      ]
     },
     "metadata": {},
     "output_type": "display_data"
    }
   ],
   "source": [
    "plt.figure(figsize=(15, 10))\n",
    "plt.ylim(3.25,3.75)\n",
    "sns.pointplot(x = 'RestaurantsAttire', y = 'MeanStars', data=restData, join=False, ci=None)\n",
    "plt.errorbar(x=[0, 1],y=restData['MeanStars'],\n",
    "            yerr=y_error, fmt='none', c= 'r')"
   ]
  },
  {
   "cell_type": "markdown",
   "metadata": {},
   "source": [
    "<span style=\"color:black; font-weight:700;font-size:18px\"> Κάνουμε το t-test και βρίσκουμε pvalue=0.2749145788569803, άρα δεν υπάρχει σχέση. </span>"
   ]
  },
  {
   "cell_type": "code",
   "execution_count": 106,
   "metadata": {},
   "outputs": [
    {
     "data": {
      "text/plain": [
       "Ttest_indResult(statistic=-1.0919522454523218, pvalue=0.2749145788569803)"
      ]
     },
     "execution_count": 106,
     "metadata": {},
     "output_type": "execute_result"
    }
   ],
   "source": [
    "stats.ttest_ind(a=casualRest['stars'], b=formalRest['stars'], equal_var=True)"
   ]
  },
  {
   "cell_type": "code",
   "execution_count": null,
   "metadata": {},
   "outputs": [],
   "source": []
  },
  {
   "cell_type": "code",
   "execution_count": null,
   "metadata": {},
   "outputs": [],
   "source": []
  },
  {
   "cell_type": "markdown",
   "metadata": {},
   "source": [
    "# Exercise 3E"
   ]
  },
  {
   "cell_type": "markdown",
   "metadata": {},
   "source": [
    "<span style=\"color:black; font-weight:700;font-size:18px\"> Διαβάζουμε τις επιχειρήσεις και τις βάζουμε σε ένα dataframe </span>"
   ]
  },
  {
   "cell_type": "code",
   "execution_count": 140,
   "metadata": {
    "scrolled": true
   },
   "outputs": [
    {
     "data": {
      "text/html": [
       "<div>\n",
       "<style scoped>\n",
       "    .dataframe tbody tr th:only-of-type {\n",
       "        vertical-align: middle;\n",
       "    }\n",
       "\n",
       "    .dataframe tbody tr th {\n",
       "        vertical-align: top;\n",
       "    }\n",
       "\n",
       "    .dataframe thead th {\n",
       "        text-align: right;\n",
       "    }\n",
       "</style>\n",
       "<table border=\"1\" class=\"dataframe\">\n",
       "  <thead>\n",
       "    <tr style=\"text-align: right;\">\n",
       "      <th></th>\n",
       "      <th>Unnamed: 0</th>\n",
       "      <th>business_id</th>\n",
       "      <th>name</th>\n",
       "      <th>address</th>\n",
       "      <th>city</th>\n",
       "      <th>state</th>\n",
       "      <th>postal_code</th>\n",
       "      <th>latitude</th>\n",
       "      <th>longitude</th>\n",
       "      <th>stars</th>\n",
       "      <th>review_count</th>\n",
       "      <th>is_open</th>\n",
       "      <th>attributes</th>\n",
       "      <th>categories</th>\n",
       "      <th>hours</th>\n",
       "    </tr>\n",
       "  </thead>\n",
       "  <tbody>\n",
       "    <tr>\n",
       "      <th>3</th>\n",
       "      <td>3</td>\n",
       "      <td>MTSW4McQd7CbVtyjqoe9mw</td>\n",
       "      <td>St Honore Pastries</td>\n",
       "      <td>935 Race St</td>\n",
       "      <td>Philadelphia</td>\n",
       "      <td>PA</td>\n",
       "      <td>19107.0</td>\n",
       "      <td>39.955505</td>\n",
       "      <td>-75.155564</td>\n",
       "      <td>4.0</td>\n",
       "      <td>80</td>\n",
       "      <td>1</td>\n",
       "      <td>{'RestaurantsDelivery': 'False', 'OutdoorSeati...</td>\n",
       "      <td>Restaurants, Food, Bubble Tea, Coffee &amp; Tea, B...</td>\n",
       "      <td>{'Monday': '7:0-20:0', 'Tuesday': '7:0-20:0', ...</td>\n",
       "    </tr>\n",
       "    <tr>\n",
       "      <th>15</th>\n",
       "      <td>15</td>\n",
       "      <td>MUTTqe8uqyMdBl186RmNeA</td>\n",
       "      <td>Tuna Bar</td>\n",
       "      <td>205 Race St</td>\n",
       "      <td>Philadelphia</td>\n",
       "      <td>PA</td>\n",
       "      <td>19106.0</td>\n",
       "      <td>39.953949</td>\n",
       "      <td>-75.143226</td>\n",
       "      <td>4.0</td>\n",
       "      <td>245</td>\n",
       "      <td>1</td>\n",
       "      <td>{'RestaurantsReservations': 'True', 'Restauran...</td>\n",
       "      <td>Sushi Bars, Restaurants, Japanese</td>\n",
       "      <td>{'Tuesday': '13:30-22:0', 'Wednesday': '13:30-...</td>\n",
       "    </tr>\n",
       "    <tr>\n",
       "      <th>19</th>\n",
       "      <td>19</td>\n",
       "      <td>ROeacJQwBeh05Rqg7F6TCg</td>\n",
       "      <td>BAP</td>\n",
       "      <td>1224 South St</td>\n",
       "      <td>Philadelphia</td>\n",
       "      <td>PA</td>\n",
       "      <td>19147.0</td>\n",
       "      <td>39.943223</td>\n",
       "      <td>-75.162568</td>\n",
       "      <td>4.5</td>\n",
       "      <td>205</td>\n",
       "      <td>1</td>\n",
       "      <td>{'NoiseLevel': \"u'quiet'\", 'GoodForMeal': \"{'d...</td>\n",
       "      <td>Korean, Restaurants</td>\n",
       "      <td>{'Monday': '11:30-20:30', 'Tuesday': '11:30-20...</td>\n",
       "    </tr>\n",
       "    <tr>\n",
       "      <th>28</th>\n",
       "      <td>28</td>\n",
       "      <td>QdN72BWoyFypdGJhhI5r7g</td>\n",
       "      <td>Bar One</td>\n",
       "      <td>767 S 9th St</td>\n",
       "      <td>Philadelphia</td>\n",
       "      <td>PA</td>\n",
       "      <td>19147.0</td>\n",
       "      <td>39.939825</td>\n",
       "      <td>-75.157447</td>\n",
       "      <td>4.0</td>\n",
       "      <td>65</td>\n",
       "      <td>0</td>\n",
       "      <td>{'Smoking': \"u'no'\", 'NoiseLevel': \"u'average'...</td>\n",
       "      <td>Cocktail Bars, Bars, Italian, Nightlife, Resta...</td>\n",
       "      <td>{'Monday': '16:0-0:0', 'Tuesday': '16:0-0:0', ...</td>\n",
       "    </tr>\n",
       "    <tr>\n",
       "      <th>31</th>\n",
       "      <td>31</td>\n",
       "      <td>Mjboz24M9NlBeiOJKLEd_Q</td>\n",
       "      <td>DeSandro on Main</td>\n",
       "      <td>4105 Main St</td>\n",
       "      <td>Philadelphia</td>\n",
       "      <td>PA</td>\n",
       "      <td>19127.0</td>\n",
       "      <td>40.022466</td>\n",
       "      <td>-75.218314</td>\n",
       "      <td>3.0</td>\n",
       "      <td>41</td>\n",
       "      <td>0</td>\n",
       "      <td>{'RestaurantsReservations': 'False', 'Caters':...</td>\n",
       "      <td>Pizza, Restaurants, Salad, Soup</td>\n",
       "      <td>{'Tuesday': '17:0-21:30', 'Wednesday': '17:0-1...</td>\n",
       "    </tr>\n",
       "  </tbody>\n",
       "</table>\n",
       "</div>"
      ],
      "text/plain": [
       "    Unnamed: 0             business_id                name        address  \\\n",
       "3            3  MTSW4McQd7CbVtyjqoe9mw  St Honore Pastries    935 Race St   \n",
       "15          15  MUTTqe8uqyMdBl186RmNeA            Tuna Bar    205 Race St   \n",
       "19          19  ROeacJQwBeh05Rqg7F6TCg                 BAP  1224 South St   \n",
       "28          28  QdN72BWoyFypdGJhhI5r7g             Bar One   767 S 9th St   \n",
       "31          31  Mjboz24M9NlBeiOJKLEd_Q    DeSandro on Main   4105 Main St   \n",
       "\n",
       "            city state  postal_code   latitude  longitude  stars  \\\n",
       "3   Philadelphia    PA      19107.0  39.955505 -75.155564    4.0   \n",
       "15  Philadelphia    PA      19106.0  39.953949 -75.143226    4.0   \n",
       "19  Philadelphia    PA      19147.0  39.943223 -75.162568    4.5   \n",
       "28  Philadelphia    PA      19147.0  39.939825 -75.157447    4.0   \n",
       "31  Philadelphia    PA      19127.0  40.022466 -75.218314    3.0   \n",
       "\n",
       "    review_count  is_open                                         attributes  \\\n",
       "3             80        1  {'RestaurantsDelivery': 'False', 'OutdoorSeati...   \n",
       "15           245        1  {'RestaurantsReservations': 'True', 'Restauran...   \n",
       "19           205        1  {'NoiseLevel': \"u'quiet'\", 'GoodForMeal': \"{'d...   \n",
       "28            65        0  {'Smoking': \"u'no'\", 'NoiseLevel': \"u'average'...   \n",
       "31            41        0  {'RestaurantsReservations': 'False', 'Caters':...   \n",
       "\n",
       "                                           categories  \\\n",
       "3   Restaurants, Food, Bubble Tea, Coffee & Tea, B...   \n",
       "15                  Sushi Bars, Restaurants, Japanese   \n",
       "19                                Korean, Restaurants   \n",
       "28  Cocktail Bars, Bars, Italian, Nightlife, Resta...   \n",
       "31                    Pizza, Restaurants, Salad, Soup   \n",
       "\n",
       "                                                hours  \n",
       "3   {'Monday': '7:0-20:0', 'Tuesday': '7:0-20:0', ...  \n",
       "15  {'Tuesday': '13:30-22:0', 'Wednesday': '13:30-...  \n",
       "19  {'Monday': '11:30-20:30', 'Tuesday': '11:30-20...  \n",
       "28  {'Monday': '16:0-0:0', 'Tuesday': '16:0-0:0', ...  \n",
       "31  {'Tuesday': '17:0-21:30', 'Wednesday': '17:0-1...  "
      ]
     },
     "execution_count": 140,
     "metadata": {},
     "output_type": "execute_result"
    }
   ],
   "source": [
    "# READING JSON FILE IS BETTER BECAUSE CSV TURNS ALL COLUMNS TO STRINGS\n",
    "with open('businessPhilly.json', encoding='utf-8') as inputfile:\n",
    "    bus = pd.read_json(inputfile)\n",
    "\n",
    "bus.head()\n"
   ]
  },
  {
   "cell_type": "markdown",
   "metadata": {},
   "source": [
    "<span style=\"color:black; font-weight:700;font-size:18px\"> Από τα εστιατόρια, παίρνουμε όσα στην στήλη categories περιέχουν την λέξη restaurant, μετά παίρνουμε την στήλη attributes που περιέχει \"λεξικά\" σε μορφή str, που τα μετατρέπουμε σε λεξικά με την χρήση lambda και ast.literal_eval. </span>"
   ]
  },
  {
   "cell_type": "code",
   "execution_count": 141,
   "metadata": {},
   "outputs": [
    {
     "name": "stdout",
     "output_type": "stream",
     "text": [
      "<class 'str'>\n",
      "<class 'dict'>\n"
     ]
    }
   ],
   "source": [
    "# get all businesses that have restaurants in category\n",
    "rest = bus[bus['categories'].str.contains('Restaurant', na=False)]\n",
    "\n",
    "# get column of attributes\n",
    "attr = rest['attributes']\n",
    "print(type(attr.iloc[0]))\n",
    "\n",
    "attr = attr.apply(lambda x: ast.literal_eval(x) if x is not None else None)\n",
    "print(type(attr.iloc[0]))"
   ]
  },
  {
   "cell_type": "markdown",
   "metadata": {},
   "source": [
    "<span style=\"color:black; font-weight:700;font-size:18px\"> Διατρέχοντας το dataframe attr, δημιουργούμε δύο λεξικά με κλειδιά romantic και classy και περιέχουν το καθένα από αυτά τιμές True/False ανάλογα με το αν στο attr, το εκάστοτε λεξικό-εστιατόριο, στο λεξικό Ambience (λεξικό εντός του λεξικού!), στα κλειδιά romantic(ή intimate) και classy(ή upscale) έχουν True/False τιμές. </span>"
   ]
  },
  {
   "cell_type": "code",
   "execution_count": 142,
   "metadata": {},
   "outputs": [
    {
     "name": "stdout",
     "output_type": "stream",
     "text": [
      "{'romantic': [], 'classy': []}\n",
      "5854\n"
     ]
    }
   ],
   "source": [
    "# make two lists, one that contains ALL the DICTIONARIES of the rows that 'RestaurantsPriceRange'<3 (cheap ones)\n",
    "# and a second list that contains ALL the DICTIONARIES of the rows that 'RestaurantsPriceRange'>3 (expensive ones)\n",
    "attrListTmp = attr.values\n",
    "\n",
    "#contigency = dict.fromkeys(['romantic','classy'])\n",
    "contigency = {\"romantic\":[],\"classy\":[]};\n",
    "print(contigency)\n",
    "print(len(attr.values))\n",
    "for i in range(len(attr.values)):\n",
    "    \n",
    "    # get dictionary\n",
    "    x = attrListTmp[i]\n",
    "\n",
    "    if(type(x) != dict):\n",
    "        continue\n",
    "\n",
    "    \n",
    "    ambience = x.get('Ambience')\n",
    "    if(ambience == \"None\" or not ambience):\n",
    "        continue\n",
    "        \n",
    "    # get ambience dict\n",
    "    ambience = ast.literal_eval(ambience)\n",
    "    \n",
    "    #if(not price):\n",
    "    #    print(\"skipped\")\n",
    "    #    continue\n",
    "    \n",
    "    if(ambience['romantic'] == True or ambience['intimate'] == True):\n",
    "        #print(ambience['upscale'])\n",
    "        try:\n",
    "            if(ambience.get('classy',None) == True or ambience.get('upscale',None) == True):\n",
    "                contigency[\"romantic\"].append(True)\n",
    "                contigency[\"classy\"].append(True)\n",
    "            else:\n",
    "                contigency[\"romantic\"].append(True)\n",
    "                contigency[\"classy\"].append(False)\n",
    "        except KeyError:\n",
    "            continue\n",
    "    else:\n",
    "        if(ambience.get('classy',None) == True or ambience.get('upscale',None) == True):\n",
    "            contigency[\"romantic\"].append(False)\n",
    "            contigency[\"classy\"].append(True)\n",
    "        else:\n",
    "            contigency[\"romantic\"].append(False)\n",
    "            contigency[\"classy\"].append(False)"
   ]
  },
  {
   "cell_type": "markdown",
   "metadata": {},
   "source": [
    "<span style=\"color:black; font-weight:700;font-size:18px\"> Το μετατρέπουμε σε dataframe </span>"
   ]
  },
  {
   "cell_type": "code",
   "execution_count": 143,
   "metadata": {
    "scrolled": true
   },
   "outputs": [
    {
     "data": {
      "text/html": [
       "<div>\n",
       "<style scoped>\n",
       "    .dataframe tbody tr th:only-of-type {\n",
       "        vertical-align: middle;\n",
       "    }\n",
       "\n",
       "    .dataframe tbody tr th {\n",
       "        vertical-align: top;\n",
       "    }\n",
       "\n",
       "    .dataframe thead th {\n",
       "        text-align: right;\n",
       "    }\n",
       "</style>\n",
       "<table border=\"1\" class=\"dataframe\">\n",
       "  <thead>\n",
       "    <tr style=\"text-align: right;\">\n",
       "      <th></th>\n",
       "      <th>romantic</th>\n",
       "      <th>classy</th>\n",
       "    </tr>\n",
       "  </thead>\n",
       "  <tbody>\n",
       "    <tr>\n",
       "      <th>0</th>\n",
       "      <td>False</td>\n",
       "      <td>True</td>\n",
       "    </tr>\n",
       "    <tr>\n",
       "      <th>1</th>\n",
       "      <td>False</td>\n",
       "      <td>False</td>\n",
       "    </tr>\n",
       "    <tr>\n",
       "      <th>2</th>\n",
       "      <td>False</td>\n",
       "      <td>False</td>\n",
       "    </tr>\n",
       "    <tr>\n",
       "      <th>3</th>\n",
       "      <td>False</td>\n",
       "      <td>False</td>\n",
       "    </tr>\n",
       "    <tr>\n",
       "      <th>4</th>\n",
       "      <td>False</td>\n",
       "      <td>True</td>\n",
       "    </tr>\n",
       "  </tbody>\n",
       "</table>\n",
       "</div>"
      ],
      "text/plain": [
       "   romantic  classy\n",
       "0     False    True\n",
       "1     False   False\n",
       "2     False   False\n",
       "3     False   False\n",
       "4     False    True"
      ]
     },
     "execution_count": 143,
     "metadata": {},
     "output_type": "execute_result"
    }
   ],
   "source": [
    "con = pd.DataFrame.from_dict(contigency,orient='index').transpose()\n",
    "con.head()"
   ]
  },
  {
   "cell_type": "markdown",
   "metadata": {},
   "source": [
    "<span style=\"color:black; font-weight:700;font-size:18px\"> Βρίσκουμε τον obsverved πίνακα και μετά το χ^2 test, p-value, degree of freedom και τέλος τον πίνακα των expected τιμών. </span>"
   ]
  },
  {
   "cell_type": "code",
   "execution_count": 144,
   "metadata": {
    "scrolled": true
   },
   "outputs": [
    {
     "name": "stdout",
     "output_type": "stream",
     "text": [
      "classy    False  True \n",
      "romantic              \n",
      "False      3543    712\n",
      "True        113    105\n"
     ]
    }
   ],
   "source": [
    "cdf = pd.crosstab(con['romantic'],con['classy'])\n",
    "print(cdf)"
   ]
  },
  {
   "cell_type": "code",
   "execution_count": 145,
   "metadata": {
    "scrolled": true
   },
   "outputs": [
    {
     "name": "stdout",
     "output_type": "stream",
     "text": [
      "chi_square test statistic: 135.13847533646765\n",
      "p-value: 3.079265795785991e-31\n",
      "Degrees of freedom: 1\n",
      "Expected values: [[3477.81801923  777.18198077]\n",
      " [ 178.18198077   39.81801923]]\n"
     ]
    }
   ],
   "source": [
    "res = stats.chi2_contingency(cdf)\n",
    "print(\"chi_square test statistic:\",res[0])\n",
    "print(\"p-value:\",res[1])\n",
    "print(\"Degrees of freedom:\",res[2])\n",
    "print(\"Expected values:\",res[3])"
   ]
  },
  {
   "cell_type": "markdown",
   "metadata": {},
   "source": [
    "<span style=\"color:black; font-weight:700;font-size:18px\"> Με το p-value μικρότερο του 0.05 έχουμε συσχέτιση μεταξύ romantic και classy. </span>"
   ]
  },
  {
   "cell_type": "code",
   "execution_count": 146,
   "metadata": {},
   "outputs": [
    {
     "name": "stdout",
     "output_type": "stream",
     "text": [
      "There is dependency between our variables with p-value: 3.079265795785991e-31\n"
     ]
    }
   ],
   "source": [
    "a = 0.05\n",
    "if(res[1]<a):\n",
    "    print(\"There is dependency between our variables with p-value:\",res[1])\n",
    "else:\n",
    "    print(\"We don't have sufficient evidence to say there is dependency\")"
   ]
  },
  {
   "cell_type": "markdown",
   "metadata": {},
   "source": [
    "<span style=\"color:black; font-weight:700;font-size:18px\"> Βλέπουμε ανάμεσα στους πίνακες observed και expected υπάρχει μεγάλη ομοιότητα. </span>"
   ]
  },
  {
   "cell_type": "code",
   "execution_count": null,
   "metadata": {},
   "outputs": [],
   "source": []
  }
 ],
 "metadata": {
  "kernelspec": {
   "display_name": "Python 3",
   "language": "python",
   "name": "python3"
  },
  "language_info": {
   "codemirror_mode": {
    "name": "ipython",
    "version": 3
   },
   "file_extension": ".py",
   "mimetype": "text/x-python",
   "name": "python",
   "nbconvert_exporter": "python",
   "pygments_lexer": "ipython3",
   "version": "3.8.5"
  }
 },
 "nbformat": 4,
 "nbformat_minor": 4
}
