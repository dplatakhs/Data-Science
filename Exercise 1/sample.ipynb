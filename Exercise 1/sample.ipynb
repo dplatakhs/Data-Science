{
 "cells": [
  {
   "cell_type": "markdown",
   "metadata": {},
   "source": [
    "# Exercise 1"
   ]
  },
  {
   "cell_type": "code",
   "execution_count": 1,
   "metadata": {},
   "outputs": [],
   "source": [
    "import numpy as np\n",
    "import random"
   ]
  },
  {
   "cell_type": "code",
   "execution_count": 3,
   "metadata": {},
   "outputs": [
    {
     "name": "stdout",
     "output_type": "stream",
     "text": [
      "The items left in the bin: ['Sam Dekker', 'Aaron Gray', 'CJ Miles', 'Shane Larkin', 'Kay Felder', 'Robert Covington', 'Daniel Gafford', 'CJ Leslie', 'Trevon Bluiett', 'Malcolm Thomas']\n"
     ]
    }
   ],
   "source": [
    "def sample(fileName, k):\n",
    "    i = 0\n",
    "    # create empty bins\n",
    "    bins = [0 for i in range(k)]\n",
    "    f = open(fileName+\".txt\",\"r\")\n",
    "    \n",
    "    # Step 1: fill the bucket with the first k items of the stream\n",
    "    for i in range(k):\n",
    "        item = f.readline()\n",
    "        # Step 1.5: if the stream is equal or less than the number of bins,\n",
    "        # print a message and return bins\n",
    "        if(item==''):\n",
    "            print(\"The bin is as larger as/larger than the whole stream, so we saved it all!\")\n",
    "            return bins\n",
    "        # we use [:-1] so we don't get \\n\n",
    "        bins[i] = item[:-1]\n",
    "        \n",
    "    # i points at the last item, we need to do it +1 so we point to (k+1)th\n",
    "    i+=1\n",
    "    while(True):\n",
    "        item = f.readline()\n",
    "        # check if end of file\n",
    "        if not item:\n",
    "            break\n",
    "        \n",
    "        # Step 2: generate a random number from 0 to i (the generator doesn't include the last num)\n",
    "        ranChoice = random.choice(range(i+1))\n",
    "        # Step 3: if it's lower than the size of the bin, replace the item in the bin that the index\n",
    "        # of the ranChoice points to.\n",
    "        if(ranChoice<k):\n",
    "            bins[ranChoice] = item[:-1]\n",
    "        \n",
    "        # point to the next item\n",
    "        i+=1\n",
    "    \n",
    "    print(\"The items left in the bin:\",bins)\n",
    "    return bins\n",
    "\n",
    "bins = sample(\"sample\",10)"
   ]
  },
  {
   "cell_type": "markdown",
   "metadata": {},
   "source": [
    "<span style=\"color:black; font-weight:700;font-size:20px\">  Βήμα 1 </span>\n",
    "\n",
    "Ο αλγόριθμος αρχικά αποθηκεύει σε μια λίστα τα πρώτα k στοιχεία\n",
    "(αν υπάρχουν ίσα ή λιγότερα από k, αποθηκεύονται όλα και τερματίζει)\n",
    "και στην συνέχεια για κάθε i-οστό στοιχείο (i>k) παράγεται ένας\n",
    "αριθμός από 0 έως i. Αν ο αριθμός μικρότερος του k, το i-οστό στοιχείο αντικαθιστά το στοιχείο \n",
    "της λίστας που βρίσκεται στην θέση του αριθμού που παράχθηκε. Όταν ολοκληρωθεί το ρεύμα\n",
    "επιστρέφει την λίστα μήκους k με τα επιλεγμένα στοιχεία."
   ]
  },
  {
   "cell_type": "markdown",
   "metadata": {},
   "source": [
    "<span style=\"color:black; font-weight:700;font-size:20px\">  Βήμα 2 </span>\n",
    "\n",
    "Θα πάρουμε δύο περιπτώσεις, η μία θα είναι η πιθανότητα ένα από τα πρώτα k στοιχεία να είναι μέχρι το τέλος σε ένα από τα bins και η άλλη περίπτωση, ένα από τα στοιχεία i>k να είναι στο τέλος.\n",
    "\n",
    "<span style=\"color:black; font-weight:700;font-size:15px\"> Περίπτωση 1 </span>: P(\"ένα από τα πρώτα k στοιχεία να είναι μέχρι το τέλος\") = P(\"όλα τα υπόλοιπα στοιχεία i>k να μην τύχουν αριθμό ίσο με την θέση του στα bins\"). Το k+1 στοιχείο παράγει ένα νούμερο μέχρι το k+1, οπότε η πιθανότητα να ΜΗΝ παραχθεί ένα νούμερο ίσο με την θέση του δικού μας είναι k/k+1. Για το k+2 είναι: k+1/k+2 κ.ο.κ. Οπότε\n",
    "P(\"ένα από τα πρώτα k στοιχεία να είναι μέχρι το τέλος\") = (k/k+1) * (k+1/k+2) * (k+2/k+3) * ... * (n-1/n) = k/n.\n",
    "\n",
    "<span style=\"color:black; font-weight:700;font-size:15px\"> Περίπτωση 2 </span>: P(\"ένα από τα στοιχεία i>k να είναι στο τέλος\"). Αν κοιτάξουμε το τελευταίο στοιχείο του ρεύματος, το στοιχείο n, η πιθανότητα να επιλεχθεί είναι k/n. Το δεύτερο από το τέλός να επιλεχθεί έχει πιθανότητα: η πιθανότητα να μπει σε ένα απο τα bins και το στοιχείο n να μην διαλέξει το ίδιο bin, δηλαδή P(\"να επιλεχθεί το προτελευταίο\") = P(\"να μπει σε bin\") * P(\"το στοιχείο n να μην μπει στην ίδια θέση\") = (k/n-1) * (n-1/n) = k/n. Με παρόμοιο τρόπο -όπως το στοιχείο n-1- αποδεικνύουμε για όλα τα υπόλοιπα."
   ]
  },
  {
   "cell_type": "markdown",
   "metadata": {},
   "source": [
    "<span style=\"color:black; font-weight:700;font-size:20px\"> Ερώτηση 1, υπόερώτημα Β </span>\n",
    "\n",
    "Κάθε στοιχείο i που διαβάζεται με βάρος wi, θα έχει πιθανότητα να επιλεχθεί στην θέση ίση με wi/Σiw, όπου Σiw είναι το άθροισμα των βαρών που έχουν διαβαστεί.\n",
    "Απόδειξη: P(\"το i στοιχείο να μείνει μέχρι το τέλος\") = P(\"να μπει με πιθανότητα wi/Σw\") * P(\"όλα τα υπόλοιπα στοιχεία να ΜΗΝ επιλεχθούν), συγκεκριμένα:\n",
    "- P(\"όλα τα υπόλοιπα στοιχεία να ΜΗΝ επιλεχθούν) = P(\"το στοιχείο i+1 να μην επιλεχθεί\") * P(\"το στοιχείο i+2 να μην επιλεχθεί\") * ... * P(\"το στοιχείο n να μην επιλεχθεί\") = (Σ(i+1)w - wi+1/Σ(i+1)w) * (Σ(i+2)w - w(i+2)/Σ(i+2)w) * ... * (Σ(n)w - wn/Σ(n)w) =\n",
    "(Σ(i)w/Σ(i+1)w) * Σ(i+1)w/Σ(i+2)w) * ... * Σ(n-1)w/Σ(n)w) = Σ(i)w/Σ(n)w.\n",
    "- Οπότε: P(\"το i στοιχείο να μείνει μέχρι το τέλος\") = P(\"να μπει με πιθανότητα wi/Σw\") * P(\"όλα τα υπόλοιπα στοιχεία να ΜΗΝ επιλεχθούν) = (wi/Σ(i)w) * (Σ(i)w/Σ(n)w) = wi/Σ(n)w"
   ]
  }
 ],
 "metadata": {
  "kernelspec": {
   "display_name": "Python 3",
   "language": "python",
   "name": "python3"
  },
  "language_info": {
   "codemirror_mode": {
    "name": "ipython",
    "version": 3
   },
   "file_extension": ".py",
   "mimetype": "text/x-python",
   "name": "python",
   "nbconvert_exporter": "python",
   "pygments_lexer": "ipython3",
   "version": "3.8.5"
  }
 },
 "nbformat": 4,
 "nbformat_minor": 4
}
