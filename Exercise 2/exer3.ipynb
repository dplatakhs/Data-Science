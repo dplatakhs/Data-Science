{
 "cells": [
  {
   "cell_type": "code",
   "execution_count": 11,
   "metadata": {},
   "outputs": [],
   "source": [
    "import pandas as pd\n",
    "import numpy as np\n",
    "from sklearn.cluster import KMeans\n",
    "import matplotlib.pyplot as plt\n",
    "import sklearn.metrics as metrics\n",
    "import json\n",
    "import csv\n",
    "from sklearn.feature_extraction.text import TfidfVectorizer\n",
    "from sklearn.cluster import AgglomerativeClustering\n",
    "import seaborn as sns"
   ]
  },
  {
   "cell_type": "code",
   "execution_count": 12,
   "metadata": {},
   "outputs": [
    {
     "name": "stderr",
     "output_type": "stream",
     "text": [
      "[nltk_data] Downloading package punkt to\n",
      "[nltk_data]     C:\\Users\\jimmy\\AppData\\Roaming\\nltk_data...\n",
      "[nltk_data]   Package punkt is already up-to-date!\n",
      "[nltk_data] Downloading package stopwords to\n",
      "[nltk_data]     C:\\Users\\jimmy\\AppData\\Roaming\\nltk_data...\n",
      "[nltk_data]   Package stopwords is already up-to-date!\n"
     ]
    },
    {
     "data": {
      "text/plain": [
       "True"
      ]
     },
     "execution_count": 12,
     "metadata": {},
     "output_type": "execute_result"
    }
   ],
   "source": [
    "import nltk\n",
    "from nltk.corpus import stopwords\n",
    "from nltk.tokenize import word_tokenize\n",
    "nltk.download('punkt')\n",
    "nltk.download('stopwords')"
   ]
  },
  {
   "cell_type": "markdown",
   "metadata": {},
   "source": [
    "<span style=\"color:black; font-weight:700;font-size:18px\"> Διαβάζουμε το αρχείο phily_businesses.csv και κρατάμε μόνο όσες επιχειρήσεις έχουν στο categories feature την λέξη Restaurant. </span>"
   ]
  },
  {
   "cell_type": "code",
   "execution_count": 13,
   "metadata": {},
   "outputs": [
    {
     "name": "stdout",
     "output_type": "stream",
     "text": [
      "How many restaurants: 5854\n",
      "Columns: Index(['business_id', 'name', 'address', 'city', 'state', 'postal_code',\n",
      "       'latitude', 'longitude', 'stars', 'review_count', 'is_open',\n",
      "       'attributes', 'categories', 'hours'],\n",
      "      dtype='object')\n"
     ]
    }
   ],
   "source": [
    "phily = pd.read_csv(\"phily_businesses.csv\")\n",
    "\n",
    "# get all businesses that have restaurants in category\n",
    "rest = phily[phily['categories'].str.contains('Restaurant', na=False)]\n",
    "print(\"How many restaurants:\",len(rest.index))\n",
    "print(\"Columns:\",rest.columns)"
   ]
  },
  {
   "cell_type": "markdown",
   "metadata": {},
   "source": [
    "<span style=\"color:black; font-weight:700;font-size:18px\"> Βρίσκουμε από τα εστιατόρια ποια από αυτά περιέχουν την μόνο την λέξη 'Japanese' και όχι 'Italian'/'Burger'. Επαναλαμβάνουμε την διαδικασία για 'Italian' και 'Burger'. </span>"
   ]
  },
  {
   "cell_type": "code",
   "execution_count": 14,
   "metadata": {},
   "outputs": [
    {
     "name": "stdout",
     "output_type": "stream",
     "text": [
      "235\n",
      "490\n",
      "348\n"
     ]
    }
   ],
   "source": [
    "# get all businesses that have japanese in category\n",
    "restF = rest[rest['categories'].str.contains('Japanese', na=False) &\n",
    "            ~rest['categories'].str.contains('Italian', na=False) &\n",
    "            ~rest['categories'].str.contains('Burger', na=False)]\n",
    "print(len(restF.index))\n",
    "\n",
    "# get all businesses that have italian in category\n",
    "restIt = rest[rest['categories'].str.contains('Italian', na=False) &\n",
    "            ~rest['categories'].str.contains('Japanese', na=False) &\n",
    "            ~rest['categories'].str.contains('Burger', na=False)]\n",
    "print(len(restIt.index))\n",
    "\n",
    "# get all businesses that have burger in category\n",
    "restbur = rest[rest['categories'].str.contains('Burger', na=False) &\n",
    "            ~rest['categories'].str.contains('Japanese', na=False) &\n",
    "            ~rest['categories'].str.contains('Italian', na=False)]\n",
    "print(len(restbur.index))"
   ]
  },
  {
   "cell_type": "markdown",
   "metadata": {},
   "source": [
    "<span style=\"color:black; font-weight:700;font-size:18px\"> Τώρα από τα ιαπωνικά εστιατόρια του DataFrame restF, κρατάμε όσα από αυτά δεν βρίσκονται στα DataFrame των ιταλικών και των burger εστιατορίων. </span>"
   ]
  },
  {
   "cell_type": "code",
   "execution_count": 15,
   "metadata": {},
   "outputs": [
    {
     "name": "stdout",
     "output_type": "stream",
     "text": [
      "204\n",
      "204\n"
     ]
    }
   ],
   "source": [
    "restF = restF[~restF['business_id'].isin(restIt['business_id'])].dropna()\n",
    "print(len(restF.index))\n",
    "restF = restF[~restF['business_id'].isin(restbur['business_id'])].dropna()\n",
    "print(len(restF.index))"
   ]
  },
  {
   "cell_type": "markdown",
   "metadata": {},
   "source": [
    "<span style=\"color:black; font-weight:700;font-size:18px\"> Το ίδιο για τα ιταλικά, κρατάμε όσα δεν βρίσκονται στα DataFrame των ιαπωνικών και των burger εστιατορίων. </span>"
   ]
  },
  {
   "cell_type": "code",
   "execution_count": 16,
   "metadata": {},
   "outputs": [
    {
     "name": "stdout",
     "output_type": "stream",
     "text": [
      "431\n",
      "431\n"
     ]
    }
   ],
   "source": [
    "restIt = restIt[~restIt['business_id'].isin(restF['business_id'])].dropna()\n",
    "print(len(restIt.index))\n",
    "restIt = restIt[~restIt['business_id'].isin(restbur['business_id'])].dropna()\n",
    "print(len(restIt.index))"
   ]
  },
  {
   "cell_type": "markdown",
   "metadata": {},
   "source": [
    "<span style=\"color:black; font-weight:700;font-size:18px\"> Και τέλος το ίδιο για τα burger εστιατόρια, κρατάμε όσα δεν βρίσκονται στα DataFrame των ιαπωνικών και των ιταλικών εστιατορίων. </span>"
   ]
  },
  {
   "cell_type": "code",
   "execution_count": 17,
   "metadata": {},
   "outputs": [
    {
     "name": "stdout",
     "output_type": "stream",
     "text": [
      "316\n",
      "316\n"
     ]
    }
   ],
   "source": [
    "restbur = restbur[~restbur['business_id'].isin(restIt['business_id'])].dropna()\n",
    "print(len(restbur.index))\n",
    "restbur = restbur[~restbur['business_id'].isin(restF['business_id'])].dropna()\n",
    "print(len(restbur.index))"
   ]
  },
  {
   "cell_type": "markdown",
   "metadata": {},
   "source": [
    "<span style=\"color:black; font-weight:700;font-size:18px\"> Ενώνουμε τα τρία DataFrames restF, restIt, restbur και έχουμε όσα εστιατόρια λέει η εκφώνηση. </span>"
   ]
  },
  {
   "cell_type": "code",
   "execution_count": 18,
   "metadata": {},
   "outputs": [
    {
     "name": "stdout",
     "output_type": "stream",
     "text": [
      "951\n"
     ]
    }
   ],
   "source": [
    "restF = restF.append(restIt)\n",
    "restF = restF.append(restbur)\n",
    "print(len(restF.index))"
   ]
  },
  {
   "cell_type": "markdown",
   "metadata": {},
   "source": [
    "<span style=\"color:black; font-weight:700;font-size:18px\"> Μετατρέπουμε τα categories 'Japanese','Italian','Burger' σε 0,1,2. </span>"
   ]
  },
  {
   "cell_type": "code",
   "execution_count": 19,
   "metadata": {},
   "outputs": [
    {
     "data": {
      "text/plain": [
       "1        0\n",
       "15       0\n",
       "104      0\n",
       "165      0\n",
       "282      0\n",
       "        ..\n",
       "14262    2\n",
       "14354    2\n",
       "14365    2\n",
       "14425    2\n",
       "14437    2\n",
       "Name: category_label, Length: 951, dtype: int64"
      ]
     },
     "execution_count": 19,
     "metadata": {},
     "output_type": "execute_result"
    }
   ],
   "source": [
    "restF['category_label'] = restF['categories'].apply(lambda x: 0 if('Japanese' in x)\n",
    "                                                   else (1 if('Italian' in x)\n",
    "                                                   else 2))\n",
    "\n",
    "restF['category_label']"
   ]
  },
  {
   "cell_type": "markdown",
   "metadata": {},
   "source": [
    "<span style=\"color:black; font-weight:700;font-size:18px\"> Παίρνουμε όσα reviews έχουν γίνει στα εστιατόρια που κρατήσαμε και τα αποθηκεύουμε σε ένα αρχείο για πρακτικούς λόγους.</span>"
   ]
  },
  {
   "cell_type": "code",
   "execution_count": null,
   "metadata": {},
   "outputs": [],
   "source": [
    "data = []\n",
    "reviews = []\n",
    "#phillyBusiness = np.array(df.business_id.values)\n",
    "i = 0\n",
    "wantedRest = restF[\"business_id\"]\n",
    "#print(wantedRest)\n",
    "realCounter = 0\n",
    "with open('yelp_academic_dataset_review.json', encoding='utf-8') as f:\n",
    "    for line in f:\n",
    "        #data.append(json.loads(line))\n",
    "        #print(data[i])\n",
    "        line = eval(line)\n",
    "        #print(line[\"business_id\"], type(line[\"business_id\"]))\n",
    "        if(wantedRest.str.contains(line[\"business_id\"]).any()):\n",
    "            reviews.append(line)\n",
    "            #print(\"Found one! at:\",i)\n",
    "        i += 1\n",
    "        if(i%10000 == 0): print(i)\n"
   ]
  },
  {
   "cell_type": "code",
   "execution_count": null,
   "metadata": {},
   "outputs": [],
   "source": [
    "revDf = pd.DataFrame(reviews)\n",
    "\n",
    "# save to csv file\n",
    "revDf.to_csv('reviewsRest.csv', encoding='utf-8', index=False)"
   ]
  },
  {
   "cell_type": "code",
   "execution_count": 20,
   "metadata": {},
   "outputs": [],
   "source": [
    "revDf = pd.read_csv('reviewsRest.csv')"
   ]
  },
  {
   "cell_type": "markdown",
   "metadata": {},
   "source": [
    "<span style=\"color:black; font-weight:700;font-size:18px\"> Αυτήν την στιγμή έχουμε ένα DataFrame με κάθε business_id και το review του. Κάνουμε groupby με τα business_id, κρατάμε σε μια λίστα τα business_ids και δημιουργούμε μια νέα στήλη στην οποία έχουμε κάνει join κάθε review της επιχείρησης. </span>"
   ]
  },
  {
   "cell_type": "code",
   "execution_count": 21,
   "metadata": {},
   "outputs": [],
   "source": [
    "bus_groups = revDf.groupby('business_id')\n",
    "business_names = []\n",
    "text_joined = []\n",
    "\n",
    "for business_id, bus_data in bus_groups:\n",
    "    #print(business_id)\n",
    "    business_names.append(business_id)\n",
    "    #print(bus_data['text'])\n",
    "    text_joined.append(' '.join(bus_data[\"text\"]))\n",
    "    "
   ]
  },
  {
   "cell_type": "markdown",
   "metadata": {},
   "source": [
    "<span style=\"color:black; font-weight:700;font-size:18px\"> Δημιουργούμε ένα DataFrame bus_reviews με δύο στήλες, στην πρώτη το business_id και στην άλλη όλα τα review ενωμένα. </span>"
   ]
  },
  {
   "cell_type": "code",
   "execution_count": 22,
   "metadata": {},
   "outputs": [
    {
     "data": {
      "text/plain": [
       "<bound method NDFrame.head of                 business_id                                               text\n",
       "0    -AbzJTLQdbdQrhRzQLgsKA  Kingyo has summer appetizer specials for $3.00...\n",
       "1    -HxLFWKVgXSU8JlR21PBkg  \"Carluccio's: Way Delish\"\\n\\nEver find yoursel...\n",
       "2    -LmhsdQproqCf5EQoD06rQ  Down in south Philly for a meeting at my daugh...\n",
       "3    -MkngKKkTIVfnUbq2S1ucQ  Dee-frickin'-licious thick crust pizza!!! I or...\n",
       "4    -PMXnNJ1D67NkAupRHNkpQ  I've always preferred domino's over pizza hut!...\n",
       "..                      ...                                                ...\n",
       "946  zUJMvjK6aBeQtVCowZ85-w  Excelent! Food is wondeful, hot, and fresh! Th...\n",
       "947  zeounyPVXFZEz1c9KtptLA  Pizza, wings, steaks are good.. chicken finger...\n",
       "948  zgX8sYCRGVJ9M5LETpJ60A  I popped in there one afternoon to pick up som...\n",
       "949  zqisPpgCURrgLf4TVnI8RQ  This review is for poke bowl. Very fresh salad...\n",
       "950  zzyx5x0Z7xXWWvWnZFuxlQ  Maybe the pizza is good here... but I can real...\n",
       "\n",
       "[951 rows x 2 columns]>"
      ]
     },
     "execution_count": 22,
     "metadata": {},
     "output_type": "execute_result"
    }
   ],
   "source": [
    "bus_reviews = pd.DataFrame([])\n",
    "bus_reviews['business_id'] = pd.Series(business_names)\n",
    "bus_reviews['text'] = pd.Series(text_joined)\n",
    "bus_reviews.head"
   ]
  },
  {
   "cell_type": "markdown",
   "metadata": {},
   "source": [
    "<span style=\"color:black; font-weight:700;font-size:18px\"> Τώρα για να αναθέσουμε το category σε κάθε business_id ταξινομούμε το restF DataFrame και θέτουμε στο bus_review ως νέα στήλη την στήλη category_label από το restF. </span>"
   ]
  },
  {
   "cell_type": "code",
   "execution_count": 23,
   "metadata": {},
   "outputs": [
    {
     "data": {
      "text/plain": [
       "<bound method NDFrame.head of                 business_id  \\\n",
       "0    -AbzJTLQdbdQrhRzQLgsKA   \n",
       "1    -HxLFWKVgXSU8JlR21PBkg   \n",
       "2    -LmhsdQproqCf5EQoD06rQ   \n",
       "3    -MkngKKkTIVfnUbq2S1ucQ   \n",
       "4    -PMXnNJ1D67NkAupRHNkpQ   \n",
       "..                      ...   \n",
       "946  zUJMvjK6aBeQtVCowZ85-w   \n",
       "947  zeounyPVXFZEz1c9KtptLA   \n",
       "948  zgX8sYCRGVJ9M5LETpJ60A   \n",
       "949  zqisPpgCURrgLf4TVnI8RQ   \n",
       "950  zzyx5x0Z7xXWWvWnZFuxlQ   \n",
       "\n",
       "                                                  text  category  \n",
       "0    Kingyo has summer appetizer specials for $3.00...         0  \n",
       "1    \"Carluccio's: Way Delish\"\\n\\nEver find yoursel...         1  \n",
       "2    Down in south Philly for a meeting at my daugh...         0  \n",
       "3    Dee-frickin'-licious thick crust pizza!!! I or...         1  \n",
       "4    I've always preferred domino's over pizza hut!...         1  \n",
       "..                                                 ...       ...  \n",
       "946  Excelent! Food is wondeful, hot, and fresh! Th...         0  \n",
       "947  Pizza, wings, steaks are good.. chicken finger...         1  \n",
       "948  I popped in there one afternoon to pick up som...         2  \n",
       "949  This review is for poke bowl. Very fresh salad...         0  \n",
       "950  Maybe the pizza is good here... but I can real...         1  \n",
       "\n",
       "[951 rows x 3 columns]>"
      ]
     },
     "execution_count": 23,
     "metadata": {},
     "output_type": "execute_result"
    }
   ],
   "source": [
    "restF.sort_values(by=['business_id'], inplace=True)\n",
    "bus_reviews['category'] = restF['category_label'].tolist()\n",
    "bus_reviews.head"
   ]
  },
  {
   "cell_type": "markdown",
   "metadata": {},
   "source": [
    "<span style=\"color:black; font-weight:700;font-size:18px\"> Κάνουμε drop όσες γραμμές είναι null, προληπτικά. </span>"
   ]
  },
  {
   "cell_type": "code",
   "execution_count": 24,
   "metadata": {},
   "outputs": [
    {
     "name": "stdout",
     "output_type": "stream",
     "text": [
      "Number of lines after dropna: 951\n"
     ]
    }
   ],
   "source": [
    "bus_reviews['text'].dropna(inplace=True)\n",
    "print(\"Number of lines after dropna:\",len(bus_reviews.index))"
   ]
  },
  {
   "cell_type": "markdown",
   "metadata": {},
   "source": [
    "<span style=\"color:black; font-weight:700;font-size:18px\"> Τώρα με την χρήση lambda function και την λίστα από τα stopwords που κατεβάσαμε στην αρχή, αν μια λέξη δεν περιέχεται στο stopwords list, την κρατάμε. Το νέο κείμενο που δημιουργείται, κρατιέται σε μια νέα στήλη. </span>"
   ]
  },
  {
   "cell_type": "code",
   "execution_count": 25,
   "metadata": {},
   "outputs": [
    {
     "data": {
      "text/plain": [
       "<bound method NDFrame.head of                 business_id  \\\n",
       "0    -AbzJTLQdbdQrhRzQLgsKA   \n",
       "1    -HxLFWKVgXSU8JlR21PBkg   \n",
       "2    -LmhsdQproqCf5EQoD06rQ   \n",
       "3    -MkngKKkTIVfnUbq2S1ucQ   \n",
       "4    -PMXnNJ1D67NkAupRHNkpQ   \n",
       "..                      ...   \n",
       "946  zUJMvjK6aBeQtVCowZ85-w   \n",
       "947  zeounyPVXFZEz1c9KtptLA   \n",
       "948  zgX8sYCRGVJ9M5LETpJ60A   \n",
       "949  zqisPpgCURrgLf4TVnI8RQ   \n",
       "950  zzyx5x0Z7xXWWvWnZFuxlQ   \n",
       "\n",
       "                                                  text  category  \\\n",
       "0    Kingyo has summer appetizer specials for $3.00...         0   \n",
       "1    \"Carluccio's: Way Delish\"\\n\\nEver find yoursel...         1   \n",
       "2    Down in south Philly for a meeting at my daugh...         0   \n",
       "3    Dee-frickin'-licious thick crust pizza!!! I or...         1   \n",
       "4    I've always preferred domino's over pizza hut!...         1   \n",
       "..                                                 ...       ...   \n",
       "946  Excelent! Food is wondeful, hot, and fresh! Th...         0   \n",
       "947  Pizza, wings, steaks are good.. chicken finger...         1   \n",
       "948  I popped in there one afternoon to pick up som...         2   \n",
       "949  This review is for poke bowl. Very fresh salad...         0   \n",
       "950  Maybe the pizza is good here... but I can real...         1   \n",
       "\n",
       "                                       text_without_sw  \n",
       "0    Kingyo summer appetizer specials $3.00 Yes - t...  \n",
       "1    \"Carluccio's: Way Delish\" Ever find captivated...  \n",
       "2    Down south Philly meeting daughter's school, l...  \n",
       "3    Dee-frickin'-licious thick crust pizza!!! I or...  \n",
       "4    I've always preferred domino's pizza hut! I or...  \n",
       "..                                                 ...  \n",
       "946  Excelent! Food wondeful, hot, fresh! The sushi...  \n",
       "947  Pizza, wings, steaks good.. chicken fingers ba...  \n",
       "948  I popped one afternoon pick lunch take-out. It...  \n",
       "949  This review poke bowl. Very fresh salad fish. ...  \n",
       "950  Maybe pizza good here... I really speak soup s...  \n",
       "\n",
       "[951 rows x 4 columns]>"
      ]
     },
     "execution_count": 25,
     "metadata": {},
     "output_type": "execute_result"
    }
   ],
   "source": [
    "stop = stopwords.words('english')\n",
    "bus_reviews['text_without_sw'] = bus_reviews['text'].apply(lambda x: ' '.join([word for word in x.split() if word not in (stop)]))\n",
    "bus_reviews.head"
   ]
  },
  {
   "cell_type": "markdown",
   "metadata": {},
   "source": [
    "<span style=\"color:black; font-weight:700;font-size:18px\"> Τώρα για κάθε business_id έχουμε την ένωση όλων των reviews χωρίς stopwords, και για αυτή την ένωση κειμένων βγάζουμε σε ένα array τα αποτελέσματα του tfid αλγορίθμου. Μετά, κρατάμε στο feature_names τις λέξεις του κειμένου που θα χρησιμοποιηθούν αργότερα. </span>"
   ]
  },
  {
   "cell_type": "code",
   "execution_count": 26,
   "metadata": {},
   "outputs": [],
   "source": [
    "v = TfidfVectorizer(stop_words = 'english', min_df = 0.2, max_df = 0.8)\n",
    "x = v.fit_transform(bus_reviews['text_without_sw']).toarray()\n",
    "\n",
    "feature_names = v.get_feature_names()"
   ]
  },
  {
   "cell_type": "markdown",
   "metadata": {},
   "source": [
    "<span style=\"color:black; font-weight:700;font-size:18px\"> Δημιουργούμε το dataset που θα εφαρμόσουμε χωρίς τα labels αφού οι αλγόριθμοι είναι unsupervised </span>"
   ]
  },
  {
   "cell_type": "code",
   "execution_count": 27,
   "metadata": {},
   "outputs": [],
   "source": [
    "# x contains a list where in each cell we have the list of the joined-texts\n",
    "kmeans_data = pd.DataFrame(x)"
   ]
  },
  {
   "cell_type": "code",
   "execution_count": 28,
   "metadata": {},
   "outputs": [],
   "source": [
    "km = KMeans(n_clusters = 3)\n",
    "# Cluster using SOME columns\n",
    "kmeans = km.fit(kmeans_data)\n",
    "bus_reviews['clusters_km_3'] = km.labels_"
   ]
  },
  {
   "cell_type": "code",
   "execution_count": 29,
   "metadata": {},
   "outputs": [],
   "source": [
    "clustering = AgglomerativeClustering(n_clusters = 3)\n",
    "ac_ward = clustering.fit(kmeans_data)\n",
    "bus_reviews['clusters_am_ward_3'] = clustering.labels_"
   ]
  },
  {
   "cell_type": "code",
   "execution_count": 30,
   "metadata": {},
   "outputs": [],
   "source": [
    "clustering2 = AgglomerativeClustering(n_clusters = 3, linkage = 'complete')\n",
    "ac_compl = clustering2.fit(kmeans_data)\n",
    "bus_reviews['clusters_am_cmpl_3'] = ac_compl.labels_"
   ]
  },
  {
   "cell_type": "code",
   "execution_count": 31,
   "metadata": {},
   "outputs": [],
   "source": [
    "clustering3 = AgglomerativeClustering(n_clusters = 3, linkage = 'average')\n",
    "ac_avg = clustering3.fit(kmeans_data)\n",
    "bus_reviews['clusters_am_avg_3'] = ac_avg.labels_"
   ]
  },
  {
   "cell_type": "code",
   "execution_count": 32,
   "metadata": {},
   "outputs": [],
   "source": [
    "clustering4 = AgglomerativeClustering(n_clusters = 3, linkage = 'single')\n",
    "ac_single = clustering4.fit(kmeans_data)\n",
    "bus_reviews['clusters_am_sng_3'] = ac_single.labels_"
   ]
  },
  {
   "cell_type": "code",
   "execution_count": 33,
   "metadata": {},
   "outputs": [
    {
     "data": {
      "text/plain": [
       "<bound method NDFrame.head of                 business_id  \\\n",
       "0    -AbzJTLQdbdQrhRzQLgsKA   \n",
       "1    -HxLFWKVgXSU8JlR21PBkg   \n",
       "2    -LmhsdQproqCf5EQoD06rQ   \n",
       "3    -MkngKKkTIVfnUbq2S1ucQ   \n",
       "4    -PMXnNJ1D67NkAupRHNkpQ   \n",
       "..                      ...   \n",
       "946  zUJMvjK6aBeQtVCowZ85-w   \n",
       "947  zeounyPVXFZEz1c9KtptLA   \n",
       "948  zgX8sYCRGVJ9M5LETpJ60A   \n",
       "949  zqisPpgCURrgLf4TVnI8RQ   \n",
       "950  zzyx5x0Z7xXWWvWnZFuxlQ   \n",
       "\n",
       "                                                  text  category  \\\n",
       "0    Kingyo has summer appetizer specials for $3.00...         0   \n",
       "1    \"Carluccio's: Way Delish\"\\n\\nEver find yoursel...         1   \n",
       "2    Down in south Philly for a meeting at my daugh...         0   \n",
       "3    Dee-frickin'-licious thick crust pizza!!! I or...         1   \n",
       "4    I've always preferred domino's over pizza hut!...         1   \n",
       "..                                                 ...       ...   \n",
       "946  Excelent! Food is wondeful, hot, and fresh! Th...         0   \n",
       "947  Pizza, wings, steaks are good.. chicken finger...         1   \n",
       "948  I popped in there one afternoon to pick up som...         2   \n",
       "949  This review is for poke bowl. Very fresh salad...         0   \n",
       "950  Maybe the pizza is good here... but I can real...         1   \n",
       "\n",
       "                                       text_without_sw  clusters_km_3  \\\n",
       "0    Kingyo summer appetizer specials $3.00 Yes - t...              2   \n",
       "1    \"Carluccio's: Way Delish\" Ever find captivated...              0   \n",
       "2    Down south Philly meeting daughter's school, l...              0   \n",
       "3    Dee-frickin'-licious thick crust pizza!!! I or...              1   \n",
       "4    I've always preferred domino's pizza hut! I or...              1   \n",
       "..                                                 ...            ...   \n",
       "946  Excelent! Food wondeful, hot, fresh! The sushi...              2   \n",
       "947  Pizza, wings, steaks good.. chicken fingers ba...              1   \n",
       "948  I popped one afternoon pick lunch take-out. It...              0   \n",
       "949  This review poke bowl. Very fresh salad fish. ...              2   \n",
       "950  Maybe pizza good here... I really speak soup s...              1   \n",
       "\n",
       "     clusters_am_ward_3  clusters_am_cmpl_3  clusters_am_avg_3  \\\n",
       "0                     2                   2                  0   \n",
       "1                     0                   0                  0   \n",
       "2                     0                   0                  0   \n",
       "3                     1                   1                  0   \n",
       "4                     1                   1                  0   \n",
       "..                  ...                 ...                ...   \n",
       "946                   2                   2                  0   \n",
       "947                   1                   1                  0   \n",
       "948                   0                   0                  0   \n",
       "949                   2                   2                  0   \n",
       "950                   1                   1                  0   \n",
       "\n",
       "     clusters_am_sng_3  \n",
       "0                    0  \n",
       "1                    0  \n",
       "2                    0  \n",
       "3                    0  \n",
       "4                    0  \n",
       "..                 ...  \n",
       "946                  0  \n",
       "947                  0  \n",
       "948                  0  \n",
       "949                  0  \n",
       "950                  0  \n",
       "\n",
       "[951 rows x 9 columns]>"
      ]
     },
     "execution_count": 33,
     "metadata": {},
     "output_type": "execute_result"
    }
   ],
   "source": [
    "bus_reviews.head"
   ]
  },
  {
   "cell_type": "code",
   "execution_count": null,
   "metadata": {},
   "outputs": [],
   "source": []
  },
  {
   "cell_type": "code",
   "execution_count": 34,
   "metadata": {},
   "outputs": [],
   "source": [
    "# ston x aksona ta alhthhina kai ston y oi problepseis. H sthlh 0, an thn athroisoume pairnoume posa anhkoun\n",
    "# ston cluster 0. Sthn sthlh 1, an thn athroisoume pairnoume posa anhkoun ston cluster 1. Opote blepoume\n",
    "# oti apo tis problepseis sthn sthlh 0, ana grammh poy phgane. emas mas endiaferei h grammh 0."
   ]
  },
  {
   "cell_type": "code",
   "execution_count": 35,
   "metadata": {},
   "outputs": [],
   "source": [
    "# parathroume oti grammh pairnoume stathera athroisma. Sta iapwnika-> 204, sta italika-> 431, sta burger-> 316"
   ]
  },
  {
   "cell_type": "code",
   "execution_count": 36,
   "metadata": {},
   "outputs": [
    {
     "name": "stdout",
     "output_type": "stream",
     "text": [
      "[[0.00815933 0.00578715 0.00772852 ... 0.00618059 0.00985923 0.00572958]\n",
      " [0.00729471 0.00363732 0.00557236 ... 0.00469698 0.00887999 0.0039329 ]\n",
      " [0.00583008 0.00346666 0.00722522 ... 0.01044493 0.0115828  0.00306176]]\n"
     ]
    }
   ],
   "source": [
    "kMeansCentroids = km.cluster_centers_\n",
    "print(kMeansCentroids)\n",
    "df = pd.DataFrame(kMeansCentroids, columns=feature_names)\n",
    "maxWords = df.idxmax(axis=1).tolist()\n",
    "#print(type(maxWords))\n",
    "#print(maxWords)\n",
    "#print(maxWords.index('pizza'))"
   ]
  },
  {
   "cell_type": "markdown",
   "metadata": {},
   "source": [
    "<span style=\"color:black; font-weight:700;font-size:18px\"> Crosstable για Kmeans με 3 clusters. Παρατηρούμε ότι ο τρίτος cluster κράτησε σχεδόν μονάχα τα ιαπωνικά εστιατόρια, ενώ στους άλλους δύο υπάρχει μια σύγχηση μεταξύ Italian και Burger, πρόβλημα που θα ξαναεμφανιστεί. </span>"
   ]
  },
  {
   "cell_type": "code",
   "execution_count": 37,
   "metadata": {},
   "outputs": [
    {
     "name": "stdout",
     "output_type": "stream",
     "text": [
      "          Burger  Italian  Japanese\n",
      "Japanese      67        0       137\n",
      "Italian      264      167         0\n",
      "Burger       291       24         1\n"
     ]
    },
    {
     "data": {
      "text/plain": [
       "<AxesSubplot:>"
      ]
     },
     "execution_count": 37,
     "metadata": {},
     "output_type": "execute_result"
    },
    {
     "data": {
      "image/png": "[encoded data removed]",
      "text/plain": [
       "<Figure size 648x504 with 2 Axes>"
      ]
     },
     "metadata": {},
     "output_type": "display_data"
    }
   ],
   "source": [
    "C= metrics.confusion_matrix(bus_reviews['category'],bus_reviews['clusters_km_3'].tolist())\n",
    "DataC = pd.DataFrame(C)\n",
    "col_assignment=[0,0,0]\n",
    "# where cluster's max word is equal to pizza\n",
    "col_assignment[maxWords.index('pizza')] = 'Italian'\n",
    "col_assignment[maxWords.index('sushi')] = 'Japanese'\n",
    "col_assignment[maxWords.index('burger')] = 'Burger'\n",
    "DataC.columns = col_assignment\n",
    "DataC.index = ['Japanese','Italian','Burger']\n",
    "print (DataC)\n",
    "\n",
    "sns.set(rc={'figure.figsize':(9,7)})\n",
    "sns.heatmap(DataC, cmap ='YlGnBu', linewidths = 0.30, annot = True, fmt='g')"
   ]
  },
  {
   "cell_type": "code",
   "execution_count": 38,
   "metadata": {},
   "outputs": [],
   "source": [
    "#            0    1    2\n",
    "# Japanese   84    0  120\n",
    "# Italian   252  179    0\n",
    "# Burger    292   23    1\n",
    "# στις γραμμες εχουμε τις πραγματικες τιμες. Δηαδη στην γραμμη japanese, το αθροισμα ειναι 204, στην\n",
    "# γραμμη italian το αιροισμα ειναι 431 και στην γραμμη burger το αθροισμα ειναι 316."
   ]
  },
  {
   "cell_type": "markdown",
   "metadata": {},
   "source": [
    "<span style=\"color:black; font-weight:700;font-size:18px\"> Εδώ δεν υπάρχουν κέντρα που να αντιστοιχούν σε κάποιο category απο πριν, οπότε το τί προσπάθησε να κάνει cluster θα πρεπει να ερμηνευτεί αλλιώς. Αρχικα το πρωτο πραγμα που φαινεται ειναι οτι ο cluster 2 προσπαθησε να κρατησει τα japanese restaurants και ο cluster 1 τα italians restaurants. Ήδη ξερουμε οτι υπαρχει συγχηση μεταξυ των italian/burger και ο cluster 0 εβαλε στο ιδιο cluster πολλα εστιατορια απο αυτες τις δυο κατηγοριες, ειναι ενα συμπλεγμα αυτων των δυο. </span>"
   ]
  },
  {
   "cell_type": "code",
   "execution_count": 39,
   "metadata": {},
   "outputs": [
    {
     "name": "stdout",
     "output_type": "stream",
     "text": [
      "            0    1    2\n",
      "Japanese   84    0  120\n",
      "Italian   252  179    0\n",
      "Burger    292   23    1\n"
     ]
    },
    {
     "data": {
      "text/plain": [
       "<AxesSubplot:>"
      ]
     },
     "execution_count": 39,
     "metadata": {},
     "output_type": "execute_result"
    },
    {
     "data": {
      "image/png": "[encoded data removed]",
      "text/plain": [
       "<Figure size 648x504 with 2 Axes>"
      ]
     },
     "metadata": {},
     "output_type": "display_data"
    }
   ],
   "source": [
    "C= metrics.confusion_matrix(bus_reviews['category'],bus_reviews['clusters_am_ward_3'].tolist())\n",
    "DataC = pd.DataFrame(C)\n",
    "DataC.columns = ['0','1','2']\n",
    "DataC.index = ['Japanese','Italian','Burger']\n",
    "print (DataC)\n",
    "\n",
    "sns.set(rc={'figure.figsize':(9,7)})\n",
    "sns.heatmap(DataC, cmap ='YlGnBu', linewidths = 0.30, annot = True, fmt='g')"
   ]
  },
  {
   "cell_type": "markdown",
   "metadata": {},
   "source": [
    "<span style=\"color:black; font-weight:700;font-size:18px\"> Ίδιο σκεπτικό με τον παραπάνω αλγόριθμο, απλώς εδώ ο cluster των ιαπωνικών τα κατάφερε καλύτερα. </span>"
   ]
  },
  {
   "cell_type": "code",
   "execution_count": 40,
   "metadata": {},
   "outputs": [
    {
     "name": "stdout",
     "output_type": "stream",
     "text": [
      "            0    1    2\n",
      "Japanese   20    0  184\n",
      "Italian   258  168    5\n",
      "Burger    286   25    5\n"
     ]
    },
    {
     "data": {
      "text/plain": [
       "<AxesSubplot:>"
      ]
     },
     "execution_count": 40,
     "metadata": {},
     "output_type": "execute_result"
    },
    {
     "data": {
      "image/png": "[encoded data removed]",
      "text/plain": [
       "<Figure size 648x504 with 2 Axes>"
      ]
     },
     "metadata": {},
     "output_type": "display_data"
    }
   ],
   "source": [
    "C= metrics.confusion_matrix(bus_reviews['category'],bus_reviews['clusters_am_cmpl_3'].tolist())\n",
    "DataC = pd.DataFrame(C)\n",
    "DataC.columns = ['0','1','2']\n",
    "DataC.index = ['Japanese','Italian','Burger']\n",
    "print (DataC)\n",
    "\n",
    "sns.set(rc={'figure.figsize':(9,7)})\n",
    "sns.heatmap(DataC, cmap ='YlGnBu', linewidths = 0.30, annot = True, fmt='g')"
   ]
  },
  {
   "cell_type": "markdown",
   "metadata": {},
   "source": [
    "<span style=\"color:black; font-weight:700;font-size:18px\"> Οι δύο αλγόριθμοι που ακολουθούν κάνανε και οι δύο έναν υπερ-cluster στον οποίο κρατάνε όλα τα εστιατόρια, δηλαδή αποτύγχανε. </span>"
   ]
  },
  {
   "cell_type": "code",
   "execution_count": 41,
   "metadata": {
    "scrolled": false
   },
   "outputs": [
    {
     "name": "stdout",
     "output_type": "stream",
     "text": [
      "            0  1  2\n",
      "Japanese  204  0  0\n",
      "Italian   429  1  1\n",
      "Burger    316  0  0\n"
     ]
    },
    {
     "data": {
      "text/plain": [
       "<AxesSubplot:>"
      ]
     },
     "execution_count": 41,
     "metadata": {},
     "output_type": "execute_result"
    },
    {
     "data": {
      "image/png": "[encoded data removed]",
      "text/plain": [
       "<Figure size 648x504 with 2 Axes>"
      ]
     },
     "metadata": {},
     "output_type": "display_data"
    }
   ],
   "source": [
    "C= metrics.confusion_matrix(bus_reviews['category'],bus_reviews['clusters_am_avg_3'].tolist())\n",
    "DataC = pd.DataFrame(C)\n",
    "DataC.columns = ['0','1','2']\n",
    "DataC.index = ['Japanese','Italian','Burger']\n",
    "print (DataC)\n",
    "\n",
    "sns.set(rc={'figure.figsize':(9,7)})\n",
    "sns.heatmap(DataC, cmap ='YlGnBu', linewidths = 0.30, annot = True, fmt='g')"
   ]
  },
  {
   "cell_type": "code",
   "execution_count": 42,
   "metadata": {
    "scrolled": false
   },
   "outputs": [
    {
     "name": "stdout",
     "output_type": "stream",
     "text": [
      "            0  1  2\n",
      "Japanese  204  0  0\n",
      "Italian   430  0  1\n",
      "Burger    315  1  0\n"
     ]
    },
    {
     "data": {
      "text/plain": [
       "<AxesSubplot:>"
      ]
     },
     "execution_count": 42,
     "metadata": {},
     "output_type": "execute_result"
    },
    {
     "data": {
      "image/png": "[encoded data removed]",
      "text/plain": [
       "<Figure size 648x504 with 2 Axes>"
      ]
     },
     "metadata": {},
     "output_type": "display_data"
    }
   ],
   "source": [
    "C= metrics.confusion_matrix(bus_reviews['category'],bus_reviews['clusters_am_sng_3'].tolist())\n",
    "DataC = pd.DataFrame(C)\n",
    "DataC.columns = ['0','1','2']\n",
    "DataC.index = ['Japanese','Italian','Burger']\n",
    "print (DataC)\n",
    "\n",
    "sns.set(rc={'figure.figsize':(9,7)})\n",
    "sns.heatmap(DataC, cmap ='YlGnBu', linewidths = 0.30, annot = True, fmt='g')"
   ]
  },
  {
   "cell_type": "markdown",
   "metadata": {},
   "source": [
    "<span style=\"color:black; font-weight:700;font-size:18px\">Τώρα θα πάρουμε τις 10 πιο συχνές λέξεις για κάθε cluster, ουσιαστικά τα columns με τις υψηλότερες τιμές.  </span>"
   ]
  },
  {
   "cell_type": "code",
   "execution_count": 43,
   "metadata": {},
   "outputs": [
    {
     "name": "stdout",
     "output_type": "stream",
     "text": [
      "[[0.00815933 0.00578715 0.00772852 ... 0.00618059 0.00985923 0.00572958]\n",
      " [0.00729471 0.00363732 0.00557236 ... 0.00469698 0.00887999 0.0039329 ]\n",
      " [0.00583008 0.00346666 0.00722522 ... 0.01044493 0.0115828  0.00306176]]\n"
     ]
    }
   ],
   "source": [
    "kMeansCentroids = km.cluster_centers_\n",
    "print(kMeansCentroids)\n",
    "df = pd.DataFrame(kMeansCentroids, columns=feature_names)\n",
    "#df.head\n",
    "\n",
    "# Change the row indexes\n",
    "df.index = ['0', '1', '2']"
   ]
  },
  {
   "cell_type": "markdown",
   "metadata": {},
   "source": [
    "<span style=\"color:black; font-weight:700;font-size:18px\">Από την πρώτη γραμμή, από τον πρώτο cluster, βρίσκουμε τα columns με τις υψηλότερες τιμές,"
   ]
  },
  {
   "cell_type": "code",
   "execution_count": 44,
   "metadata": {},
   "outputs": [
    {
     "name": "stdout",
     "output_type": "stream",
     "text": [
      "burger      0.101653\n",
      "fries       0.088407\n",
      "italian     0.076292\n",
      "pasta       0.066671\n",
      "bar         0.062342\n",
      "sandwich    0.059634\n",
      "table       0.054530\n",
      "dinner      0.050517\n",
      "bread       0.048755\n",
      "salad       0.044892\n",
      "wine        0.043471\n",
      "Name: 0, dtype: float64\n"
     ]
    }
   ],
   "source": [
    "rslt_df = df.sort_values(by = '0', axis = 1, ascending = False)\n",
    "rslt_ll = rslt_df.iloc[0]\n",
    "print(rslt_ll[:11])"
   ]
  },
  {
   "cell_type": "markdown",
   "metadata": {},
   "source": [
    "<span style=\"color:black; font-weight:700;font-size:18px\"> Το ίδιο και για την δεύτερη γραμμή, δεύτερο cluster τις 10 πιο συχνές λέξεις. </span>"
   ]
  },
  {
   "cell_type": "code",
   "execution_count": 45,
   "metadata": {},
   "outputs": [
    {
     "name": "stdout",
     "output_type": "stream",
     "text": [
      "pizza        0.022064\n",
      "delivery     0.018952\n",
      "crust        0.004458\n",
      "wings        0.034915\n",
      "pizzas       0.004046\n",
      "pie          0.007904\n",
      "slice        0.004529\n",
      "fries        0.088407\n",
      "salad        0.044892\n",
      "pepperoni    0.001557\n",
      "slices       0.005262\n",
      "Name: 0, dtype: float64\n"
     ]
    }
   ],
   "source": [
    "rslt_df = df.sort_values(by = '1', axis = 1, ascending = False)\n",
    "rslt_ll = rslt_df.iloc[0]\n",
    "print(rslt_ll[:11])"
   ]
  },
  {
   "cell_type": "markdown",
   "metadata": {},
   "source": [
    "<span style=\"color:black; font-weight:700;font-size:18px\">Και τέλος για τον τρίτο cluster. </span>"
   ]
  },
  {
   "cell_type": "code",
   "execution_count": 46,
   "metadata": {},
   "outputs": [
    {
     "name": "stdout",
     "output_type": "stream",
     "text": [
      "sushi       0.005984\n",
      "roll        0.014737\n",
      "rolls       0.011077\n",
      "rice        0.020964\n",
      "tuna        0.008921\n",
      "salmon      0.016903\n",
      "spicy       0.025466\n",
      "japanese    0.009310\n",
      "fish        0.019167\n",
      "soup        0.022018\n",
      "chinese     0.008521\n",
      "Name: 0, dtype: float64\n"
     ]
    }
   ],
   "source": [
    "rslt_df = df.sort_values(by = '2', axis = 1, ascending = False)\n",
    "rslt_ll = rslt_df.iloc[0]\n",
    "print(rslt_ll[:11])"
   ]
  },
  {
   "cell_type": "markdown",
   "metadata": {},
   "source": [
    "<span style=\"color:black; font-weight:700;font-size:18px\"> Το πρόβλημα που εμφανίζεται μεταξύ των ιταλικών και burger, η ίδια σύγχηση γίνεται και στις λέξεις, καθώς έχουν πολλές κοινές στις δέκα καλύτερες. Τα ιαπωνικά παραμένουν ξεχωριστά και ευδιάκριτα. </span>"
   ]
  },
  {
   "cell_type": "code",
   "execution_count": null,
   "metadata": {},
   "outputs": [],
   "source": []
  },
  {
   "cell_type": "markdown",
   "metadata": {},
   "source": [
    "<span style=\"color:black; font-weight:700;font-size:18px\"> Precision, Recall και F1_score για τον K-means συνολικά. </span>"
   ]
  },
  {
   "cell_type": "code",
   "execution_count": 47,
   "metadata": {},
   "outputs": [
    {
     "name": "stdout",
     "output_type": "stream",
     "text": [
      "Precision Score: 0.421773988997863\n",
      "Recall Score:    0.24710830704521555\n",
      "F1 Score:        0.2796254474371056\n"
     ]
    }
   ],
   "source": [
    "p = metrics.precision_score(bus_reviews['category'],bus_reviews['clusters_km_3'].tolist(), average='weighted')\n",
    "print(\"Precision Score:\",p)\n",
    "r = metrics.recall_score(bus_reviews['category'],bus_reviews['clusters_km_3'].tolist(), average = 'weighted')\n",
    "print(\"Recall Score:   \",r)\n",
    "f = metrics.f1_score(bus_reviews['category'],bus_reviews['clusters_km_3'].tolist(), average = 'weighted')\n",
    "print(\"F1 Score:       \",f)"
   ]
  },
  {
   "cell_type": "markdown",
   "metadata": {},
   "source": [
    "<span style=\"color:black; font-weight:700;font-size:18px\"> Precision, Recall και F1_score για κάθε cluster του K-means. </span>"
   ]
  },
  {
   "cell_type": "code",
   "execution_count": 48,
   "metadata": {},
   "outputs": [
    {
     "name": "stdout",
     "output_type": "stream",
     "text": [
      "                 Cls_0,         Cls_1,        Cls_2\n",
      "Precision Score: [0.10771704 0.87434555 0.00724638]\n",
      "Recall Score:    [0.32843137 0.387471   0.00316456]\n",
      "F1 Score:        [0.1622276  0.53697749 0.00440529]\n"
     ]
    }
   ],
   "source": [
    "print(\"                 Cls_0,         Cls_1,        Cls_2\")\n",
    "p = metrics.precision_score(bus_reviews['category'],bus_reviews['clusters_km_3'].tolist(), average=None)\n",
    "print(\"Precision Score:\",p)\n",
    "r = metrics.recall_score(bus_reviews['category'],bus_reviews['clusters_km_3'].tolist(), average = None)\n",
    "print(\"Recall Score:   \",r)\n",
    "f = metrics.f1_score(bus_reviews['category'],bus_reviews['clusters_km_3'].tolist(), average = None)\n",
    "print(\"F1 Score:       \",f)"
   ]
  },
  {
   "cell_type": "markdown",
   "metadata": {},
   "source": [
    "<span style=\"color:black; font-weight:700;font-size:18px\"> Precision, Recall και F1_score για τον Agglomerative συνολικά, χρησιμοποιώντας complete linkage. </span>"
   ]
  },
  {
   "cell_type": "code",
   "execution_count": 49,
   "metadata": {},
   "outputs": [
    {
     "name": "stdout",
     "output_type": "stream",
     "text": [
      "Precision Score: 0.41067229958575946\n",
      "Recall Score:    0.20294426919032596\n",
      "F1 Score:        0.2617223990623508\n"
     ]
    }
   ],
   "source": [
    "p = metrics.precision_score(bus_reviews['category'],bus_reviews['clusters_am_cmpl_3'].tolist(), average='weighted')\n",
    "print(\"Precision Score:\",p)\n",
    "r = metrics.recall_score(bus_reviews['category'],bus_reviews['clusters_am_cmpl_3'].tolist(), average = 'weighted')\n",
    "print(\"Recall Score:   \",r)\n",
    "f = metrics.f1_score(bus_reviews['category'],bus_reviews['clusters_am_cmpl_3'].tolist(), average = 'weighted')\n",
    "print(\"F1 Score:       \",f)"
   ]
  },
  {
   "cell_type": "markdown",
   "metadata": {},
   "source": [
    "<span style=\"color:black; font-weight:700;font-size:18px\"> Precision, Recall και F1_score για το κάθε cluster του Agglomerative, χρησιμοποιώντας complete linkage. </span>"
   ]
  },
  {
   "cell_type": "code",
   "execution_count": 50,
   "metadata": {},
   "outputs": [
    {
     "name": "stdout",
     "output_type": "stream",
     "text": [
      "                 Cls_0,         Cls_1,        Cls_2\n",
      "Precision Score: [0.03546099 0.87046632 0.0257732 ]\n",
      "Recall Score:    [0.09803922 0.38979118 0.01582278]\n",
      "F1 Score:        [0.05208333 0.53846154 0.01960784]\n"
     ]
    }
   ],
   "source": [
    "print(\"                 Cls_0,         Cls_1,        Cls_2\")\n",
    "p = metrics.precision_score(bus_reviews['category'],bus_reviews['clusters_am_cmpl_3'].tolist(), average=None)\n",
    "print(\"Precision Score:\",p)\n",
    "r = metrics.recall_score(bus_reviews['category'],bus_reviews['clusters_am_cmpl_3'].tolist(), average = None)\n",
    "print(\"Recall Score:   \",r)\n",
    "f = metrics.f1_score(bus_reviews['category'],bus_reviews['clusters_am_cmpl_3'].tolist(), average = None)\n",
    "print(\"F1 Score:       \",f)"
   ]
  },
  {
   "cell_type": "markdown",
   "metadata": {},
   "source": [
    "<span style=\"color:black; font-weight:700;font-size:18px\"> Τα διαγράμματα SSE και Silhouette Coefficient. </span>"
   ]
  },
  {
   "cell_type": "code",
   "execution_count": 51,
   "metadata": {},
   "outputs": [],
   "source": [
    "inertias = []\n",
    "for i in range(2,11):\n",
    "    kmeans = KMeans(n_clusters=i)\n",
    "    kmeans.fit(kmeans_data)\n",
    "    inertias.append(kmeans.inertia_)"
   ]
  },
  {
   "cell_type": "code",
   "execution_count": 52,
   "metadata": {},
   "outputs": [
    {
     "data": {
      "image/png": "[encoded data removed]",
      "text/plain": [
       "<Figure size 2160x1080 with 1 Axes>"
      ]
     },
     "metadata": {},
     "output_type": "display_data"
    }
   ],
   "source": [
    "plt.figure(figsize=(30, 15))\n",
    "plt.rcParams.update({'font.size': 22})\n",
    "plt.plot(range(2,11), inertias, 'D:b', ms=15, mec = 'r', mfc = 'r', linewidth = 3)\n",
    "plt.title('Elbow method')\n",
    "plt.xlabel('Number of clusters')\n",
    "plt.ylabel('Inertia')\n",
    "sns.reset_orig()\n",
    "#sns.set()\n",
    "plt.show()"
   ]
  },
  {
   "cell_type": "code",
   "execution_count": 53,
   "metadata": {},
   "outputs": [],
   "source": [
    "inertias2 = []\n",
    "for i in range(2,11):\n",
    "    kmeans = KMeans(n_clusters=i)\n",
    "    kmeans.fit(kmeans_data)\n",
    "    sil = metrics.silhouette_score(kmeans_data, kmeans.labels_, metric='euclidean')\n",
    "    inertias2.append(sil)"
   ]
  },
  {
   "cell_type": "code",
   "execution_count": 54,
   "metadata": {},
   "outputs": [
    {
     "data": {
      "image/png": "[encoded data removed]",
      "text/plain": [
       "<Figure size 2160x1080 with 1 Axes>"
      ]
     },
     "metadata": {
      "needs_background": "light"
     },
     "output_type": "display_data"
    }
   ],
   "source": [
    "plt.figure(figsize=(30, 15))\n",
    "plt.rcParams.update({'font.size': 22})\n",
    "plt.plot(range(2,11), inertias2, 'D:g', ms=15, mec = 'b', mfc = 'b', linewidth = 3)\n",
    "plt.title('Silhouette method')\n",
    "plt.xlabel('Number of clusters')\n",
    "plt.ylabel('Inertia')\n",
    "sns.reset_orig()\n",
    "plt.show()"
   ]
  },
  {
   "cell_type": "markdown",
   "metadata": {},
   "source": [
    "<span style=\"color:black; font-weight:700;font-size:18px\"> Στο SSE διάγραμμα βλέπουμε ότι μετά το 7-8 η διαφόρα παραμένει σταθερή, δεν υπάρχουν πια μεγάλες αλλαγές ανα cluster. Στο Silhouette διάγραμμα, αρχικά οι τιμές είναι από -1 έως 1 και σε εμάς όλα τα cluster είναι άνω του 0, η τιμή για 9 clusters είναι η υψηλότερη. Οπότε με αυτές τις δύο πληροφορίες, διαλέγω το 9 ώς ο κατάλληλος αριθμός των cluster. </span>"
   ]
  },
  {
   "cell_type": "code",
   "execution_count": null,
   "metadata": {},
   "outputs": [],
   "source": []
  },
  {
   "cell_type": "markdown",
   "metadata": {},
   "source": [
    "<span style=\"color:black; font-weight:700;font-size:18px\"> Crosstable για n_clusters = 9 </span>"
   ]
  },
  {
   "cell_type": "code",
   "execution_count": 55,
   "metadata": {},
   "outputs": [],
   "source": [
    "km = KMeans(n_clusters = 9)\n",
    "# Cluster using SOME columns\n",
    "kmeans = km.fit(kmeans_data)\n",
    "bus_reviews['clusters_km_9'] = km.labels_"
   ]
  },
  {
   "cell_type": "markdown",
   "metadata": {},
   "source": [
    "<span style=\"color:black; font-weight:700;font-size:18px\"> Εδώ φαίνεται σαν να έχει αντιμετωπιστεί κάπως το πρόβλημα με τα italian και τα burger. Τα ιαπωνικά δεν έχουν θέμα, οι cluster 2,3 μπόρεσαν και τα φώλιασαν καλά. Οι clusters 1,6 παραμένουν να κρατάνε εστιατόρια από αυτές τις δύο κατηγορίες, αλλά είναι οι μόνοι αμφίβολοι clusters. Οι cluster 0,7,8 κρατάνε πολλά burger εστιατόρια, ενώ οι cluster 4,5 κρατάνε ένα πολύ μεγάλο πλήθος των italian. </span>"
   ]
  },
  {
   "cell_type": "code",
   "execution_count": 56,
   "metadata": {},
   "outputs": [
    {
     "name": "stdout",
     "output_type": "stream",
     "text": [
      "           0    1   2   3   4    5   6    7   8\n",
      "Japanese   6    0   1  70   0  126   0    0   1\n",
      "Italian   27  165  48   4   0    0   0  167  20\n",
      "Burger    59   24  48   2  61    1  92    3  26\n"
     ]
    },
    {
     "data": {
      "text/plain": [
       "<AxesSubplot:>"
      ]
     },
     "execution_count": 56,
     "metadata": {},
     "output_type": "execute_result"
    },
    {
     "data": {
      "image/png": "[encoded data removed]",
      "text/plain": [
       "<Figure size 1440x504 with 2 Axes>"
      ]
     },
     "metadata": {},
     "output_type": "display_data"
    }
   ],
   "source": [
    "C= metrics.confusion_matrix(bus_reviews['category'],bus_reviews['clusters_km_9'].tolist())\n",
    "DataC = pd.DataFrame(C)\n",
    "DataC.columns = ['0','1','2','3','4','5','6','7','8']\n",
    "DataC.index = ['Japanese','Italian','Burger','3','4','5','6','7','8']\n",
    "DataC.drop(['3','4','5','6','7','8'], inplace = True)\n",
    "print (DataC)\n",
    "#plt.pcolor(DataC,cmap=plt.cm.coolwarm)\n",
    "sns.set(rc={'figure.figsize':(20,7)})\n",
    "sns.heatmap(DataC, cmap ='RdYlGn', linewidths = 0.30, annot = True, fmt='g')"
   ]
  },
  {
   "cell_type": "code",
   "execution_count": 57,
   "metadata": {},
   "outputs": [],
   "source": [
    "kMeansCentroids = km.cluster_centers_\n",
    "#print(kMeansCentroids)\n",
    "df2 = pd.DataFrame(kMeansCentroids, columns=feature_names)\n",
    "#.head\n",
    "\n",
    "# Change the row indexes\n",
    "df2.index = ['0', '1', '2','3','4','5','6','7','8']"
   ]
  },
  {
   "cell_type": "markdown",
   "metadata": {},
   "source": [
    "<span style=\"color:black; font-weight:700;font-size:18px\"> Οι 10 καλύτερες λέξεις από τα cluster 0,7,8 των burger εστιατορίων όπως είπαμε, είναι ξεχωριστές από τα clusters των 4,5-των ιταλικών. Αυτές οι δύο οι κατηγορίες κατάφεραν πολύ καλύτερα να διαφέρουν. </span>"
   ]
  },
  {
   "cell_type": "code",
   "execution_count": 58,
   "metadata": {
    "scrolled": false
   },
   "outputs": [
    {
     "name": "stdout",
     "output_type": "stream",
     "text": [
      "TOP 10 WORDS OF CLUSTER: 0\n",
      "bar          0.275900\n",
      "drinks       0.151865\n",
      "beer         0.143926\n",
      "burger       0.115135\n",
      "wings        0.112374\n",
      "drink        0.090862\n",
      "table        0.090794\n",
      "fries        0.089183\n",
      "bartender    0.083787\n",
      "server       0.073336\n",
      "waitress     0.067103\n",
      "Name: 0, dtype: float64\n",
      "############################\n",
      "TOP 10 WORDS OF CLUSTER: 1\n",
      "pizza        0.026989\n",
      "delivery     0.004436\n",
      "crust        0.004254\n",
      "wings        0.112374\n",
      "pizzas       0.006404\n",
      "pie          0.011765\n",
      "slice        0.003780\n",
      "fries        0.089183\n",
      "salad        0.057254\n",
      "slices       0.004975\n",
      "pepperoni    0.000556\n",
      "Name: 0, dtype: float64\n",
      "############################\n",
      "TOP 10 WORDS OF CLUSTER: 2\n",
      "sandwich       0.041477\n",
      "cheesesteak    0.016387\n",
      "hoagie         0.001761\n",
      "sandwiches     0.013781\n",
      "fries          0.089183\n",
      "steak          0.033342\n",
      "italian        0.011428\n",
      "bread          0.029399\n",
      "meat           0.019646\n",
      "wings          0.112374\n",
      "provolone      0.002142\n",
      "Name: 0, dtype: float64\n",
      "############################\n",
      "TOP 10 WORDS OF CLUSTER: 3\n",
      "rice        0.013230\n",
      "noodles     0.004963\n",
      "broth       0.004623\n",
      "bowl        0.008545\n",
      "pork        0.023920\n",
      "spicy       0.015152\n",
      "soup        0.022717\n",
      "japanese    0.006046\n",
      "sushi       0.011030\n",
      "chinese     0.004314\n",
      "fried       0.032175\n",
      "Name: 0, dtype: float64\n",
      "############################\n",
      "TOP 10 WORDS OF CLUSTER: 4\n",
      "burger          0.115135\n",
      "fries           0.089183\n",
      "burgers         0.040824\n",
      "bun             0.012180\n",
      "sandwich        0.041477\n",
      "bacon           0.022397\n",
      "rings           0.010629\n",
      "onion           0.015553\n",
      "guys            0.010264\n",
      "vegan           0.015864\n",
      "cheeseburger    0.008293\n",
      "Name: 0, dtype: float64\n",
      "############################\n",
      "TOP 10 WORDS OF CLUSTER: 5\n",
      "sushi       0.011030\n",
      "roll        0.011992\n",
      "rolls       0.010719\n",
      "tuna        0.008951\n",
      "rice        0.013230\n",
      "salmon      0.016989\n",
      "spicy       0.015152\n",
      "fish        0.019114\n",
      "japanese    0.006046\n",
      "soup        0.022717\n",
      "lunch       0.032993\n",
      "Name: 0, dtype: float64\n",
      "############################\n",
      "TOP 10 WORDS OF CLUSTER: 6\n",
      "drive        0.004660\n",
      "fries        0.089183\n",
      "location     0.027590\n",
      "burger       0.115135\n",
      "window       0.006587\n",
      "fast         0.010948\n",
      "employees    0.008159\n",
      "worst        0.018709\n",
      "manager      0.038191\n",
      "line         0.010316\n",
      "rude         0.017251\n",
      "Name: 0, dtype: float64\n",
      "############################\n",
      "TOP 10 WORDS OF CLUSTER: 7\n",
      "pasta      0.019295\n",
      "italian    0.011428\n",
      "wine       0.048632\n",
      "dinner     0.055632\n",
      "gnocchi    0.005338\n",
      "table      0.090794\n",
      "bread      0.029399\n",
      "dish       0.025649\n",
      "dessert    0.020411\n",
      "byob       0.002281\n",
      "salad      0.057254\n",
      "Name: 0, dtype: float64\n",
      "############################\n",
      "TOP 10 WORDS OF CLUSTER: 8\n",
      "breakfast     0.015829\n",
      "coffee        0.011185\n",
      "eggs          0.019901\n",
      "toast         0.022102\n",
      "sandwich      0.041477\n",
      "sandwiches    0.013781\n",
      "cafe          0.005438\n",
      "diner         0.003255\n",
      "waitress      0.067103\n",
      "bacon         0.022397\n",
      "lunch         0.032993\n",
      "Name: 0, dtype: float64\n",
      "############################\n"
     ]
    }
   ],
   "source": [
    "for i in range(9):\n",
    "    rslt_df = df2.sort_values(by = str(i), axis = 1, ascending = False)\n",
    "    rslt_ll = rslt_df.iloc[0]\n",
    "    print(\"TOP 10 WORDS OF CLUSTER:\", i)\n",
    "    print(rslt_ll[:11])\n",
    "    print(\"############################\")"
   ]
  },
  {
   "cell_type": "code",
   "execution_count": null,
   "metadata": {},
   "outputs": [],
   "source": []
  },
  {
   "cell_type": "code",
   "execution_count": null,
   "metadata": {},
   "outputs": [],
   "source": []
  },
  {
   "cell_type": "code",
   "execution_count": null,
   "metadata": {},
   "outputs": [],
   "source": []
  }
 ],
 "metadata": {
  "kernelspec": {
   "display_name": "Python 3",
   "language": "python",
   "name": "python3"
  },
  "language_info": {
   "codemirror_mode": {
    "name": "ipython",
    "version": 3
   },
   "file_extension": ".py",
   "mimetype": "text/x-python",
   "name": "python",
   "nbconvert_exporter": "python",
   "pygments_lexer": "ipython3",
   "version": "3.8.5"
  }
 },
 "nbformat": 4,
 "nbformat_minor": 4
}
