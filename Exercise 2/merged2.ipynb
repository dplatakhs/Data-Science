{
 "cells": [
  {
   "cell_type": "code",
   "execution_count": 1,
   "metadata": {},
   "outputs": [],
   "source": [
    "import pandas as pd\n",
    "import numpy as np\n",
    "import random\n",
    "import time\n",
    "from numpy.linalg import svd\n",
    "from matplotlib import pyplot as plt\n",
    "from scipy import sparse\n",
    "from numpy.linalg import matrix_rank\n",
    "from scipy.sparse import csr_matrix\n",
    "from scipy.spatial.distance import cosine\n",
    "import scipy"
   ]
  },
  {
   "cell_type": "markdown",
   "metadata": {},
   "source": [
    "# Step 1"
   ]
  },
  {
   "cell_type": "markdown",
   "metadata": {},
   "source": [
    "<span style=\"color:black; font-weight:700;font-size:18px\">  Για αρχή διαβάζουμε το αρχείο phily_users_businesses_stars.csv </span>"
   ]
  },
  {
   "cell_type": "code",
   "execution_count": 2,
   "metadata": {},
   "outputs": [],
   "source": [
    "df = pd.read_csv('phily_users_businesses_stars.csv')"
   ]
  },
  {
   "cell_type": "markdown",
   "metadata": {},
   "source": [
    "<span style=\"color:black; font-weight:700;font-size:18px\"> Βλέπουμε ότι έχει 967552 γραμμές και 3 στήλες </span>"
   ]
  },
  {
   "cell_type": "code",
   "execution_count": 3,
   "metadata": {},
   "outputs": [
    {
     "name": "stdout",
     "output_type": "stream",
     "text": [
      "967552\n"
     ]
    },
    {
     "data": {
      "text/html": [
       "<div>\n",
       "<style scoped>\n",
       "    .dataframe tbody tr th:only-of-type {\n",
       "        vertical-align: middle;\n",
       "    }\n",
       "\n",
       "    .dataframe tbody tr th {\n",
       "        vertical-align: top;\n",
       "    }\n",
       "\n",
       "    .dataframe thead th {\n",
       "        text-align: right;\n",
       "    }\n",
       "</style>\n",
       "<table border=\"1\" class=\"dataframe\">\n",
       "  <thead>\n",
       "    <tr style=\"text-align: right;\">\n",
       "      <th></th>\n",
       "      <th>user_id</th>\n",
       "      <th>business_id</th>\n",
       "      <th>stars</th>\n",
       "    </tr>\n",
       "  </thead>\n",
       "  <tbody>\n",
       "    <tr>\n",
       "      <th>0</th>\n",
       "      <td>OyoGAe7OKpv6SyGZT5g77Q</td>\n",
       "      <td>7ATYjTIgM3jUlt4UM3IypQ</td>\n",
       "      <td>5.0</td>\n",
       "    </tr>\n",
       "    <tr>\n",
       "      <th>1</th>\n",
       "      <td>_7bHUi9Uuf5__HHc_Q8guQ</td>\n",
       "      <td>kxX2SOes4o-D3ZQBkiMRfA</td>\n",
       "      <td>5.0</td>\n",
       "    </tr>\n",
       "    <tr>\n",
       "      <th>2</th>\n",
       "      <td>eUta8W_HdHMXPzLBBZhL1A</td>\n",
       "      <td>04UD14gamNjLY0IDYVhHJg</td>\n",
       "      <td>1.0</td>\n",
       "    </tr>\n",
       "    <tr>\n",
       "      <th>3</th>\n",
       "      <td>smOvOajNG0lS4Pq7d8g4JQ</td>\n",
       "      <td>RZtGWDLCAtuipwaZ-UfjmQ</td>\n",
       "      <td>4.0</td>\n",
       "    </tr>\n",
       "    <tr>\n",
       "      <th>4</th>\n",
       "      <td>Dd1jQj7S-BFGqRbApFzCFw</td>\n",
       "      <td>YtSqYv1Q_pOltsVPSx54SA</td>\n",
       "      <td>5.0</td>\n",
       "    </tr>\n",
       "  </tbody>\n",
       "</table>\n",
       "</div>"
      ],
      "text/plain": [
       "                  user_id             business_id  stars\n",
       "0  OyoGAe7OKpv6SyGZT5g77Q  7ATYjTIgM3jUlt4UM3IypQ    5.0\n",
       "1  _7bHUi9Uuf5__HHc_Q8guQ  kxX2SOes4o-D3ZQBkiMRfA    5.0\n",
       "2  eUta8W_HdHMXPzLBBZhL1A  04UD14gamNjLY0IDYVhHJg    1.0\n",
       "3  smOvOajNG0lS4Pq7d8g4JQ  RZtGWDLCAtuipwaZ-UfjmQ    4.0\n",
       "4  Dd1jQj7S-BFGqRbApFzCFw  YtSqYv1Q_pOltsVPSx54SA    5.0"
      ]
     },
     "execution_count": 3,
     "metadata": {},
     "output_type": "execute_result"
    }
   ],
   "source": [
    "print(len(df.index))\n",
    "df.head()"
   ]
  },
  {
   "cell_type": "markdown",
   "metadata": {},
   "source": [
    "<span style=\"color:black; font-weight:700;font-size:18px\"> Τώρα επαναληπτικά κάνουμε την παρακάτω διαδικασία, αφαιρούμε όσα user_id δεν εμφανίζονται πάνω από 15 φορές, δηλαδή όσοι χρήστες δεν έχουν κάνει πάνω από 15 reviews και μετά αφαιρούμε όσα business_id δεν εμφανίζονται πάνω από 15 φορές, δηλαδή όσες επιχειρήσεις δεν έχουν πάνω από 15 reviews. Την διαδικασία την κάνουμε επαναληπτικά επειδή μετά από το φιλτράρισμα των business υπάρχει περίπτωση επειδή αφαιρέθηκαν κάποιες γραμμές, κάποια user_id να ΜΗΝ εμφανίζονται πάνω από 15 φορές, με αποτέλεσμα να χρειάζονται να αφαιρεθούν. Κάνουμε αυτήν την επανάληψη έως ότου σταθεροποιηθεί στις 302141 τριάδες. </span>"
   ]
  },
  {
   "cell_type": "code",
   "execution_count": 4,
   "metadata": {},
   "outputs": [
    {
     "name": "stdout",
     "output_type": "stream",
     "text": [
      "378375\n",
      "328838\n",
      "#####################################\n",
      "308626\n",
      "304657\n",
      "#####################################\n",
      "302887\n",
      "302440\n",
      "#####################################\n",
      "302231\n",
      "302156\n",
      "#####################################\n",
      "302141\n",
      "302141\n",
      "#####################################\n",
      "302141\n",
      "302141\n",
      "#####################################\n",
      "302141\n",
      "302141\n",
      "#####################################\n",
      "302141\n",
      "302141\n",
      "#####################################\n",
      "302141\n",
      "302141\n",
      "#####################################\n",
      "302141\n",
      "302141\n",
      "#####################################\n"
     ]
    }
   ],
   "source": [
    "for i in range(10):\n",
    "    df.columns\n",
    "    # another way \n",
    "    df = df[df.user_id.isin(df.user_id.value_counts().loc[lambda x: x > 15].index)]\n",
    "    #df = df[df.groupby('user_id')['user_id'].transform('size').gt(15)]\n",
    "    print(len(df.index))\n",
    "    # another way \n",
    "    df = df[df.business_id.isin(df.business_id.value_counts().loc[lambda x: x > 15].index)]\n",
    "    #df = df[df['business_id'].map(df['business_id'].value_counts()).gt(15)]\n",
    "    print(len(df.index))\n",
    "    df = df.dropna()\n",
    "    print(\"#####################################\")"
   ]
  },
  {
   "cell_type": "markdown",
   "metadata": {},
   "source": [
    "<span style=\"color:black; font-weight:700;font-size:18px\"> Έχουμε σωστά όπως λέει η εκφώνηση 6961 user_id. </span>"
   ]
  },
  {
   "cell_type": "code",
   "execution_count": 5,
   "metadata": {},
   "outputs": [
    {
     "name": "stdout",
     "output_type": "stream",
     "text": [
      "                       user_id             business_id  stars\n",
      "3       smOvOajNG0lS4Pq7d8g4JQ  RZtGWDLCAtuipwaZ-UfjmQ    4.0\n",
      "5       IQsF3Rc6IgCzjVV9DE8KXg  eFvzHawVJofxSnD7TgbZtg    5.0\n",
      "6       vrKkXsozqqecF3CW4cGaVQ  rjuWz_AD3WfXJc03AhIO_w    5.0\n",
      "7       aFa96pz67TwOFu4Weq5Agg  kq5Ghhh14r-eCxlVmlyd8w    5.0\n",
      "10      ZGjgfSvjQK886kiTzLwfLQ  EtKSTHV5Qx_Q7Aur9o4kQQ    5.0\n",
      "...                        ...                     ...    ...\n",
      "315244  t1WnICmmk7gYAbZQQmgp9w  IkY2ticzHEn4QFn8hQLSWg    2.0\n",
      "315831  iEONL-v4W46yliYsovCP_g  uIFRFef7l43YxA8G3dU6Tg    4.0\n",
      "329210  x6l8JBhG5QJp4tjEbwiv4A  3FKIev7ZB_KE6XHL9sUJCg    4.0\n",
      "338276  SxY-gdlcWLJG4X3lrPzILw  qsAZNQ-6P4I9r7onkBZJ_g    4.0\n",
      "354912  iVlb7TBX38PCXp_yfSEcPg  3j08Cje2YWUuRxV60BiVFw    5.0\n",
      "\n",
      "[6961 rows x 3 columns]\n"
     ]
    }
   ],
   "source": [
    "N = df.drop_duplicates(subset = ['user_id'])\n",
    "print(N)"
   ]
  },
  {
   "cell_type": "markdown",
   "metadata": {},
   "source": [
    "<span style=\"color:black; font-weight:700;font-size:18px\"> Έχουμε σωστά όπως λέει η εκφώνηση 4064 business_id. </span>"
   ]
  },
  {
   "cell_type": "code",
   "execution_count": 6,
   "metadata": {},
   "outputs": [
    {
     "name": "stdout",
     "output_type": "stream",
     "text": [
      "                       user_id             business_id  stars\n",
      "3       smOvOajNG0lS4Pq7d8g4JQ  RZtGWDLCAtuipwaZ-UfjmQ    4.0\n",
      "5       IQsF3Rc6IgCzjVV9DE8KXg  eFvzHawVJofxSnD7TgbZtg    5.0\n",
      "6       vrKkXsozqqecF3CW4cGaVQ  rjuWz_AD3WfXJc03AhIO_w    5.0\n",
      "7       aFa96pz67TwOFu4Weq5Agg  kq5Ghhh14r-eCxlVmlyd8w    5.0\n",
      "10      ZGjgfSvjQK886kiTzLwfLQ  EtKSTHV5Qx_Q7Aur9o4kQQ    5.0\n",
      "...                        ...                     ...    ...\n",
      "945650  JiPMk9WmbJu-VfTRAKpZpw  3ut1fzbMfQ1VhFvHpeLOMw    4.0\n",
      "945903  Gflk362qyCMGLF1bxJJEhw  ABSiUVpGvn4waVJkLktMYg    4.0\n",
      "948599  Qx5RP0y3VzyKplHYD9WHlg  KTgZXj6xh8aN_tLfI-YZ1Q    4.0\n",
      "949947  Ns7JZ_BvgI9S6-Rbck4EuQ  saVXla5i8TjE51S5uCaf6w    5.0\n",
      "950044  _yRKTBGymWyWoBj2YJFCmQ  EAmx_lbvIBPX7wimjt3cxQ    4.0\n",
      "\n",
      "[4064 rows x 3 columns]\n"
     ]
    }
   ],
   "source": [
    "M = df.drop_duplicates(subset = ['business_id'])\n",
    "print(M)"
   ]
  },
  {
   "cell_type": "code",
   "execution_count": 7,
   "metadata": {},
   "outputs": [],
   "source": [
    "df.to_csv(\"dataset.csv\")"
   ]
  },
  {
   "cell_type": "code",
   "execution_count": null,
   "metadata": {},
   "outputs": [],
   "source": []
  },
  {
   "cell_type": "markdown",
   "metadata": {},
   "source": [
    "# Step 2"
   ]
  },
  {
   "cell_type": "markdown",
   "metadata": {},
   "source": [
    "<span style=\"color:black; font-weight:700;font-size:18px\"> Διαβάζουμε το αρχείο dataset.csv. </span>"
   ]
  },
  {
   "cell_type": "code",
   "execution_count": 8,
   "metadata": {},
   "outputs": [],
   "source": [
    "df = pd.read_csv('dataset.csv')"
   ]
  },
  {
   "cell_type": "code",
   "execution_count": 9,
   "metadata": {},
   "outputs": [
    {
     "name": "stdout",
     "output_type": "stream",
     "text": [
      "<class 'pandas.core.frame.DataFrame'>\n"
     ]
    },
    {
     "data": {
      "text/html": [
       "<div>\n",
       "<style scoped>\n",
       "    .dataframe tbody tr th:only-of-type {\n",
       "        vertical-align: middle;\n",
       "    }\n",
       "\n",
       "    .dataframe tbody tr th {\n",
       "        vertical-align: top;\n",
       "    }\n",
       "\n",
       "    .dataframe thead th {\n",
       "        text-align: right;\n",
       "    }\n",
       "</style>\n",
       "<table border=\"1\" class=\"dataframe\">\n",
       "  <thead>\n",
       "    <tr style=\"text-align: right;\">\n",
       "      <th></th>\n",
       "      <th>Unnamed: 0</th>\n",
       "      <th>user_id</th>\n",
       "      <th>business_id</th>\n",
       "      <th>stars</th>\n",
       "    </tr>\n",
       "  </thead>\n",
       "  <tbody>\n",
       "    <tr>\n",
       "      <th>0</th>\n",
       "      <td>3</td>\n",
       "      <td>smOvOajNG0lS4Pq7d8g4JQ</td>\n",
       "      <td>RZtGWDLCAtuipwaZ-UfjmQ</td>\n",
       "      <td>4.0</td>\n",
       "    </tr>\n",
       "    <tr>\n",
       "      <th>1</th>\n",
       "      <td>5</td>\n",
       "      <td>IQsF3Rc6IgCzjVV9DE8KXg</td>\n",
       "      <td>eFvzHawVJofxSnD7TgbZtg</td>\n",
       "      <td>5.0</td>\n",
       "    </tr>\n",
       "    <tr>\n",
       "      <th>2</th>\n",
       "      <td>6</td>\n",
       "      <td>vrKkXsozqqecF3CW4cGaVQ</td>\n",
       "      <td>rjuWz_AD3WfXJc03AhIO_w</td>\n",
       "      <td>5.0</td>\n",
       "    </tr>\n",
       "    <tr>\n",
       "      <th>3</th>\n",
       "      <td>7</td>\n",
       "      <td>aFa96pz67TwOFu4Weq5Agg</td>\n",
       "      <td>kq5Ghhh14r-eCxlVmlyd8w</td>\n",
       "      <td>5.0</td>\n",
       "    </tr>\n",
       "    <tr>\n",
       "      <th>4</th>\n",
       "      <td>10</td>\n",
       "      <td>ZGjgfSvjQK886kiTzLwfLQ</td>\n",
       "      <td>EtKSTHV5Qx_Q7Aur9o4kQQ</td>\n",
       "      <td>5.0</td>\n",
       "    </tr>\n",
       "  </tbody>\n",
       "</table>\n",
       "</div>"
      ],
      "text/plain": [
       "   Unnamed: 0                 user_id             business_id  stars\n",
       "0           3  smOvOajNG0lS4Pq7d8g4JQ  RZtGWDLCAtuipwaZ-UfjmQ    4.0\n",
       "1           5  IQsF3Rc6IgCzjVV9DE8KXg  eFvzHawVJofxSnD7TgbZtg    5.0\n",
       "2           6  vrKkXsozqqecF3CW4cGaVQ  rjuWz_AD3WfXJc03AhIO_w    5.0\n",
       "3           7  aFa96pz67TwOFu4Weq5Agg  kq5Ghhh14r-eCxlVmlyd8w    5.0\n",
       "4          10  ZGjgfSvjQK886kiTzLwfLQ  EtKSTHV5Qx_Q7Aur9o4kQQ    5.0"
      ]
     },
     "execution_count": 9,
     "metadata": {},
     "output_type": "execute_result"
    }
   ],
   "source": [
    "print(type(df))\n",
    "df.head()"
   ]
  },
  {
   "cell_type": "code",
   "execution_count": 10,
   "metadata": {},
   "outputs": [
    {
     "data": {
      "text/plain": [
       "Index(['user_id', 'business_id', 'stars'], dtype='object')"
      ]
     },
     "execution_count": 10,
     "metadata": {},
     "output_type": "execute_result"
    }
   ],
   "source": [
    "df = df.drop(\"Unnamed: 0\", axis='columns')\n",
    "df.columns"
   ]
  },
  {
   "cell_type": "markdown",
   "metadata": {},
   "source": [
    "<span style=\"color:black; font-weight:700;font-size:18px\">Μετατρέπουμε το dataframe σε λίστα, μια λίστα από τριάδες user_id, business_id, stars και μετα το κάνουμε shuffle για να είναι πιο ομοιόμορφα κατανομημένα. </span>"
   ]
  },
  {
   "cell_type": "code",
   "execution_count": 11,
   "metadata": {},
   "outputs": [],
   "source": [
    "dfList = df.values.tolist()\n",
    "\n",
    "random.shuffle(dfList)"
   ]
  },
  {
   "cell_type": "markdown",
   "metadata": {},
   "source": [
    "<span style=\"color:black; font-weight:700;font-size:18px\"> Χωρίζουμε το dataset σε train_set, το 90% του σετ και σε test_set το 10% του σετ.</span>"
   ]
  },
  {
   "cell_type": "code",
   "execution_count": 12,
   "metadata": {},
   "outputs": [
    {
     "name": "stdout",
     "output_type": "stream",
     "text": [
      "Whole set: 302141 train_set: 271927 test_set: 30214\n"
     ]
    }
   ],
   "source": [
    "tenPer = int(0.1*len(dfList))\n",
    "\n",
    "test_set = dfList[:tenPer]\n",
    "train_set = dfList[tenPer:]\n",
    "print(\"Whole set:\",len(dfList),\"train_set:\",len(train_set),\"test_set:\",len(test_set))"
   ]
  },
  {
   "cell_type": "code",
   "execution_count": 13,
   "metadata": {},
   "outputs": [],
   "source": [
    "train_set_df = pd.DataFrame(train_set)\n",
    "test_set_df = pd.DataFrame(test_set)"
   ]
  },
  {
   "cell_type": "code",
   "execution_count": 14,
   "metadata": {},
   "outputs": [
    {
     "data": {
      "text/plain": [
       "<bound method NDFrame.head of                              0                       1    2\n",
       "0       A4WMwbeMsE8NZ8DJfOMONg  X6_5_b4gVKo83VPn0FyONw  5.0\n",
       "1       Vcx1j2gpPpZpBtPDDDSd6A  sdWuLh-auc0nC2Jy6_26AQ  5.0\n",
       "2       UR5I5oboRkjVwNjUwFdZPg  t6v8g8UeNiq3O2GoEc7R4Q  4.0\n",
       "3       1CmhdHhJHokf2mkemRiY3g  GoYSJ-YY-YwbxdgasHuq-Q  4.0\n",
       "4       fwj7uEDPg-6AO7rzts9FmQ  nsH0hQ7xB5LS2_Ba3mqHTQ  5.0\n",
       "...                        ...                     ...  ...\n",
       "271922  nbhYqnnpHT4wYHkT-ORcqQ  YDisPepPeWeELiVGycxOlw  4.0\n",
       "271923  89aoy6WORObOOdU5yPQxoQ  poviu-6n3iaRE4gdQz6OYw  5.0\n",
       "271924  _Od4VGV444wsrc3oOYzsaA  LM54ufrINJWoTN5imV8Etw  5.0\n",
       "271925  hMwD1ffKead6Q2dQL_XIDw  _V6hl1oGkTV2KbGeax_HPA  4.0\n",
       "271926  qRtevK9LFJd8F5wa0ltPyw  _n539Sga7PCvHQs--a4qkA  5.0\n",
       "\n",
       "[271927 rows x 3 columns]>"
      ]
     },
     "execution_count": 14,
     "metadata": {},
     "output_type": "execute_result"
    }
   ],
   "source": [
    "train_set_df.head"
   ]
  },
  {
   "cell_type": "code",
   "execution_count": 15,
   "metadata": {},
   "outputs": [
    {
     "data": {
      "text/plain": [
       "<bound method NDFrame.head of                             0                       1    2\n",
       "0      6WG2IGTVr-xKn0pYQZJGjw  uXgdMfqsY2SCcyooURjZOw  1.0\n",
       "1      y3Wtx1pOvTiqsJRkjceXiw  9qXd3Frdpw2NFesclk7nPg  5.0\n",
       "2      yGTCTMk8QYXVaRB1ZW1QCQ  cbmnzbkml6_KtHaRIGXxgQ  3.0\n",
       "3      adMjyYAea_A0a36MrR5zBg  Sv1MEZP-mMfp8SmE0hwYEA  3.0\n",
       "4      1L84JcuSzsgsF3WsRK5Rug  dQZlvOEVNke30MY5iTiy1g  5.0\n",
       "...                       ...                     ...  ...\n",
       "30209  b8aCjlTJDA0hoZLMAE-iLg  gGyqnAlpFrka_qzpO7j4lQ  5.0\n",
       "30210  UqTvUrtM9VZfcnjMyvfZxA  4SQ5uczVt66-GGGeNQRfEA  1.0\n",
       "30211  Mj8mM0pGHEsTLn5uuU9mdw  aJV-u_8zf5vVIaHy7Hs8qw  5.0\n",
       "30212  qIossUhtsJ55_ciRTEqiPQ  yjXSQDwuI49poc3MA7AGdw  5.0\n",
       "30213  nJ6EeobDAerJ3vKe2LQf2Q  ldr7iDtxFXX-q7tJuXqlGQ  4.0\n",
       "\n",
       "[30214 rows x 3 columns]>"
      ]
     },
     "execution_count": 15,
     "metadata": {},
     "output_type": "execute_result"
    }
   ],
   "source": [
    "test_set_df.head"
   ]
  },
  {
   "cell_type": "markdown",
   "metadata": {},
   "source": [
    "<span style=\"color:black; font-weight:700;font-size:18px\"> Αποθηκεύουμε τα train/test set. </span>"
   ]
  },
  {
   "cell_type": "code",
   "execution_count": 16,
   "metadata": {},
   "outputs": [],
   "source": [
    "train_set_df.to_csv(\"my_train_set.csv\")"
   ]
  },
  {
   "cell_type": "code",
   "execution_count": 17,
   "metadata": {},
   "outputs": [],
   "source": [
    "test_set_df.to_csv(\"my_test_set.csv\")"
   ]
  },
  {
   "cell_type": "code",
   "execution_count": null,
   "metadata": {},
   "outputs": [],
   "source": []
  },
  {
   "cell_type": "markdown",
   "metadata": {},
   "source": [
    "# Step 3"
   ]
  },
  {
   "cell_type": "markdown",
   "metadata": {},
   "source": [
    "<span style=\"color:black; font-weight:700;font-size:18px\"> Διαβάζουμε τα fixed train/test set από την εκφώνηση. </span>"
   ]
  },
  {
   "cell_type": "code",
   "execution_count": 18,
   "metadata": {},
   "outputs": [],
   "source": [
    "train_set = pd.read_csv(\"phily_users_businesses_stars_train.csv\")\n",
    "test_set = pd.read_csv(\"phily_users_businesses_stars_test.csv\")"
   ]
  },
  {
   "cell_type": "markdown",
   "metadata": {},
   "source": [
    "<span style=\"color:black; font-weight:700;font-size:18px\"> Εδώ δημιουργούμε τον πίνακα με τις μέσες τιμές των user_id. Κάνουμε group_by και μέσα σε κάθε υπό-DataFrame του user_id βρίσκουμε το μέσο όρο της στήλης stars. </span>"
   ]
  },
  {
   "cell_type": "code",
   "execution_count": 19,
   "metadata": {},
   "outputs": [],
   "source": [
    "user_groups = train_set.groupby('user_id')\n",
    "user_scores_dic = {'user_id':[],'mean_star':[]}\n",
    "\n",
    "for user_id, user_data in user_groups:\n",
    "    #tmp.append(user_id)\n",
    "    #tmp.append(user_data['stars'].mean())\n",
    "    user_scores_dic['user_id'].append(user_id)\n",
    "    user_scores_dic['mean_star'].append(user_data['stars'].mean())\n",
    "\n",
    "#user_scores = pd.DataFrame(user_scores_dic, columns = ['user_id','mean_star'])\n",
    "user_scores = pd.DataFrame.from_dict(user_scores_dic)\n",
    "user_scores.columns = ['user_id','mean_star']"
   ]
  },
  {
   "cell_type": "code",
   "execution_count": 20,
   "metadata": {},
   "outputs": [
    {
     "data": {
      "text/html": [
       "<div>\n",
       "<style scoped>\n",
       "    .dataframe tbody tr th:only-of-type {\n",
       "        vertical-align: middle;\n",
       "    }\n",
       "\n",
       "    .dataframe tbody tr th {\n",
       "        vertical-align: top;\n",
       "    }\n",
       "\n",
       "    .dataframe thead th {\n",
       "        text-align: right;\n",
       "    }\n",
       "</style>\n",
       "<table border=\"1\" class=\"dataframe\">\n",
       "  <thead>\n",
       "    <tr style=\"text-align: right;\">\n",
       "      <th></th>\n",
       "      <th>user_id</th>\n",
       "      <th>mean_star</th>\n",
       "    </tr>\n",
       "  </thead>\n",
       "  <tbody>\n",
       "    <tr>\n",
       "      <th>0</th>\n",
       "      <td>-2cKJFFNJ9XVyWBt62mWvA</td>\n",
       "      <td>4.481481</td>\n",
       "    </tr>\n",
       "    <tr>\n",
       "      <th>1</th>\n",
       "      <td>-4qa2JVDEC_QPVWcZ1nHkQ</td>\n",
       "      <td>3.232558</td>\n",
       "    </tr>\n",
       "    <tr>\n",
       "      <th>2</th>\n",
       "      <td>-6GY04bTPM2Zo4z0GN4a1A</td>\n",
       "      <td>4.416667</td>\n",
       "    </tr>\n",
       "    <tr>\n",
       "      <th>3</th>\n",
       "      <td>-6nlh2IbzCbGhWndMLZt1g</td>\n",
       "      <td>4.076923</td>\n",
       "    </tr>\n",
       "    <tr>\n",
       "      <th>4</th>\n",
       "      <td>-7-d8x5w5c9QolAMgPTKZg</td>\n",
       "      <td>3.558140</td>\n",
       "    </tr>\n",
       "  </tbody>\n",
       "</table>\n",
       "</div>"
      ],
      "text/plain": [
       "                  user_id  mean_star\n",
       "0  -2cKJFFNJ9XVyWBt62mWvA   4.481481\n",
       "1  -4qa2JVDEC_QPVWcZ1nHkQ   3.232558\n",
       "2  -6GY04bTPM2Zo4z0GN4a1A   4.416667\n",
       "3  -6nlh2IbzCbGhWndMLZt1g   4.076923\n",
       "4  -7-d8x5w5c9QolAMgPTKZg   3.558140"
      ]
     },
     "execution_count": 20,
     "metadata": {},
     "output_type": "execute_result"
    }
   ],
   "source": [
    "user_scores.head()"
   ]
  },
  {
   "cell_type": "markdown",
   "metadata": {},
   "source": [
    "<span style=\"color:black; font-weight:700;font-size:18px\"> Εδω υλοποιείται ο User Average (UA) αλγόριθμος. Για αρχή κάνουμε group_by σύμφωνα με τους users και διατρέχουμε τα dataframes του κάθε user. Με την χρήση του .loc και του user_id (από το iteration) βρίσκουμε στο datafrane user_scores την μέση τιμή του κάθε user και αφαιρούμε αυτήν την τιμή από όλες τια βαθμολογίες που έχει κάνει ο user στην στήλη 'stars'. Τετραγωνίζουμε την διαφορά και κρατάμε σε δύο παραμέτρους το άθροισμα τους και το πλήθος των χρηστών, πλήθος το όποιο ξέρουμε ήδη ούτως ή άλλως. </span>"
   ]
  },
  {
   "cell_type": "code",
   "execution_count": 21,
   "metadata": {},
   "outputs": [],
   "source": [
    "user_groups_test = test_set.groupby('user_id')\n",
    "error_sum = 0\n",
    "count = 0\n",
    "\n",
    "for user_id, user_data in user_groups_test:\n",
    "    error_column_diff = user_data[\"stars\"]-user_scores.loc[user_scores[\"user_id\"] == user_id]['mean_star'].values[0]\n",
    "\n",
    "    error_column_sqr = error_column_diff**2\n",
    "    error_sum += error_column_sqr.sum()\n",
    "    count += len(error_column_sqr)\n",
    "    #print(\"error sum\",error_sum,\"count:\",count)\n",
    "    #print(\"###################################\")"
   ]
  },
  {
   "cell_type": "code",
   "execution_count": 22,
   "metadata": {},
   "outputs": [
    {
     "name": "stdout",
     "output_type": "stream",
     "text": [
      "error sum 33148.03770198966 count: 30214\n"
     ]
    }
   ],
   "source": [
    "print(\"error sum\",error_sum,\"count:\",count)"
   ]
  },
  {
   "cell_type": "code",
   "execution_count": 23,
   "metadata": {},
   "outputs": [
    {
     "name": "stdout",
     "output_type": "stream",
     "text": [
      "RMSE of User Average: 1.0474294959962052\n",
      "Time: 0.0009961128234863281\n"
     ]
    }
   ],
   "source": [
    "start = time.time()\n",
    "rmse = np.sqrt(error_sum/count)\n",
    "print(\"RMSE of User Average:\",rmse)\n",
    "end = time.time()\n",
    "print(\"Time:\",end-start)"
   ]
  },
  {
   "cell_type": "code",
   "execution_count": null,
   "metadata": {},
   "outputs": [],
   "source": []
  },
  {
   "cell_type": "code",
   "execution_count": null,
   "metadata": {},
   "outputs": [],
   "source": []
  },
  {
   "cell_type": "markdown",
   "metadata": {},
   "source": [
    "<span style=\"color:black; font-weight:700;font-size:18px\"> Εδώ δημιουργούμε τον πίνακα με τις μέσες τιμές των business_id. Κάνουμε group_by και μέσα σε κάθε υπό-DataFrame του business_id βρίσκουμε το μέσο όρο της στήλης stars. </span>"
   ]
  },
  {
   "cell_type": "code",
   "execution_count": 24,
   "metadata": {},
   "outputs": [],
   "source": [
    "bus_groups = train_set.groupby('business_id')\n",
    "bus_scores_dic = {'business_id':[],'mean_star':[]}\n",
    "\n",
    "for business_id, bus_data in bus_groups:\n",
    "    #tmp.append(user_id)\n",
    "    #tmp.append(user_data['stars'].mean())\n",
    "    bus_scores_dic['business_id'].append(business_id)\n",
    "    bus_scores_dic['mean_star'].append(bus_data['stars'].mean())\n",
    "\n",
    "#user_scores = pd.DataFrame(user_scores_dic, columns = ['user_id','mean_star'])\n",
    "bus_scores = pd.DataFrame.from_dict(bus_scores_dic)\n",
    "bus_scores.columns = ['business_id','mean_star']"
   ]
  },
  {
   "cell_type": "code",
   "execution_count": 25,
   "metadata": {},
   "outputs": [
    {
     "data": {
      "text/html": [
       "<div>\n",
       "<style scoped>\n",
       "    .dataframe tbody tr th:only-of-type {\n",
       "        vertical-align: middle;\n",
       "    }\n",
       "\n",
       "    .dataframe tbody tr th {\n",
       "        vertical-align: top;\n",
       "    }\n",
       "\n",
       "    .dataframe thead th {\n",
       "        text-align: right;\n",
       "    }\n",
       "</style>\n",
       "<table border=\"1\" class=\"dataframe\">\n",
       "  <thead>\n",
       "    <tr style=\"text-align: right;\">\n",
       "      <th></th>\n",
       "      <th>business_id</th>\n",
       "      <th>mean_star</th>\n",
       "    </tr>\n",
       "  </thead>\n",
       "  <tbody>\n",
       "    <tr>\n",
       "      <th>0</th>\n",
       "      <td>-0TffRSXXIlBYVbb5AwfTg</td>\n",
       "      <td>4.272727</td>\n",
       "    </tr>\n",
       "    <tr>\n",
       "      <th>1</th>\n",
       "      <td>-1B9pP_CrRBJYPICE5WbRA</td>\n",
       "      <td>3.750000</td>\n",
       "    </tr>\n",
       "    <tr>\n",
       "      <th>2</th>\n",
       "      <td>-2-ih3mE8KPyeKVIzpBfPQ</td>\n",
       "      <td>3.607143</td>\n",
       "    </tr>\n",
       "    <tr>\n",
       "      <th>3</th>\n",
       "      <td>-32hOCwsuKd04WO-HQyYFg</td>\n",
       "      <td>2.733333</td>\n",
       "    </tr>\n",
       "    <tr>\n",
       "      <th>4</th>\n",
       "      <td>-3e3CP3FFc-rvJj_-_airw</td>\n",
       "      <td>3.843750</td>\n",
       "    </tr>\n",
       "  </tbody>\n",
       "</table>\n",
       "</div>"
      ],
      "text/plain": [
       "              business_id  mean_star\n",
       "0  -0TffRSXXIlBYVbb5AwfTg   4.272727\n",
       "1  -1B9pP_CrRBJYPICE5WbRA   3.750000\n",
       "2  -2-ih3mE8KPyeKVIzpBfPQ   3.607143\n",
       "3  -32hOCwsuKd04WO-HQyYFg   2.733333\n",
       "4  -3e3CP3FFc-rvJj_-_airw   3.843750"
      ]
     },
     "execution_count": 25,
     "metadata": {},
     "output_type": "execute_result"
    }
   ],
   "source": [
    "bus_scores.head()"
   ]
  },
  {
   "cell_type": "markdown",
   "metadata": {},
   "source": [
    "<span style=\"color:black; font-weight:700;font-size:18px\"> Εδω υλοποιείται ο Business Average (BA) αλγόριθμος. Όπως πριν, για αρχή κάνουμε group_by σύμφωνα με τα business και διατρέχουμε τα dataframes του κάθε business. Με την χρήση του .loc και του business_id (από το iteration) βρίσκουμε στο datafrane bus_scores την μέση τιμή του κάθε business και αφαιρούμε αυτήν την τιμή από όλες τις βαθμολογίες που έχουν κάνει στην επιχείρηση στην στήλη 'stars'. Τετραγωνίζουμε την διαφορά και κρατάμε σε δύο παραμέτρους το άθροισμα τους και το πλήθος των επιχειρήσεων, πλήθος το όποιο ξέρουμε ήδη ούτως ή άλλως. </span>"
   ]
  },
  {
   "cell_type": "code",
   "execution_count": 26,
   "metadata": {},
   "outputs": [],
   "source": [
    "bus_groups_test = test_set.groupby('business_id')\n",
    "error_sum = 0\n",
    "count = 0\n",
    "\n",
    "for business_id, business_data in bus_groups_test:\n",
    "    error_column_diff = business_data[\"stars\"]-bus_scores.loc[bus_scores[\"business_id\"] == business_id]['mean_star'].values[0]\n",
    "\n",
    "    error_column_sqr = error_column_diff**2\n",
    "    error_sum += error_column_sqr.sum()\n",
    "    count += len(error_column_sqr)\n",
    "    #print(\"error sum\",error_sum,\"count:\",count)\n",
    "    #print(\"###################################\")"
   ]
  },
  {
   "cell_type": "code",
   "execution_count": 27,
   "metadata": {},
   "outputs": [
    {
     "name": "stdout",
     "output_type": "stream",
     "text": [
      "error sum 30550.746761265447 count: 30214\n"
     ]
    }
   ],
   "source": [
    "print(\"error sum\",error_sum,\"count:\",count)"
   ]
  },
  {
   "cell_type": "code",
   "execution_count": 28,
   "metadata": {},
   "outputs": [
    {
     "name": "stdout",
     "output_type": "stream",
     "text": [
      "RMSE of Business Average: 1.0055572526079777\n",
      "Time: 0.0009958744049072266\n"
     ]
    }
   ],
   "source": [
    "start = time.time()\n",
    "rmse = np.sqrt(error_sum/count)\n",
    "print(\"RMSE of Business Average:\",rmse)\n",
    "end = time.time()\n",
    "print(\"Time:\",end-start)"
   ]
  },
  {
   "cell_type": "code",
   "execution_count": null,
   "metadata": {},
   "outputs": [],
   "source": []
  },
  {
   "cell_type": "markdown",
   "metadata": {},
   "source": [
    "# Step 4"
   ]
  },
  {
   "cell_type": "markdown",
   "metadata": {},
   "source": [
    "<span style=\"color:black; font-weight:700;font-size:18px\"> Διαβάζουμε τo fixed train set από την εκφώνηση. </span>"
   ]
  },
  {
   "cell_type": "code",
   "execution_count": 29,
   "metadata": {},
   "outputs": [],
   "source": [
    "train_set = pd.read_csv(\"phily_users_businesses_stars_train.csv\")"
   ]
  },
  {
   "cell_type": "markdown",
   "metadata": {},
   "source": [
    "<span style=\"color:black; font-weight:700;font-size:18px\"> Δημιουργούμε ένα λεξικό που αντιστοιχεί κάθε user_id με έναν αριθμό από έως Ν-1 και αντικαθιστούμε στο train_set το user_id με τον αριθμό που του αντιστοιχεί, το κωδικοποιούμε κατά κάποιον τρόπο. </span>"
   ]
  },
  {
   "cell_type": "code",
   "execution_count": 30,
   "metadata": {},
   "outputs": [
    {
     "data": {
      "text/plain": [
       "<bound method NDFrame.head of         user_id             business_id  stars\n",
       "0             0  eMiN8nm70jjKg8izikVWDA    4.0\n",
       "1             1  qTb5bEgZdrwx2A3mNVK5mg    5.0\n",
       "2             2  Auc20f0uYTIwPnJIqcdmNw    4.0\n",
       "3             3  j-qtdD55OLfSqfsWuQTDJg    2.0\n",
       "4             4  ME7nOO4hHoCwkbssGqsyPA    5.0\n",
       "...         ...                     ...    ...\n",
       "271922     1251  0R2yKDNMUztQwgo8pG4z-Q    3.0\n",
       "271923     4405  EtKSTHV5Qx_Q7Aur9o4kQQ    3.0\n",
       "271924      698  d28lZlSps97FHhXZazJ8zA    4.0\n",
       "271925     5474  lKU_kljhbEQKIPaM1Zbqiw    3.0\n",
       "271926     1083  fcpHrRopilvsBwUajFB5rw    2.0\n",
       "\n",
       "[271927 rows x 3 columns]>"
      ]
     },
     "execution_count": 30,
     "metadata": {},
     "output_type": "execute_result"
    }
   ],
   "source": [
    "N = train_set.drop_duplicates(subset = ['user_id'])\n",
    "enumN = np.arange(6962)\n",
    "dictN = dict(zip(N['user_id'].values, enumN))\n",
    "train_set[\"user_id\"].replace(dictN, inplace= True)\n",
    "train_set.head"
   ]
  },
  {
   "cell_type": "markdown",
   "metadata": {},
   "source": [
    "<span style=\"color:black; font-weight:700;font-size:18px\"> Κάνουμε την ίδια δουλειά για τα business_id με ένα λεξικό με κλειδιά τα business_id και τιμές μια τιμή από 0 έως Μ-1. </span>"
   ]
  },
  {
   "cell_type": "code",
   "execution_count": 31,
   "metadata": {},
   "outputs": [
    {
     "data": {
      "text/plain": [
       "<bound method NDFrame.head of         user_id  business_id  stars\n",
       "0             0            0    4.0\n",
       "1             1            1    5.0\n",
       "2             2            2    4.0\n",
       "3             3            3    2.0\n",
       "4             4            4    5.0\n",
       "...         ...          ...    ...\n",
       "271922     1251         1043    3.0\n",
       "271923     4405          366    3.0\n",
       "271924      698         1950    4.0\n",
       "271925     5474          459    3.0\n",
       "271926     1083         1658    2.0\n",
       "\n",
       "[271927 rows x 3 columns]>"
      ]
     },
     "execution_count": 31,
     "metadata": {},
     "output_type": "execute_result"
    }
   ],
   "source": [
    "M = train_set.drop_duplicates(subset = ['business_id'])\n",
    "enumM = np.arange(4065)\n",
    "dictM = dict(map(lambda i,j : (i,j) , M['business_id'].values,enumM))\n",
    "train_set[\"business_id\"].replace(dictM, inplace= True)\n",
    "train_set.head"
   ]
  },
  {
   "cell_type": "code",
   "execution_count": null,
   "metadata": {},
   "outputs": [],
   "source": []
  },
  {
   "cell_type": "markdown",
   "metadata": {},
   "source": [
    "<span style=\"color:black; font-weight:700;font-size:18px\"> Στην μεταβλητή R κρατάμε το train_set μας σε αραιή μορφή sparse matrix. </span>"
   ]
  },
  {
   "cell_type": "code",
   "execution_count": 32,
   "metadata": {
    "scrolled": true
   },
   "outputs": [],
   "source": [
    "sparse_mat = scipy.sparse.coo_matrix((train_set['stars'].values, (train_set.user_id, train_set.business_id)))\n",
    "R = sparse_mat.toarray()"
   ]
  },
  {
   "cell_type": "markdown",
   "metadata": {},
   "source": [
    "<span style=\"color:black; font-weight:700;font-size:18px\"> Μετατρέπουμε τον αραιό μας πίνακα σε DataFrame για την διευκόλυνση των πράξεων μας. Μετά όπου δεν υπάρχει τιμή -δηλαδή για ένα ζεύγος (u,b) δεν υπάρχει βαθμολογία-, ήταν πριν 0 και το κάνουμε -50 για να ξέρουμε καλύτερα που δεν υπάρχει βαθμολογία. </span>"
   ]
  },
  {
   "cell_type": "code",
   "execution_count": 33,
   "metadata": {},
   "outputs": [],
   "source": [
    "#R_matrix = R_sparse.toarray()\n",
    "R_DF = pd.DataFrame(R)\n",
    "\n",
    "R_DF = R_DF.replace(0,-50)"
   ]
  },
  {
   "cell_type": "markdown",
   "metadata": {},
   "source": [
    "<span style=\"color:black; font-weight:700;font-size:18px\"> Η συνάρτηση που βρίσκει ενα k rank approximation, με την μεταβλητή num να λειτουργεί ώς το k και σύμφωνα με αυτήν να κόβονται οι πίνακες κατάλληλα. </span>"
   ]
  },
  {
   "cell_type": "code",
   "execution_count": 34,
   "metadata": {},
   "outputs": [],
   "source": [
    "def low_rank_k(u,s,vh,num):\n",
    "# rank k approx\n",
    "\n",
    "    u = u[:,:num]\n",
    "    vh = vh[:num,:]\n",
    "    s = s[:num]\n",
    "    s = np.diag(s)\n",
    "    my_low_rank = np.dot(np.dot(u,s),vh)\n",
    "    return my_low_rank"
   ]
  },
  {
   "cell_type": "markdown",
   "metadata": {},
   "source": [
    "<span style=\"color:black; font-weight:700;font-size:18px\"> Κάνουμε svd για να βρούμε τους αρχικούς u s v πίνακες </span>"
   ]
  },
  {
   "cell_type": "code",
   "execution_count": 35,
   "metadata": {},
   "outputs": [],
   "source": [
    "# Take the svd\n",
    "u,s,vh = np.linalg.svd(R, full_matrices= False)"
   ]
  },
  {
   "cell_type": "code",
   "execution_count": 36,
   "metadata": {},
   "outputs": [],
   "source": [
    "# determine the matrix rank\n",
    "#my_rank_r = np.linalg.matrix_rank(R)\n",
    "\n",
    "# generate the rank k approximation\n",
    "my_rank_k_r = low_rank_k(u,s,vh,100)\n",
    "\n",
    "k_approx_DF = pd.DataFrame(my_rank_k_r)\n",
    "\n",
    "k_approx_DF[k_approx_DF > 5] = 5\n",
    "k_approx_DF[k_approx_DF < 0] = 0"
   ]
  },
  {
   "cell_type": "markdown",
   "metadata": {},
   "source": [
    "<span style=\"color:black; font-weight:700;font-size:18px\"> Τώρα με την χρήση του R πίνακα, αντικαθιστούμε τις βαθμολογίες με τις προβλέψεις του rank k approximation. </span>"
   ]
  },
  {
   "cell_type": "code",
   "execution_count": 37,
   "metadata": {},
   "outputs": [],
   "source": [
    "# sto R_DF exoyme enan pinaka NxM, opoy grammh einai o user kai sthlh ta businesses. Se osa exei bathmologhsei\n",
    "# uparxei mia timh >0 kai opoy DEN exei bathomologhsei -50. Me authn thn grammh, mhdenizoyme oles tis bathmologies\n",
    "R_DF[R_DF > -10] = 0\n",
    "\n",
    "# twra ekei poy einai 0 theloume na baloyme tis problepseis (k_approx_DF), pinakas o opois einai GEMATOS\n",
    "R_DF = R_DF - k_approx_DF\n",
    "\n",
    "R_DF[R_DF < -30] = 0\n",
    "\n",
    "R_DF = -R_DF\n",
    "\n",
    "R_DF_tmp = scipy.sparse.csr_matrix(R_DF.values)"
   ]
  },
  {
   "cell_type": "markdown",
   "metadata": {},
   "source": [
    "<span style=\"color:black; font-weight:700;font-size:18px\"> Τώρα έχουμε ενα Dataframe predictionDF με 3 στήλες, user_id, business_id και stars που είναι τα predictions. </span>"
   ]
  },
  {
   "cell_type": "code",
   "execution_count": 38,
   "metadata": {},
   "outputs": [],
   "source": [
    "# Return a Coordinate (coo) representation of the csr matrix.\n",
    "coo = R_DF_tmp.tocoo(copy=False)\n",
    "# Access `row`, `col` and `data` properties of coo matrix.\n",
    "predictionDF = pd.DataFrame({'index': coo.row, 'col': coo.col, 'data': coo.data})\n",
    "predictionDF.columns = ['user_id','business_id','stars']"
   ]
  },
  {
   "cell_type": "markdown",
   "metadata": {},
   "source": [
    "<span style=\"color:black; font-weight:700;font-size:18px\"> Διαβάζουμε το test_set και κωδικοποιούμε τις στήλες user_id και business_id με τα dictionaries που αντιστοιχούν κάθε user_id και business_id σε έναν μοναδικό αριθμό. </span>"
   ]
  },
  {
   "cell_type": "code",
   "execution_count": 39,
   "metadata": {},
   "outputs": [],
   "source": [
    "test_set = pd.read_csv(\"phily_users_businesses_stars_test.csv\")\n",
    "test_set[\"user_id\"].replace(dictN, inplace= True)\n",
    "test_set[\"business_id\"].replace(dictM, inplace= True)"
   ]
  },
  {
   "cell_type": "markdown",
   "metadata": {},
   "source": [
    "<span style=\"color:black; font-weight:700;font-size:18px\"> Στην εκφώνηση μας επισημαίνεται ότι δεν πρέπει να έχουμε σε καμία στιγμή έναν πυκνό ΝxM πίνακα. Με αυτόν τον τρόπο, δεν θα έχουμε πρόβλεψη για κάθε πιθανό (u,b) ζεύγος, οπότε πρέπει να βρούμε στο test_set ποιά ζεύγη (u,b) υπάρχουν, γιατί αλλίως -χάρη στον προηγούμενο περιορισμό- υπάρχει περίπτωση για ένα (u,b) ζευγάρι να μην υπάρχει πρόβλεψη. </span>"
   ]
  },
  {
   "cell_type": "markdown",
   "metadata": {},
   "source": [
    "<span style=\"color:black; font-weight:700;font-size:18px\"> Τώρα έχουμε ενα Dataframe mergedStuff με 4 στήλες, user_id, business_id, stars_x που είναι τα πραγματικά αστέρια και stars_y που είναι τα predictions. </span>"
   ]
  },
  {
   "cell_type": "code",
   "execution_count": 40,
   "metadata": {},
   "outputs": [
    {
     "data": {
      "text/plain": [
       "<bound method NDFrame.head of       user_id  business_id   stars_x  stars_y\n",
       "0           2          253  5.000000      4.0\n",
       "1           2         1139  1.357044      3.0\n",
       "2           2         1167  3.729111      2.0\n",
       "3           2         2841  1.533521      4.0\n",
       "4           5          173  2.017908      3.0\n",
       "...       ...          ...       ...      ...\n",
       "2758     6937          461  2.563426      5.0\n",
       "2759     6938         1152  0.377438      5.0\n",
       "2760     6938         1553  1.786682      5.0\n",
       "2761     6945          338  0.104779      4.0\n",
       "2762     6955          461  1.054452      4.0\n",
       "\n",
       "[2763 rows x 4 columns]>"
      ]
     },
     "execution_count": 40,
     "metadata": {},
     "output_type": "execute_result"
    }
   ],
   "source": [
    "mergedStuff = pd.merge(predictionDF, test_set, on=['user_id','business_id'], how='inner')\n",
    "#mergedStuff.drop_duplicates(subset=['user_id','business_id'], inplace=True)\n",
    "mergedStuff.head"
   ]
  },
  {
   "cell_type": "markdown",
   "metadata": {},
   "source": [
    "<span style=\"color:black; font-weight:700;font-size:18px\"> To rmse για k=100. </span>"
   ]
  },
  {
   "cell_type": "code",
   "execution_count": 41,
   "metadata": {},
   "outputs": [
    {
     "name": "stdout",
     "output_type": "stream",
     "text": [
      "2.914656761894792\n"
     ]
    }
   ],
   "source": [
    "mergedStuff['diff'] = mergedStuff['stars_x'] - mergedStuff['stars_y']\n",
    "mergedStuff['diff'] = mergedStuff['diff']**2\n",
    "mergedStuff['diff'] = mergedStuff['diff']/2763\n",
    "S = mergedStuff['diff'].sum(axis = 0, skipna = True)\n",
    "rmse = np.sqrt(S)\n",
    "print(rmse)"
   ]
  },
  {
   "cell_type": "code",
   "execution_count": 42,
   "metadata": {},
   "outputs": [],
   "source": [
    "#test_set['diff'] = test_set['stars'] - predictionDF.loc[predictionDF['user_id']==test_set['user_id']]['stars']"
   ]
  },
  {
   "cell_type": "code",
   "execution_count": 43,
   "metadata": {},
   "outputs": [
    {
     "name": "stdout",
     "output_type": "stream",
     "text": [
      "10\n",
      "20\n",
      "30\n",
      "40\n",
      "50\n",
      "60\n",
      "70\n",
      "80\n",
      "90\n",
      "100\n",
      "Needed time for all k: 452.00762820243835\n"
     ]
    }
   ],
   "source": [
    "rmseList = []\n",
    "start = time.time()\n",
    "for i in range(1,101):\n",
    "    # generate the rank k approximation\n",
    "    my_rank_k_r = low_rank_k(u,s,vh,i)\n",
    "    \n",
    "    k_approx_DF = pd.DataFrame(my_rank_k_r)\n",
    "    \n",
    "    # get dataframe of R, it's temporary\n",
    "    R_DF = pd.DataFrame(R)\n",
    "    \n",
    "    # replace 0 with -50 to help with calculations\n",
    "    R_DF = R_DF.replace(0,-50)\n",
    "    \n",
    "    k_approx_DF[k_approx_DF > 5] = 5\n",
    "    k_approx_DF[k_approx_DF < 0] = 0\n",
    "\n",
    "    R_DF[R_DF > -10] = 0\n",
    "    R_DF = R_DF - k_approx_DF\n",
    "    R_DF[R_DF < -30] = 0\n",
    "    R_DF = -R_DF\n",
    "    R_DF_tmp = scipy.sparse.csr_matrix(R_DF.values)\n",
    "    \n",
    "    # Return a Coordinate (coo) representation of the csr matrix.\n",
    "    coo = R_DF_tmp.tocoo(copy=False)\n",
    "    # Access `row`, `col` and `data` properties of coo matrix.\n",
    "    predictionDF = pd.DataFrame({'index': coo.row, 'col': coo.col, 'data': coo.data})\n",
    "    predictionDF.columns = ['user_id','business_id','stars']\n",
    "    \n",
    "    mergedStuff = pd.merge(predictionDF, test_set, on=['user_id','business_id'], how='inner')\n",
    "    mergedStuff.drop_duplicates(subset=['user_id','business_id'])\n",
    "    mergedStuff['diff'] = mergedStuff['stars_x'] - mergedStuff['stars_y']\n",
    "    mergedStuff['diff'] = mergedStuff['diff']**2\n",
    "    mergedStuff['diff'] = mergedStuff['diff']/2763\n",
    "    S = mergedStuff['diff'].sum(axis = 0, skipna = True)\n",
    "    rmse = np.sqrt(S)\n",
    "    \n",
    "    #R_DF = R_DF - k_approx_DF\n",
    "    #R_DF[R_DF < -30] = 0\n",
    "    #R_DF = R_DF**2\n",
    "    #R_DF = R_DF/258437\n",
    "    #allSums = R_DF.sum(axis = 0, skipna = True)\n",
    "    #S = allSums.sum()\n",
    "    #rmse = np.sqrt(S)\n",
    "\n",
    "    rmseList.append(rmse)\n",
    "    if(i%10 == 0): print(i)\n",
    "end = time.time()\n",
    "print(\"Needed time for all k:\",end - start)"
   ]
  },
  {
   "cell_type": "code",
   "execution_count": 44,
   "metadata": {},
   "outputs": [
    {
     "data": {
      "text/plain": [
       "[<matplotlib.lines.Line2D at 0x19e56dfb9a0>]"
      ]
     },
     "execution_count": 44,
     "metadata": {},
     "output_type": "execute_result"
    },
    {
     "data": {
      "image/png": "[encoded data removed]",
      "text/plain": [
       "<Figure size 2160x720 with 1 Axes>"
      ]
     },
     "metadata": {
      "needs_background": "light"
     },
     "output_type": "display_data"
    }
   ],
   "source": [
    "plt.figure(figsize=(30, 10))\n",
    "plt.rcParams.update({'font.size': 22})\n",
    "plt.plot(rmseList, linewidth=5, color='green')"
   ]
  },
  {
   "cell_type": "markdown",
   "metadata": {},
   "source": [
    "<span style=\"color:black; font-weight:700;font-size:18px\"> Όπως περιμέναμε, το rmse καθώς ανεβαίνει το k μειώνεται, οι προβλέψεις δηλαδή είναι καλύτερες. Λογικό, καθώς υψηλότερο k αντιστοιχεί σε καλύτερη προσέγγιση του αρχικού πίνακα. </span>"
   ]
  },
  {
   "cell_type": "code",
   "execution_count": null,
   "metadata": {},
   "outputs": [],
   "source": []
  },
  {
   "cell_type": "markdown",
   "metadata": {},
   "source": [
    "# Step 5"
   ]
  },
  {
   "cell_type": "markdown",
   "metadata": {},
   "source": [
    "<span style=\"color:black; font-weight:700;font-size:18px\"> Διαβάζουμε το αρχείο για τις μέσες τιμές των user_id και το train_set. </span>"
   ]
  },
  {
   "cell_type": "code",
   "execution_count": 48,
   "metadata": {},
   "outputs": [
    {
     "data": {
      "text/plain": [
       "<bound method NDFrame.head of       user_id_num                 user_id  mean_star\n",
       "0               0  -2cKJFFNJ9XVyWBt62mWvA   4.481481\n",
       "1               1  -4qa2JVDEC_QPVWcZ1nHkQ   3.232558\n",
       "2               2  -6GY04bTPM2Zo4z0GN4a1A   4.416667\n",
       "3               3  -6nlh2IbzCbGhWndMLZt1g   4.076923\n",
       "4               4  -7-d8x5w5c9QolAMgPTKZg   3.558140\n",
       "...           ...                     ...        ...\n",
       "6956         6956  zvq6qxc2IVA08jaUelUMRw   3.676923\n",
       "6957         6957  zwCkk1Pd88uZpvIQRRFo-A   3.555556\n",
       "6958         6958  zwIhFlA84tTLvSSjHc6IgA   3.352941\n",
       "6959         6959  zyNrXvJyYdC34tS6BcCykA   4.031915\n",
       "6960         6960  zzBhA0M7NNBMYoWj48h53A   3.166667\n",
       "\n",
       "[6961 rows x 3 columns]>"
      ]
     },
     "execution_count": 48,
     "metadata": {},
     "output_type": "execute_result"
    }
   ],
   "source": [
    "mean_stars_user = pd.read_csv(\"mean_stars_users.csv\")\n",
    "mean_stars_user.columns = ['user_id_num', 'user_id', 'mean_star']\n",
    "mean_stars_user.columns\n",
    "mean_stars_user.head"
   ]
  },
  {
   "cell_type": "code",
   "execution_count": 49,
   "metadata": {},
   "outputs": [],
   "source": [
    "train_set = pd.read_csv(\"phily_users_businesses_stars_train.csv\")"
   ]
  },
  {
   "cell_type": "markdown",
   "metadata": {},
   "source": [
    "<span style=\"color:black; font-weight:700;font-size:18px\"> Δημιουργούμε ένα λεξικό που αντιστοιχεί κάθε user_id με έναν αριθμό από 0 έως Ν-1 και αντικαθιστούμε στο train_set το user_id με τον αριθμό που του αντιστοιχεί, το κωδικοποιούμε κατά κάποιον τρόπο. </span>"
   ]
  },
  {
   "cell_type": "code",
   "execution_count": 50,
   "metadata": {},
   "outputs": [
    {
     "data": {
      "text/plain": [
       "<bound method NDFrame.head of         user_id             business_id  stars\n",
       "0             0  eMiN8nm70jjKg8izikVWDA    4.0\n",
       "1             1  qTb5bEgZdrwx2A3mNVK5mg    5.0\n",
       "2             2  Auc20f0uYTIwPnJIqcdmNw    4.0\n",
       "3             3  j-qtdD55OLfSqfsWuQTDJg    2.0\n",
       "4             4  ME7nOO4hHoCwkbssGqsyPA    5.0\n",
       "...         ...                     ...    ...\n",
       "271922     1251  0R2yKDNMUztQwgo8pG4z-Q    3.0\n",
       "271923     4405  EtKSTHV5Qx_Q7Aur9o4kQQ    3.0\n",
       "271924      698  d28lZlSps97FHhXZazJ8zA    4.0\n",
       "271925     5474  lKU_kljhbEQKIPaM1Zbqiw    3.0\n",
       "271926     1083  fcpHrRopilvsBwUajFB5rw    2.0\n",
       "\n",
       "[271927 rows x 3 columns]>"
      ]
     },
     "execution_count": 50,
     "metadata": {},
     "output_type": "execute_result"
    }
   ],
   "source": [
    "N = train_set.drop_duplicates(subset = ['user_id'])\n",
    "\n",
    "enumN = np.arange(6962)\n",
    "dictN = dict(zip(N['user_id'].values, enumN))\n",
    "\n",
    "train_set[\"user_id\"].replace(dictN, inplace= True)\n",
    "train_set.head"
   ]
  },
  {
   "cell_type": "markdown",
   "metadata": {},
   "source": [
    "<span style=\"color:black; font-weight:700;font-size:18px\"> Χρησιμοποιείς το ίδιο dictionary για να κωδικοποιήσεις το DataFrame με τους users και το μέσο όρο αστεριών τους. </span>"
   ]
  },
  {
   "cell_type": "code",
   "execution_count": 51,
   "metadata": {},
   "outputs": [
    {
     "data": {
      "text/plain": [
       "<bound method NDFrame.head of       user_id_num  user_id  mean_star\n",
       "0               0     2532   4.481481\n",
       "1               1     1751   3.232558\n",
       "2               2      919   4.416667\n",
       "3               3     6954   4.076923\n",
       "4               4     4162   3.558140\n",
       "...           ...      ...        ...\n",
       "6956         6956     3410   3.676923\n",
       "6957         6957     4929   3.555556\n",
       "6958         6958     3934   3.352941\n",
       "6959         6959     2095   4.031915\n",
       "6960         6960      582   3.166667\n",
       "\n",
       "[6961 rows x 3 columns]>"
      ]
     },
     "execution_count": 51,
     "metadata": {},
     "output_type": "execute_result"
    }
   ],
   "source": [
    "mean_stars_user[\"user_id\"].replace(dictN, inplace= True)\n",
    "mean_stars_user.head"
   ]
  },
  {
   "cell_type": "markdown",
   "metadata": {},
   "source": [
    "<span style=\"color:black; font-weight:700;font-size:18px\"> Κάνουμε την ίδια δουλειά για τα business_id με ένα λεξικό με κλειδιά τα business_id και τιμές μια τιμή από 0 έως Μ-1. </span>"
   ]
  },
  {
   "cell_type": "code",
   "execution_count": 52,
   "metadata": {},
   "outputs": [
    {
     "data": {
      "text/plain": [
       "<bound method NDFrame.head of         user_id  business_id  stars\n",
       "0             0            0    4.0\n",
       "1             1            1    5.0\n",
       "2             2            2    4.0\n",
       "3             3            3    2.0\n",
       "4             4            4    5.0\n",
       "...         ...          ...    ...\n",
       "271922     1251         1043    3.0\n",
       "271923     4405          366    3.0\n",
       "271924      698         1950    4.0\n",
       "271925     5474          459    3.0\n",
       "271926     1083         1658    2.0\n",
       "\n",
       "[271927 rows x 3 columns]>"
      ]
     },
     "execution_count": 52,
     "metadata": {},
     "output_type": "execute_result"
    }
   ],
   "source": [
    "M = train_set.drop_duplicates(subset = ['business_id'])\n",
    "\n",
    "enumM = np.arange(4065)\n",
    "dictM = dict(map(lambda i,j : (i,j) , M['business_id'].values,enumM))\n",
    "\n",
    "train_set[\"business_id\"].replace(dictM, inplace= True)\n",
    "train_set.head"
   ]
  },
  {
   "cell_type": "markdown",
   "metadata": {},
   "source": [
    "<span style=\"color:black; font-weight:700;font-size:18px\"> Τώρα κάνω ένα DataFrame με δύο στήλες, στην μία το user_id κωδικοποιημένο από το dictionary και στην άλλη το mean του χρήστη. Μετά τα κάνω sort σύμφωνα με το κωδικοποιημένο user_id και τα βάζω σε μια λίστα, με αυτόν τον τρόπο υπάρχει 1-1 αντιστοίχηση του index της λίστας με το user_id. Άμα γράψω δηλαδή meanL[32], θα πάρω το μέσο όρο του χρήστη '32'.</span>"
   ]
  },
  {
   "cell_type": "code",
   "execution_count": 53,
   "metadata": {},
   "outputs": [
    {
     "data": {
      "text/plain": [
       "<bound method NDFrame.head of       user_id  mean_star\n",
       "1832      0.0   3.969697\n",
       "5406      1.0   4.306122\n",
       "112       2.0   3.902174\n",
       "2655      3.0   2.625000\n",
       "4615      4.0   4.708333\n",
       "...       ...        ...\n",
       "1815   6956.0   3.666667\n",
       "5016   6957.0   4.187500\n",
       "6712   6958.0   4.461538\n",
       "2617   6959.0   4.384615\n",
       "243    6960.0   3.714286\n",
       "\n",
       "[6961 rows x 2 columns]>"
      ]
     },
     "execution_count": 53,
     "metadata": {},
     "output_type": "execute_result"
    }
   ],
   "source": [
    "meanList = mean_stars_user[['user_id','mean_star']].values\n",
    "meanDf = pd.DataFrame(meanList)\n",
    "meanDf.columns = ['user_id','mean_star']\n",
    "meanDf.sort_values(by = ['user_id'], ascending=True, inplace=True)\n",
    "meanL = meanDf['mean_star'].values\n",
    "meanDf.head"
   ]
  },
  {
   "cell_type": "markdown",
   "metadata": {},
   "source": [
    "<span style=\"color:black; font-weight:700;font-size:18px\"> Τώρα στην νέα στήλη τι κάνω: παίρνω το user_id και το χρησιμοποιώ ως index της λίστας meanL -που όπως είπα υπάρχει 1-1 αντιστοιχία index με user_id- και με αυτόν τον τρόπο βρίσκω το μέσο όρο των αστεριών του user. Στην νέα στήλη λοιπόν βάζω την διαφορά της βαθμολογίας με το μέσο όρο. </span>"
   ]
  },
  {
   "cell_type": "code",
   "execution_count": 54,
   "metadata": {},
   "outputs": [
    {
     "data": {
      "text/plain": [
       "<bound method NDFrame.head of         user_id  business_id  stars  stars_minus_diff\n",
       "0             0            0    4.0          0.030303\n",
       "1             1            1    5.0          0.693878\n",
       "2             2            2    4.0          0.097826\n",
       "3             3            3    2.0         -0.625000\n",
       "4             4            4    5.0          0.291667\n",
       "...         ...          ...    ...               ...\n",
       "271922     1251         1043    3.0         -0.844444\n",
       "271923     4405          366    3.0         -0.800000\n",
       "271924      698         1950    4.0          0.073034\n",
       "271925     5474          459    3.0         -0.576923\n",
       "271926     1083         1658    2.0         -1.515789\n",
       "\n",
       "[271927 rows x 4 columns]>"
      ]
     },
     "execution_count": 54,
     "metadata": {},
     "output_type": "execute_result"
    }
   ],
   "source": [
    "train_set['stars_minus_diff'] = train_set.apply(lambda x: x['stars'] - meanL[int(x['user_id'])], axis = 1)\n",
    "train_set.head"
   ]
  },
  {
   "cell_type": "markdown",
   "metadata": {},
   "source": [
    "<span style=\"color:black; font-weight:700;font-size:18px\"> Εδώ υλοποιείται ο αλγόριθμος ucf, παίρνει 3 ορίσματα, u,b,k όπου για κάθε u,b (user_id και business_id) γίνεται μια πρόβλεψη της βαθμολογίας σύμφωνα με το k. </span>"
   ]
  },
  {
   "cell_type": "code",
   "execution_count": 55,
   "metadata": {},
   "outputs": [],
   "source": [
    "def ucf(u,b,k):\n",
    "    bus_group = train_set.groupby('business_id')\n",
    "    if(b not in train_set['business_id'].values):\n",
    "        print(\"this business doesn't exist\")\n",
    "        return\n",
    "    if(u not in train_set['user_id'].values):\n",
    "        print(\"this user doesn't exist\")\n",
    "        return\n",
    "    for bus_id, bus_data in bus_group:\n",
    "        if(bus_id != b): continue\n",
    "        ubPair = bus_data.loc[bus_data['user_id'] == u]\n",
    "        ubPair = ubPair.loc[bus_data['business_id'] == b]\n",
    "        ubPairL = ubPair.values\n",
    "        if(u not in bus_data['user_id'].values):\n",
    "            #print(\"user didn't review this store\")\n",
    "            break\n",
    "        if(len((ubPairL)) > 1): ubPairL = ubPairL[0]\n",
    "            \n",
    "        # find cosine distance of all the rows of the grouped_by dataframe from\n",
    "        # the (u,b) given pair. ubPair is: [u, b, stars_of_the_review]\n",
    "        #cosDis = bus_data.apply(lambda row: 1 - cosine(row, ubPairL), axis=1)\n",
    "        cosDis = bus_data.apply(lambda row: cosine(row, ubPairL), axis=1)\n",
    "        # add the array of the distances to the grouped_by dataframe\n",
    "        bus_data['dis_from_ub'] = cosDis\n",
    "        # sort by the distances\n",
    "        bus_data.sort_values(by = ['dis_from_ub'], ascending=False, inplace=True)\n",
    "        \n",
    "        cosDis = np.array(bus_data['dis_from_ub'].values)\n",
    "        stars = np.array(bus_data['stars_minus_diff'].values)\n",
    "        \n",
    "        # we put 1:k because at index=0 we have the same value, where distance=1\n",
    "        # we want JUST the neighbors\n",
    "        # pollaplasiazoume 1 pros 1 ta stoixeia ths listas\n",
    "        # kai meta briskoume to athroisma twn pollaplasiasmenwn\n",
    "        mul = cosDis[1:k+1] * stars[1:k+1]\n",
    "        numerator = mul.sum()\n",
    "        denominator = cosDis[1:k+1].sum()\n",
    "        \n",
    "        \n",
    "        # find the mean value of the reviews of the user u\n",
    "        lru = mean_stars_user.loc[mean_stars_user['user_id_num'] == u].values\n",
    "        ru = lru[0][2]\n",
    "        \n",
    "        #print(cosDis[1:k])\n",
    "        #print(stars[1:k])\n",
    "        #print(bus_data.head)\n",
    "        #print(ubPairL)\n",
    "        #print(\"Mean value of reviews:\",ru,\"numerator:\",numerator,\"denominator:\",denominator)\n",
    "        \n",
    "        res = ru + numerator/denominator\n",
    "        #print(\"Result:\",res)\n",
    "        return res\n",
    "        break"
   ]
  },
  {
   "cell_type": "code",
   "execution_count": null,
   "metadata": {},
   "outputs": [],
   "source": []
  },
  {
   "cell_type": "markdown",
   "metadata": {},
   "source": [
    "<span style=\"color:black; font-weight:700;font-size:18px\"> Διαβάζουμε το test_set και κωδικοποιούμε τις στήλες user_id και business_id με τα dictionaries που αντιστοιχούν κάθε user_id και business_id σε έναν μοναδικό αριθμό. </span>"
   ]
  },
  {
   "cell_type": "code",
   "execution_count": 56,
   "metadata": {},
   "outputs": [
    {
     "data": {
      "text/plain": [
       "<bound method NDFrame.head of        user_id  business_id  stars\n",
       "0         6035         2881    1.0\n",
       "1         4046         2898    5.0\n",
       "2          476         1737    4.0\n",
       "3         1542         1860    2.0\n",
       "4         5237         2582    4.0\n",
       "...        ...          ...    ...\n",
       "30209     6774          970    5.0\n",
       "30210     1340          564    3.0\n",
       "30211     5445         1044    2.0\n",
       "30212     4117          149    5.0\n",
       "30213     2136         1719    5.0\n",
       "\n",
       "[30214 rows x 3 columns]>"
      ]
     },
     "execution_count": 56,
     "metadata": {},
     "output_type": "execute_result"
    }
   ],
   "source": [
    "test_set = pd.read_csv(\"phily_users_businesses_stars_test.csv\")\n",
    "\n",
    "enumN = np.arange(6962)\n",
    "dictN = dict(zip(N['user_id'].values, enumN))\n",
    "test_set[\"user_id\"].replace(dictN, inplace= True)\n",
    "\n",
    "\n",
    "enumM = np.arange(4065)\n",
    "dictM = dict(map(lambda i,j : (i,j) , M['business_id'].values,enumM))\n",
    "test_set[\"business_id\"].replace(dictM, inplace= True)\n",
    "test_set.head"
   ]
  },
  {
   "cell_type": "markdown",
   "metadata": {},
   "source": [
    "<span style=\"color:black; font-weight:700;font-size:18px\"> Όπως το βήμα 4 θα πρέπει να δούμε ποιά ζευγάρια (u,b) του test_set ανήκουν στο train_set, προκειμένου να υπάρχει μια πρόβλεψη. </span>"
   ]
  },
  {
   "cell_type": "code",
   "execution_count": 57,
   "metadata": {},
   "outputs": [
    {
     "name": "stdout",
     "output_type": "stream",
     "text": [
      "at the bottom see how many commons (u,b) pairs between test and train\n"
     ]
    },
    {
     "data": {
      "text/plain": [
       "<bound method NDFrame.head of       user_id  business_id  stars_x\n",
       "0         217          205      4.0\n",
       "1         242          226      5.0\n",
       "2         242          226      5.0\n",
       "3         242          226      5.0\n",
       "4         253          236      5.0\n",
       "...       ...          ...      ...\n",
       "3434      393         2702      5.0\n",
       "3435     3482         1351      1.0\n",
       "3436     6135          370      5.0\n",
       "3437     2959          482      5.0\n",
       "3438     4239         1317      5.0\n",
       "\n",
       "[3439 rows x 3 columns]>"
      ]
     },
     "execution_count": 57,
     "metadata": {},
     "output_type": "execute_result"
    }
   ],
   "source": [
    "mergedStuff = pd.merge(train_set, test_set, on=['user_id','business_id'], how='inner')\n",
    "#mergedStuff.drop_duplicates(subset=['user_id','business_id'], inplace=True)\n",
    "mergedStuff.drop(columns = ['stars_minus_diff','stars_y'], axis=1, inplace=True)\n",
    "print(\"at the bottom see how many commons (u,b) pairs between test and train\")\n",
    "mergedStuff.head"
   ]
  },
  {
   "cell_type": "markdown",
   "metadata": {},
   "source": [
    "<span style=\"color:black; font-weight:700;font-size:18px\"> Βρίσκουμε το rmse για k=100. </span>"
   ]
  },
  {
   "cell_type": "code",
   "execution_count": 58,
   "metadata": {},
   "outputs": [
    {
     "name": "stdout",
     "output_type": "stream",
     "text": [
      "0\n",
      "500\n",
      "1000\n",
      "1500\n",
      "2000\n",
      "2500\n",
      "3000\n",
      "3439\n",
      "rmse of ucf with k=100: 1.2088221329415396\n"
     ]
    }
   ],
   "source": [
    "pairs = mergedStuff[['user_id','business_id','stars_x']].values\n",
    "\n",
    "diff_squared = []\n",
    "count = 0\n",
    "for i in range(len(pairs)):\n",
    "    if(i%500==0): print(i)\n",
    "    x = ucf(pairs[i][0],pairs[i][1],100)\n",
    "    if(x is None):\n",
    "        continue\n",
    "    #print(type(x),x,(pairs[i][2] - x)**2)\n",
    "    diff_squared.append((pairs[i][2] - x)**2)\n",
    "    count += 1\n",
    "\n",
    "diff = np.array(diff_squared)\n",
    "diff_div = diff / count\n",
    "sumOfDiff = diff_div.sum()\n",
    "rmse = np.sqrt(sumOfDiff)\n",
    "print(count)\n",
    "print(\"rmse of ucf with k=100:\",rmse)"
   ]
  },
  {
   "cell_type": "markdown",
   "metadata": {},
   "source": [
    "<span style=\"color:black; font-weight:700;font-size:18px\"> Έχουμε δύο συναρτήσεις, η μία ακολουθεί την ίδια φιλοσοφία με την ucf, με κάθε τριάδα u,b,k κάνει μια πρόβλεψη, και εμείς σε ένα for-loop που διατρέχει την λίστα με τα k, περνάμε κάθε φορά μόνο ένα k και γίνεται μια πρόβλεψη, όχι μια λίστα όπως λέει η εκφώνηση </span>"
   ]
  },
  {
   "cell_type": "code",
   "execution_count": 59,
   "metadata": {},
   "outputs": [],
   "source": [
    "def ucfPredictions(pairs,k):\n",
    "    diff_squared = []\n",
    "    count = 0\n",
    "    for i in range(len(pairs)):\n",
    "        #if(i%500==0): print(i)\n",
    "        x = ucf(pairs[i][0],pairs[i][1],k)\n",
    "        if(x is None):\n",
    "            continue\n",
    "        #print(type(x),x,(pairs[i][2] - x)**2)\n",
    "        diff_squared.append((pairs[i][2] - x)**2)\n",
    "        count += 1\n",
    "    diff = np.array(diff_squared)\n",
    "    diff_div = diff / count\n",
    "    sumOfDiff = diff_div.sum()\n",
    "    rmse = np.sqrt(sumOfDiff)\n",
    "    return rmse"
   ]
  },
  {
   "cell_type": "code",
   "execution_count": 60,
   "metadata": {
    "scrolled": true
   },
   "outputs": [
    {
     "name": "stdout",
     "output_type": "stream",
     "text": [
      "~~~~~~~ k = 1 ~~~~~~~~~\n",
      "~~~~~~~ k = 2 ~~~~~~~~~\n",
      "~~~~~~~ k = 3 ~~~~~~~~~\n",
      "~~~~~~~ k = 5 ~~~~~~~~~\n",
      "~~~~~~~ k = 8 ~~~~~~~~~\n",
      "~~~~~~~ k = 10 ~~~~~~~~~\n",
      "~~~~~~~ k = 12 ~~~~~~~~~\n",
      "~~~~~~~ k = 15 ~~~~~~~~~\n",
      "~~~~~~~ k = 20 ~~~~~~~~~\n",
      "~~~~~~~ k = 25 ~~~~~~~~~\n",
      "~~~~~~~ k = 30 ~~~~~~~~~\n",
      "~~~~~~~ k = 40 ~~~~~~~~~\n",
      "~~~~~~~ k = 50 ~~~~~~~~~\n"
     ]
    }
   ],
   "source": [
    "k = [1,2,3,5,8,10,12,15,20,25,30,40,50]\n",
    "rmseL = []\n",
    "start = time.time()\n",
    "for i in k:\n",
    "    print(\"~~~~~~~ k =\",i,\"~~~~~~~~~\")\n",
    "    rmseL.append(ucfPredictions(pairs,i))\n",
    "end = time.time()"
   ]
  },
  {
   "cell_type": "markdown",
   "metadata": {},
   "source": [
    "<span style=\"color:black; font-weight:700;font-size:18px\"> Ο χρόνος που χρειάζεται </span>"
   ]
  },
  {
   "cell_type": "code",
   "execution_count": 61,
   "metadata": {},
   "outputs": [
    {
     "name": "stdout",
     "output_type": "stream",
     "text": [
      "Needed time for individual k: 2480.95436501503\n"
     ]
    }
   ],
   "source": [
    "print(\"Needed time for individual k:\",end - start)"
   ]
  },
  {
   "cell_type": "code",
   "execution_count": 62,
   "metadata": {},
   "outputs": [
    {
     "data": {
      "image/png": "[encoded data removed]",
      "text/plain": [
       "<Figure size 2160x1080 with 1 Axes>"
      ]
     },
     "metadata": {
      "needs_background": "light"
     },
     "output_type": "display_data"
    }
   ],
   "source": [
    "plt.figure(figsize=(30, 15))\n",
    "plt.rcParams.update({'font.size': 22})\n",
    "plt.plot(k, rmseL, 'D:b', ms=15, mec = 'r', mfc = 'r', linewidth = 3)\n",
    "plt.title('RMSE - k')\n",
    "plt.xlabel('k')\n",
    "plt.ylabel('rmse')\n",
    "plt.show()"
   ]
  },
  {
   "cell_type": "code",
   "execution_count": null,
   "metadata": {},
   "outputs": [],
   "source": []
  },
  {
   "cell_type": "markdown",
   "metadata": {},
   "source": [
    "<span style=\"color:black; font-weight:700;font-size:18px\"> Εδώ γίνεται η υλοποίηση της συνάρτησης που λέει η εκφώνηση, παίρνει σαν όρισμα u,b και μια λίστα ολόκληρη με όλα τα k. Ο χρόνος εκτέλεσης δεν αλλάζει δραματικά.</span>"
   ]
  },
  {
   "cell_type": "code",
   "execution_count": 63,
   "metadata": {},
   "outputs": [],
   "source": [
    "def ucfPredictions(pairs,k):\n",
    "    pred = np.array([])\n",
    "    diff_squared = []\n",
    "    count = 0\n",
    "    for i in range(len(pairs)):\n",
    "        #if(i%500==0): print(i)\n",
    "        #x = ucf(pairs[i][0],pairs[i][1],k)\n",
    "        for j in k:\n",
    "            predX = ucf(pairs[i][0],pairs[i][1],j)\n",
    "            pred = np.append(pred, predX)\n",
    "        \n",
    "        if(x is None):\n",
    "            continue\n",
    "        #print(pred)\n",
    "        pred = (pairs[i][2] - pred)**2\n",
    "        #diff_squared.append((pairs[i][2] - x)**2)\n",
    "        diff_squared.append(pred)\n",
    "        pred = np.array([])\n",
    "        count += 1\n",
    "    diff_squared = np.array(diff_squared)\n",
    "    sumOfDiff = diff_squared.sum(axis=0)\n",
    "    sumOfDiff = sumOfDiff/count\n",
    "    rmse = np.sqrt(sumOfDiff)\n",
    "\n",
    "    return rmse"
   ]
  },
  {
   "cell_type": "code",
   "execution_count": 64,
   "metadata": {},
   "outputs": [],
   "source": [
    "start = time.time()\n",
    "k = [1,2,3,5,8,10,12,15,20,25,30,40,50]\n",
    "rmseList = ucfPredictions(pairs,k)\n",
    "end = time.time()"
   ]
  },
  {
   "cell_type": "code",
   "execution_count": 65,
   "metadata": {},
   "outputs": [
    {
     "name": "stdout",
     "output_type": "stream",
     "text": [
      "Needed time for list of k: 2273.0874297618866\n"
     ]
    }
   ],
   "source": [
    "print(\"Needed time for list of k:\",end - start)"
   ]
  },
  {
   "cell_type": "code",
   "execution_count": 66,
   "metadata": {},
   "outputs": [
    {
     "data": {
      "image/png": "[encoded data removed]",
      "text/plain": [
       "<Figure size 2160x1080 with 1 Axes>"
      ]
     },
     "metadata": {
      "needs_background": "light"
     },
     "output_type": "display_data"
    }
   ],
   "source": [
    "plt.figure(figsize=(30, 15))\n",
    "plt.rcParams.update({'font.size': 22})\n",
    "plt.plot(k, rmseList, 'D:b', ms=15, mec = 'r', mfc = 'r', linewidth = 3)\n",
    "plt.title('RMSE - k')\n",
    "plt.xlabel('k')\n",
    "plt.ylabel('rmse')\n",
    "plt.show()"
   ]
  },
  {
   "cell_type": "code",
   "execution_count": null,
   "metadata": {},
   "outputs": [],
   "source": []
  },
  {
   "cell_type": "markdown",
   "metadata": {},
   "source": [
    "# Step 6"
   ]
  },
  {
   "cell_type": "markdown",
   "metadata": {},
   "source": [
    "<span style=\"color:black; font-weight:700;font-size:18px\"> Διαβάζουμε το αρχείο για τις μέσες τιμές των user_id και το train_set. </span>"
   ]
  },
  {
   "cell_type": "code",
   "execution_count": 67,
   "metadata": {},
   "outputs": [
    {
     "data": {
      "text/plain": [
       "<bound method NDFrame.head of       user_id_num                 user_id  mean_star\n",
       "0               0  -2cKJFFNJ9XVyWBt62mWvA   4.481481\n",
       "1               1  -4qa2JVDEC_QPVWcZ1nHkQ   3.232558\n",
       "2               2  -6GY04bTPM2Zo4z0GN4a1A   4.416667\n",
       "3               3  -6nlh2IbzCbGhWndMLZt1g   4.076923\n",
       "4               4  -7-d8x5w5c9QolAMgPTKZg   3.558140\n",
       "...           ...                     ...        ...\n",
       "6956         6956  zvq6qxc2IVA08jaUelUMRw   3.676923\n",
       "6957         6957  zwCkk1Pd88uZpvIQRRFo-A   3.555556\n",
       "6958         6958  zwIhFlA84tTLvSSjHc6IgA   3.352941\n",
       "6959         6959  zyNrXvJyYdC34tS6BcCykA   4.031915\n",
       "6960         6960  zzBhA0M7NNBMYoWj48h53A   3.166667\n",
       "\n",
       "[6961 rows x 3 columns]>"
      ]
     },
     "execution_count": 67,
     "metadata": {},
     "output_type": "execute_result"
    }
   ],
   "source": [
    "mean_stars_user = pd.read_csv(\"mean_stars_users.csv\")\n",
    "mean_stars_user.columns = ['user_id_num', 'user_id', 'mean_star']\n",
    "mean_stars_user.columns\n",
    "mean_stars_user.head"
   ]
  },
  {
   "cell_type": "code",
   "execution_count": 68,
   "metadata": {},
   "outputs": [],
   "source": [
    "train_set = pd.read_csv(\"phily_users_businesses_stars_train.csv\")\n",
    "#train_set['stars'] = train_set['stars'] - mean_stars_user['mean_star']"
   ]
  },
  {
   "cell_type": "markdown",
   "metadata": {},
   "source": [
    "<span style=\"color:black; font-weight:700;font-size:18px\"> Δημιουργούμε ένα λεξικό που αντιστοιχεί κάθε user_id με έναν αριθμό από 0 έως Ν-1 και αντικαθιστούμε στο train_set το user_id με τον αριθμό που του αντιστοιχεί, το κωδικοποιούμε κατά κάποιον τρόπο. </span>"
   ]
  },
  {
   "cell_type": "code",
   "execution_count": 69,
   "metadata": {},
   "outputs": [
    {
     "data": {
      "text/plain": [
       "<bound method NDFrame.head of         user_id             business_id  stars\n",
       "0             0  eMiN8nm70jjKg8izikVWDA    4.0\n",
       "1             1  qTb5bEgZdrwx2A3mNVK5mg    5.0\n",
       "2             2  Auc20f0uYTIwPnJIqcdmNw    4.0\n",
       "3             3  j-qtdD55OLfSqfsWuQTDJg    2.0\n",
       "4             4  ME7nOO4hHoCwkbssGqsyPA    5.0\n",
       "...         ...                     ...    ...\n",
       "271922     1251  0R2yKDNMUztQwgo8pG4z-Q    3.0\n",
       "271923     4405  EtKSTHV5Qx_Q7Aur9o4kQQ    3.0\n",
       "271924      698  d28lZlSps97FHhXZazJ8zA    4.0\n",
       "271925     5474  lKU_kljhbEQKIPaM1Zbqiw    3.0\n",
       "271926     1083  fcpHrRopilvsBwUajFB5rw    2.0\n",
       "\n",
       "[271927 rows x 3 columns]>"
      ]
     },
     "execution_count": 69,
     "metadata": {},
     "output_type": "execute_result"
    }
   ],
   "source": [
    "N = train_set.drop_duplicates(subset = ['user_id'])\n",
    "# kane ena dictionary poy antistoixei kathe user_id me ena dictionary.\n",
    "enumN = np.arange(6962)\n",
    "dictN = dict(zip(N['user_id'].values, enumN))\n",
    "\n",
    "train_set[\"user_id\"].replace(dictN, inplace= True)\n",
    "train_set.head"
   ]
  },
  {
   "cell_type": "markdown",
   "metadata": {},
   "source": [
    "<span style=\"color:black; font-weight:700;font-size:18px\"> Χρησιμοποιείς το ίδιο dictionary για να κωδικοποιήσεις το DataFrame με τους users και το μέσο όρο αστεριών τους. </span>"
   ]
  },
  {
   "cell_type": "code",
   "execution_count": 70,
   "metadata": {},
   "outputs": [
    {
     "data": {
      "text/plain": [
       "<bound method NDFrame.head of       user_id_num  user_id  mean_star\n",
       "0               0     2532   4.481481\n",
       "1               1     1751   3.232558\n",
       "2               2      919   4.416667\n",
       "3               3     6954   4.076923\n",
       "4               4     4162   3.558140\n",
       "...           ...      ...        ...\n",
       "6956         6956     3410   3.676923\n",
       "6957         6957     4929   3.555556\n",
       "6958         6958     3934   3.352941\n",
       "6959         6959     2095   4.031915\n",
       "6960         6960      582   3.166667\n",
       "\n",
       "[6961 rows x 3 columns]>"
      ]
     },
     "execution_count": 70,
     "metadata": {},
     "output_type": "execute_result"
    }
   ],
   "source": [
    "mean_stars_user[\"user_id\"].replace(dictN, inplace= True)\n",
    "mean_stars_user.head"
   ]
  },
  {
   "cell_type": "markdown",
   "metadata": {},
   "source": [
    "<span style=\"color:black; font-weight:700;font-size:18px\"> Κάνουμε την ίδια δουλειά για τα business_id με ένα λεξικό με κλειδιά τα business_id και τιμές μια τιμή από 0 έως Μ-1. </span>"
   ]
  },
  {
   "cell_type": "code",
   "execution_count": 71,
   "metadata": {},
   "outputs": [
    {
     "data": {
      "text/plain": [
       "<bound method NDFrame.head of         user_id  business_id  stars\n",
       "0             0            0    4.0\n",
       "1             1            1    5.0\n",
       "2             2            2    4.0\n",
       "3             3            3    2.0\n",
       "4             4            4    5.0\n",
       "...         ...          ...    ...\n",
       "271922     1251         1043    3.0\n",
       "271923     4405          366    3.0\n",
       "271924      698         1950    4.0\n",
       "271925     5474          459    3.0\n",
       "271926     1083         1658    2.0\n",
       "\n",
       "[271927 rows x 3 columns]>"
      ]
     },
     "execution_count": 71,
     "metadata": {},
     "output_type": "execute_result"
    }
   ],
   "source": [
    "M = train_set.drop_duplicates(subset = ['business_id'])\n",
    "enumM = np.arange(4065)\n",
    "dictM = dict(map(lambda i,j : (i,j) , M['business_id'].values,enumM))\n",
    "\n",
    "train_set[\"business_id\"].replace(dictM, inplace= True)\n",
    "train_set.head"
   ]
  },
  {
   "cell_type": "markdown",
   "metadata": {},
   "source": [
    "<span style=\"color:black; font-weight:700;font-size:18px\"> Τώρα κάνω ένα DataFrame με δύο στήλες, στην μία το user_id κωδικοποιημένο από το dictionary και στην άλλη το mean του χρήστη. Μετά τα κάνω sort σύμφωνα με το κωδικοποιημένο user_id και τα βάζω σε μια λίστα, με αυτόν τον τρόπο υπάρχει 1-1 αντιστοίχηση του index της λίστας με το user_id. Άμα γράψω δηλαδή meanL[32], θα πάρω το μέσο όρο του χρήστη '32'.</span>"
   ]
  },
  {
   "cell_type": "code",
   "execution_count": 72,
   "metadata": {},
   "outputs": [
    {
     "data": {
      "text/plain": [
       "<bound method NDFrame.head of       user_id  mean_star\n",
       "1832      0.0   3.969697\n",
       "5406      1.0   4.306122\n",
       "112       2.0   3.902174\n",
       "2655      3.0   2.625000\n",
       "4615      4.0   4.708333\n",
       "...       ...        ...\n",
       "1815   6956.0   3.666667\n",
       "5016   6957.0   4.187500\n",
       "6712   6958.0   4.461538\n",
       "2617   6959.0   4.384615\n",
       "243    6960.0   3.714286\n",
       "\n",
       "[6961 rows x 2 columns]>"
      ]
     },
     "execution_count": 72,
     "metadata": {},
     "output_type": "execute_result"
    }
   ],
   "source": [
    "meanList = mean_stars_user[['user_id','mean_star']].values\n",
    "meanDf = pd.DataFrame(meanList)\n",
    "meanDf.columns = ['user_id','mean_star']\n",
    "meanDf.sort_values(by = ['user_id'], ascending=True, inplace=True)\n",
    "meanL = meanDf['mean_star'].values\n",
    "meanDf.head"
   ]
  },
  {
   "cell_type": "markdown",
   "metadata": {},
   "source": [
    "<span style=\"color:black; font-weight:700;font-size:18px\"> Τώρα στην νέα στήλη τι κάνω: παίρνω το user_id και το χρησιμοποιώ ως index της λίστας meanL -που όπως είπα υπάρχει 1-1 αντιστοιχία index με user_id- και με αυτόν τον τρόπο βρίσκω το μέσο όρο των αστεριών του user. Στην νέα στήλη λοιπόν βάζω την διαφορά της βαθμολογίας με το μέσο όρο. </span>"
   ]
  },
  {
   "cell_type": "code",
   "execution_count": 73,
   "metadata": {},
   "outputs": [
    {
     "data": {
      "text/plain": [
       "<bound method NDFrame.head of         user_id  business_id  stars  stars_minus_diff\n",
       "0             0            0    4.0          0.030303\n",
       "1             1            1    5.0          0.693878\n",
       "2             2            2    4.0          0.097826\n",
       "3             3            3    2.0         -0.625000\n",
       "4             4            4    5.0          0.291667\n",
       "...         ...          ...    ...               ...\n",
       "271922     1251         1043    3.0         -0.844444\n",
       "271923     4405          366    3.0         -0.800000\n",
       "271924      698         1950    4.0          0.073034\n",
       "271925     5474          459    3.0         -0.576923\n",
       "271926     1083         1658    2.0         -1.515789\n",
       "\n",
       "[271927 rows x 4 columns]>"
      ]
     },
     "execution_count": 73,
     "metadata": {},
     "output_type": "execute_result"
    }
   ],
   "source": [
    "train_set['stars_minus_diff'] = train_set.apply(lambda x: x['stars'] - meanL[int(x['user_id'])], axis = 1)\n",
    "train_set.head"
   ]
  },
  {
   "cell_type": "code",
   "execution_count": null,
   "metadata": {},
   "outputs": [],
   "source": []
  },
  {
   "cell_type": "markdown",
   "metadata": {},
   "source": [
    "<span style=\"color:black; font-weight:700;font-size:18px\"> Εδώ υλοποιείται ο αλγόριθμος icf, παίρνει 3 ορίσματα, u,b,k όπου για κάθε u,b (user_id και business_id) γίνεται μια πρόβλεψη της βαθμολογίας σύμφωνα με το k. </span>"
   ]
  },
  {
   "cell_type": "code",
   "execution_count": 74,
   "metadata": {},
   "outputs": [],
   "source": [
    "def icf(u,b,k):\n",
    "    #bus_group = train_set.groupby('business_id')\n",
    "    user_group = train_set.groupby('user_id')\n",
    "    if(b not in train_set['business_id'].values):\n",
    "        print(\"this business doesn't exist\")\n",
    "        return\n",
    "    if(u not in train_set['user_id'].values):\n",
    "        print(\"this user doesn't exist\")\n",
    "        return\n",
    "    for user_id, user_data in user_group:\n",
    "        if(user_id != u): continue\n",
    "        ubPair = user_data.loc[user_data['user_id'] == u]\n",
    "        ubPair = ubPair.loc[user_data['business_id'] == b]\n",
    "        ubPairL = ubPair.values\n",
    "        \n",
    "        # check if busienss has been reviewed from user u\n",
    "        if(b not in user_data['business_id'].values):\n",
    "            #print(\"user didn't review this store\")\n",
    "            break\n",
    "        if(len((ubPairL)) > 1): ubPairL = ubPairL[0]\n",
    "            \n",
    "        # find cosine distance of all the rows of the grouped_by dataframe from\n",
    "        # the (u,b) given pair. ubPair is: [u, b, stars_of_the_review]\n",
    "        #cosDis = bus_data.apply(lambda row: 1 - cosine(row, ubPairL), axis=1)\n",
    "        cosDis = user_data.apply(lambda row: cosine(row, ubPairL), axis=1)\n",
    "        # add the array of the distances to the grouped_by dataframe\n",
    "        user_data['dis_from_ub'] = cosDis\n",
    "        # sort by the distances\n",
    "        user_data.sort_values(by = ['dis_from_ub'], ascending=False, inplace=True)\n",
    "        \n",
    "        cosDis = np.array(user_data['dis_from_ub'].values)\n",
    "        stars = np.array(user_data['stars_minus_diff'].values)\n",
    "        \n",
    "        # we put 1:k because at index=0 we have the same value, where distance=1\n",
    "        # we want JUST the neighbors\n",
    "        # pollaplasiazoume 1 pros 1 ta stoixeia ths listas\n",
    "        # kai meta briskoume to athroisma twn pollaplasiasmenwn\n",
    "        mul = cosDis[1:k+1] * stars[1:k+1]\n",
    "        numerator = mul.sum()\n",
    "        denominator = cosDis[1:k+1].sum()\n",
    "        \n",
    "        \n",
    "        # find the mean value of the reviews of the user u\n",
    "        lru = mean_stars_user.loc[mean_stars_user['user_id_num'] == u].values\n",
    "        ru = lru[0][2]\n",
    "        \n",
    "        #print(cosDis[1:k])\n",
    "        #print(stars[1:k])\n",
    "        #print(bus_data.head)\n",
    "        #print(ubPairL)\n",
    "        #print(\"Mean value of reviews:\",ru,\"numerator:\",numerator,\"denominator:\",denominator)\n",
    "        \n",
    "        res = ru + numerator/denominator\n",
    "        #print(\"Result:\",res)\n",
    "        return res\n",
    "        break"
   ]
  },
  {
   "cell_type": "markdown",
   "metadata": {},
   "source": [
    "<span style=\"color:black; font-weight:700;font-size:18px\"> Διαβάζουμε το test_set και κωδικοποιούμε τις στήλες user_id και business_id με τα dictionaries που αντιστοιχούν κάθε user_id και business_id σε έναν μοναδικό αριθμό. </span>"
   ]
  },
  {
   "cell_type": "code",
   "execution_count": 75,
   "metadata": {},
   "outputs": [],
   "source": [
    "test_set = pd.read_csv(\"phily_users_businesses_stars_test.csv\")"
   ]
  },
  {
   "cell_type": "code",
   "execution_count": 76,
   "metadata": {},
   "outputs": [],
   "source": [
    "# encode test set "
   ]
  },
  {
   "cell_type": "code",
   "execution_count": 77,
   "metadata": {},
   "outputs": [
    {
     "data": {
      "text/plain": [
       "<bound method NDFrame.head of        user_id  business_id  stars\n",
       "0         6035         2881    1.0\n",
       "1         4046         2898    5.0\n",
       "2          476         1737    4.0\n",
       "3         1542         1860    2.0\n",
       "4         5237         2582    4.0\n",
       "...        ...          ...    ...\n",
       "30209     6774          970    5.0\n",
       "30210     1340          564    3.0\n",
       "30211     5445         1044    2.0\n",
       "30212     4117          149    5.0\n",
       "30213     2136         1719    5.0\n",
       "\n",
       "[30214 rows x 3 columns]>"
      ]
     },
     "execution_count": 77,
     "metadata": {},
     "output_type": "execute_result"
    }
   ],
   "source": [
    "enumN = np.arange(6962)\n",
    "dictN = dict(zip(N['user_id'].values, enumN))\n",
    "test_set[\"user_id\"].replace(dictN, inplace= True)\n",
    "\n",
    "\n",
    "enumM = np.arange(4065)\n",
    "dictM = dict(map(lambda i,j : (i,j) , M['business_id'].values,enumM))\n",
    "test_set[\"business_id\"].replace(dictM, inplace= True)\n",
    "test_set.head"
   ]
  },
  {
   "cell_type": "markdown",
   "metadata": {},
   "source": [
    "<span style=\"color:black; font-weight:700;font-size:18px\"> Όπως το βήμα 4 θα πρέπει να δούμε ποιά ζευγάρια (u,b) του test_set ανήκουν στο train_set, προκειμένου να υπάρχει μια πρόβλεψη. </span>"
   ]
  },
  {
   "cell_type": "code",
   "execution_count": 78,
   "metadata": {},
   "outputs": [
    {
     "name": "stdout",
     "output_type": "stream",
     "text": [
      "at the bottom see how many commons (u,b) pairs between test and train\n"
     ]
    },
    {
     "data": {
      "text/plain": [
       "<bound method NDFrame.head of       user_id  business_id  stars_x\n",
       "0         217          205      4.0\n",
       "1         242          226      5.0\n",
       "2         242          226      5.0\n",
       "3         242          226      5.0\n",
       "4         253          236      5.0\n",
       "...       ...          ...      ...\n",
       "3434      393         2702      5.0\n",
       "3435     3482         1351      1.0\n",
       "3436     6135          370      5.0\n",
       "3437     2959          482      5.0\n",
       "3438     4239         1317      5.0\n",
       "\n",
       "[3439 rows x 3 columns]>"
      ]
     },
     "execution_count": 78,
     "metadata": {},
     "output_type": "execute_result"
    }
   ],
   "source": [
    "mergedStuff = pd.merge(train_set, test_set, on=['user_id','business_id'], how='inner')\n",
    "#mergedStuff.drop_duplicates(subset=['user_id','business_id'], inplace=True)\n",
    "mergedStuff.drop(columns = ['stars_minus_diff','stars_y'], axis=1, inplace=True)\n",
    "print(\"at the bottom see how many commons (u,b) pairs between test and train\")\n",
    "mergedStuff.head"
   ]
  },
  {
   "cell_type": "markdown",
   "metadata": {},
   "source": [
    "<span style=\"color:black; font-weight:700;font-size:18px\"> Βρίσκουμε το rmse για k=100. </span>"
   ]
  },
  {
   "cell_type": "code",
   "execution_count": 79,
   "metadata": {
    "scrolled": true
   },
   "outputs": [
    {
     "name": "stdout",
     "output_type": "stream",
     "text": [
      "3439\n",
      "rmse of ucf with k=100: 1.3288219036401505\n"
     ]
    }
   ],
   "source": [
    "pairs = mergedStuff[['user_id','business_id','stars_x']].values\n",
    "\n",
    "diff_squared = []\n",
    "count = 0\n",
    "for i in range(len(pairs)):\n",
    "    #if(i%500==0): print(i)\n",
    "    x = icf(pairs[i][0],pairs[i][1],100)\n",
    "    if(x is None):\n",
    "        continue\n",
    "    #print(type(x),x,(pairs[i][2] - x)**2)\n",
    "    diff_squared.append((pairs[i][2] - x)**2)\n",
    "    count += 1\n",
    "\n",
    "diff = np.array(diff_squared)\n",
    "diff_div = diff / count\n",
    "sumOfDiff = diff_div.sum()\n",
    "rmse = np.sqrt(sumOfDiff)\n",
    "print(count)\n",
    "print(\"rmse of ucf with k=100:\",rmse)"
   ]
  },
  {
   "cell_type": "markdown",
   "metadata": {},
   "source": [
    "<span style=\"color:black; font-weight:700;font-size:18px\"> Έχουμε δύο συναρτήσεις, η μία ακολουθεί την ίδια φιλοσοφία με την icf, με κάθε τριάδα u,b,k κάνει μια πρόβλεψη, και εμείς σε ένα for-loop που διατρέχει την λίστα με τα k, περνάμε κάθε φορά μόνο ένα k και γίνεται μια πρόβλεψη, όχι μια λίστα όπως λέει η εκφώνηση </span>"
   ]
  },
  {
   "cell_type": "code",
   "execution_count": 80,
   "metadata": {},
   "outputs": [],
   "source": [
    "def icfPredictions(pairs,k):\n",
    "    diff_squared = []\n",
    "    count = 0\n",
    "    for i in range(len(pairs)):\n",
    "        #if(i%500==0): print(i)\n",
    "        x = icf(pairs[i][0],pairs[i][1],k)\n",
    "        if(x is None):\n",
    "            continue\n",
    "        #print(type(x),x,(pairs[i][2] - x)**2)\n",
    "        diff_squared.append((pairs[i][2] - x)**2)\n",
    "        count += 1\n",
    "    diff = np.array(diff_squared)\n",
    "    diff_div = diff / count\n",
    "    sumOfDiff = diff_div.sum()\n",
    "    rmse = np.sqrt(sumOfDiff)\n",
    "    return rmse"
   ]
  },
  {
   "cell_type": "code",
   "execution_count": 81,
   "metadata": {
    "scrolled": true
   },
   "outputs": [
    {
     "name": "stdout",
     "output_type": "stream",
     "text": [
      "~~~~~~~ k = 1 ~~~~~~~~~\n",
      "~~~~~~~ k = 2 ~~~~~~~~~\n",
      "~~~~~~~ k = 3 ~~~~~~~~~\n",
      "~~~~~~~ k = 5 ~~~~~~~~~\n",
      "~~~~~~~ k = 8 ~~~~~~~~~\n",
      "~~~~~~~ k = 10 ~~~~~~~~~\n",
      "~~~~~~~ k = 12 ~~~~~~~~~\n",
      "~~~~~~~ k = 15 ~~~~~~~~~\n",
      "~~~~~~~ k = 20 ~~~~~~~~~\n",
      "~~~~~~~ k = 25 ~~~~~~~~~\n",
      "~~~~~~~ k = 30 ~~~~~~~~~\n",
      "~~~~~~~ k = 40 ~~~~~~~~~\n",
      "~~~~~~~ k = 50 ~~~~~~~~~\n"
     ]
    }
   ],
   "source": [
    "k = [1,2,3,5,8,10,12,15,20,25,30,40,50]\n",
    "rmseL = []\n",
    "start = time.time()\n",
    "for i in k:\n",
    "    print(\"~~~~~~~ k =\",i,\"~~~~~~~~~\")\n",
    "    rmseL.append(icfPredictions(pairs,i))\n",
    "end = time.time()"
   ]
  },
  {
   "cell_type": "markdown",
   "metadata": {},
   "source": [
    "<span style=\"color:black; font-weight:700;font-size:18px\"> Ο χρόνος που χρειάζεται </span>"
   ]
  },
  {
   "cell_type": "code",
   "execution_count": 82,
   "metadata": {},
   "outputs": [
    {
     "name": "stdout",
     "output_type": "stream",
     "text": [
      "Needed time for individual k: 2711.735929965973\n"
     ]
    }
   ],
   "source": [
    "print(\"Needed time for individual k:\",end - start)"
   ]
  },
  {
   "cell_type": "code",
   "execution_count": 83,
   "metadata": {},
   "outputs": [
    {
     "data": {
      "image/png": "[encoded data removed]",
      "text/plain": [
       "<Figure size 2160x1080 with 1 Axes>"
      ]
     },
     "metadata": {
      "needs_background": "light"
     },
     "output_type": "display_data"
    }
   ],
   "source": [
    "plt.figure(figsize=(30, 15))\n",
    "plt.rcParams.update({'font.size': 22})\n",
    "plt.plot(k, rmseL, 'D:b', ms=15, mec = 'r', mfc = 'r', linewidth = 3)\n",
    "plt.title('RMSE - k')\n",
    "plt.xlabel('k')\n",
    "plt.ylabel('rmse')\n",
    "plt.show()"
   ]
  },
  {
   "cell_type": "code",
   "execution_count": null,
   "metadata": {},
   "outputs": [],
   "source": []
  },
  {
   "cell_type": "markdown",
   "metadata": {},
   "source": [
    "<span style=\"color:black; font-weight:700;font-size:18px\"> Εδώ γίνεται η υλοποίηση της συνάρτησης που λέει η εκφώνηση, παίρνει σαν όρισμα u,b και μια λίστα ολόκληρη με όλα τα k. Ο χρόνος εκτέλεσης δεν αλλάζει δραματικά.</span>"
   ]
  },
  {
   "cell_type": "code",
   "execution_count": 84,
   "metadata": {},
   "outputs": [],
   "source": [
    "def icfPredictions(pairs,k):\n",
    "    pred = np.array([])\n",
    "    diff_squared = []\n",
    "    count = 0\n",
    "    for i in range(len(pairs)):\n",
    "        #if(i%500==0): print(i)\n",
    "        #x = ucf(pairs[i][0],pairs[i][1],k)\n",
    "        for j in k:\n",
    "            predX = icf(pairs[i][0],pairs[i][1],j)\n",
    "            pred = np.append(pred, predX)\n",
    "        \n",
    "        if(x is None):\n",
    "            continue\n",
    "        #print(pred)\n",
    "        pred = (pairs[i][2] - pred)**2\n",
    "        #diff_squared.append((pairs[i][2] - x)**2)\n",
    "        diff_squared.append(pred)\n",
    "        pred = np.array([])\n",
    "        count += 1\n",
    "    diff_squared = np.array(diff_squared)\n",
    "    sumOfDiff = diff_squared.sum(axis=0)\n",
    "    sumOfDiff = sumOfDiff/count\n",
    "    rmse = np.sqrt(sumOfDiff)\n",
    "\n",
    "    return rmse"
   ]
  },
  {
   "cell_type": "code",
   "execution_count": 85,
   "metadata": {},
   "outputs": [],
   "source": [
    "start = time.time()\n",
    "k = [1,2,3,5,8,10,12,15,20,25,30,40,50]\n",
    "rmseList = ucfPredictions(pairs,k)\n",
    "end = time.time()"
   ]
  },
  {
   "cell_type": "code",
   "execution_count": 86,
   "metadata": {},
   "outputs": [
    {
     "name": "stdout",
     "output_type": "stream",
     "text": [
      "Needed time for list of k: 2351.555630683899\n"
     ]
    }
   ],
   "source": [
    "print(\"Needed time for list of k:\",end - start)"
   ]
  },
  {
   "cell_type": "code",
   "execution_count": 87,
   "metadata": {},
   "outputs": [
    {
     "data": {
      "image/png": "[encoded data removed]",
      "text/plain": [
       "<Figure size 2160x1080 with 1 Axes>"
      ]
     },
     "metadata": {
      "needs_background": "light"
     },
     "output_type": "display_data"
    }
   ],
   "source": [
    "plt.figure(figsize=(30, 15))\n",
    "plt.rcParams.update({'font.size': 22})\n",
    "plt.plot(k, rmseList, 'D:b', ms=15, mec = 'r', mfc = 'r', linewidth = 3)\n",
    "plt.title('RMSE - k')\n",
    "plt.xlabel('k')\n",
    "plt.ylabel('rmse')\n",
    "plt.show()"
   ]
  },
  {
   "cell_type": "code",
   "execution_count": null,
   "metadata": {},
   "outputs": [],
   "source": []
  }
 ],
 "metadata": {
  "kernelspec": {
   "display_name": "Python 3",
   "language": "python",
   "name": "python3"
  },
  "language_info": {
   "codemirror_mode": {
    "name": "ipython",
    "version": 3
   },
   "file_extension": ".py",
   "mimetype": "text/x-python",
   "name": "python",
   "nbconvert_exporter": "python",
   "pygments_lexer": "ipython3",
   "version": "3.8.5"
  }
 },
 "nbformat": 4,
 "nbformat_minor": 4
}
