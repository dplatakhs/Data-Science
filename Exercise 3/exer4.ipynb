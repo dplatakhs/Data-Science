{
 "cells": [
  {
   "cell_type": "markdown",
   "metadata": {},
   "source": [
    "# Χρησιμοποιήθηκαν 2 free pass"
   ]
  },
  {
   "cell_type": "markdown",
   "metadata": {},
   "source": [
    "<span style=\"color:black; font-weight:700;font-size:18px\"> Οι βιβλιοθήκες που θα χρειαστούμε. </span>"
   ]
  },
  {
   "cell_type": "code",
   "execution_count": 1,
   "metadata": {},
   "outputs": [
    {
     "name": "stderr",
     "output_type": "stream",
     "text": [
      "[nltk_data] Downloading package words to\n",
      "[nltk_data]     C:\\Users\\jimmy\\AppData\\Roaming\\nltk_data...\n",
      "[nltk_data]   Package words is already up-to-date!\n",
      "[nltk_data] Downloading package punkt to\n",
      "[nltk_data]     C:\\Users\\jimmy\\AppData\\Roaming\\nltk_data...\n",
      "[nltk_data]   Package punkt is already up-to-date!\n",
      "[nltk_data] Downloading package stopwords to\n",
      "[nltk_data]     C:\\Users\\jimmy\\AppData\\Roaming\\nltk_data...\n",
      "[nltk_data]   Package stopwords is already up-to-date!\n"
     ]
    },
    {
     "data": {
      "text/plain": [
       "True"
      ]
     },
     "execution_count": 1,
     "metadata": {},
     "output_type": "execute_result"
    }
   ],
   "source": [
    "import pandas as pd\n",
    "import numpy as np\n",
    "import nltk\n",
    "import matplotlib.pyplot as plt\n",
    "\n",
    "import seaborn as sns\n",
    "from sklearn.utils import shuffle\n",
    "from sklearn.linear_model import LogisticRegression\n",
    "from sklearn import svm\n",
    "from sklearn.neighbors import KNeighborsClassifier\n",
    "from sklearn import metrics\n",
    "\n",
    "nltk.download('words')\n",
    "from nltk.corpus import words\n",
    "\n",
    "import nltk\n",
    "from nltk.corpus import stopwords\n",
    "from nltk.tokenize import word_tokenize\n",
    "nltk.download('punkt')\n",
    "nltk.download('stopwords')"
   ]
  },
  {
   "cell_type": "markdown",
   "metadata": {},
   "source": [
    "<span style=\"color:black; font-weight:700;font-size:18px\"> Διαβάζουμε το αρχείο με τους χρήστες και τα review τους. </span>"
   ]
  },
  {
   "cell_type": "code",
   "execution_count": 2,
   "metadata": {},
   "outputs": [],
   "source": [
    "revDf = pd.read_csv('reviewsRest.csv')\n",
    "#restF = pd.read_csv('philly_restaurants_categories.csv')"
   ]
  },
  {
   "cell_type": "markdown",
   "metadata": {},
   "source": [
    "<span style=\"color:black; font-weight:700;font-size:18px\"> Αφαιρούμε τα stopwords, λέξεις που δεν προσφέρουν κάποια πληροφορία. </span>"
   ]
  },
  {
   "cell_type": "code",
   "execution_count": 3,
   "metadata": {},
   "outputs": [
    {
     "data": {
      "text/plain": [
       "<bound method NDFrame.head of                      review_id                 user_id  \\\n",
       "0       8JFGBuHMoiNDyfcxuWNtrA  smOvOajNG0lS4Pq7d8g4JQ   \n",
       "1       cvQXRFLCyr0S7EgFb4lZqw  ZGjgfSvjQK886kiTzLwfLQ   \n",
       "2       8GZbCEMxrbqmRinDbfHWVQ  OkjeFppodgJP_CvB84cJYw   \n",
       "3       3dVcGYz6GokuEytLrfG8bA  FEI0XkOrUHufSW_rfOTPAA   \n",
       "4       -xM8cH4AeVzgTJBQHlxfUQ  ZaMB7VbOwaARjxdhXjODxA   \n",
       "...                        ...                     ...   \n",
       "155675  v7t0iEY4YnFiVYCMWfi7RA  Ltn-FyXdf8F7GW0nRB6nyw   \n",
       "155676  fcXXmkr0bZjsZ_l3clVAWw  ZMAZbnWSlKKwxh96A7lMrw   \n",
       "155677  UmO5D7ZXgT2Bzqh4wH0o3g  rn_B8ffTR_3ZlW9FcE1n3g   \n",
       "155678  jsBz-uJy6M--L8ogPG52dA  bJ5FtCtZX3ZZacz2_2PJjA   \n",
       "155679  YAAmRuqBqaFV6kW6ozjBpQ  aFLEltFU8TVgYS1C6tzuUA   \n",
       "\n",
       "                   business_id  stars  useful  funny  cool  \\\n",
       "0       RZtGWDLCAtuipwaZ-UfjmQ    4.0       0      0     0   \n",
       "1       EtKSTHV5Qx_Q7Aur9o4kQQ    5.0       3      1     1   \n",
       "2       FHNIvNgh3fS7VZQq2Y3dsA    3.0       1      0     1   \n",
       "3       Dv6RfXLYe1atjgz3Xf4GGw    4.0       1      0     0   \n",
       "4       EtKSTHV5Qx_Q7Aur9o4kQQ    5.0       0      0     0   \n",
       "...                        ...    ...     ...    ...   ...   \n",
       "155675  ozOneB4jXOD6hv5WBGj4KQ    5.0       0      0     0   \n",
       "155676  hUmHwBQtGg0iH-PZakQJDw    4.0       0      0     1   \n",
       "155677  y8gjlpJA89qDRCLC0JQaew    5.0      17      3     9   \n",
       "155678  mBgaPljP3OYkl_vGKTyFNw    4.0       4      1     4   \n",
       "155679  8XjxHeV66F4eoIy06rW0pA    5.0       4      0     1   \n",
       "\n",
       "                                                     text  \\\n",
       "0       Good food--loved the gnocchi with marinara\\nth...   \n",
       "1       On a scale of one to things that are awesome, ...   \n",
       "2       After trying a few ramen places with crazy var...   \n",
       "3       Good food, reasonably priced, and nice staff. ...   \n",
       "4       Picked up takeout from Village Whiskey (so I c...   \n",
       "...                                                   ...   \n",
       "155675  Great food and amazing hospitality - award win...   \n",
       "155676  This is a salad restaurant in the Fishtown nei...   \n",
       "155677  I love this place for happy hour! I've come he...   \n",
       "155678  I remember a time where legitimate good pizza ...   \n",
       "155679  Porta, Porta, Porta, one of my new FAVORITE sp...   \n",
       "\n",
       "                       date                                    text_without_sw  \n",
       "0       2009-10-14 19:57:14  Good food--loved gnocchi marinara baked eggpla...  \n",
       "1       2009-10-14 01:15:04  On scale one things awesome, place bomb. I dra...  \n",
       "2       2014-07-13 18:28:58  After trying ramen places crazy variety select...  \n",
       "3       2012-12-04 23:58:36  Good food, reasonably priced, nice staff. Not ...  \n",
       "4       2014-11-30 01:55:57  Picked takeout Village Whiskey (so I can't rev...  \n",
       "...                     ...                                                ...  \n",
       "155675  2021-11-29 21:36:01  Great food amazing hospitality - award winning...  \n",
       "155676  2021-11-08 23:57:18  This salad restaurant Fishtown neighborhood Ph...  \n",
       "155677  2019-08-30 00:17:11  I love place happy hour! I've come quite times...  \n",
       "155678  2012-03-16 05:37:03  I remember time legitimate good pizza Philly l...  \n",
       "155679  2018-08-04 17:47:21  Porta, Porta, Porta, one new FAVORITE spots go...  \n",
       "\n",
       "[155680 rows x 10 columns]>"
      ]
     },
     "execution_count": 3,
     "metadata": {},
     "output_type": "execute_result"
    }
   ],
   "source": [
    "stop = stopwords.words('english')\n",
    "revDf['text_without_sw'] = revDf['text'].apply(lambda x: ' '.join([word for word in x.split() if word not in (stop)]))\n",
    "revDf.head"
   ]
  },
  {
   "cell_type": "markdown",
   "metadata": {},
   "source": [
    "<span style=\"color:black; font-weight:700;font-size:18px\"> Κάνουμε ένα νέο DataFrame με δύο στήλες, το κείμενο του review και την βαθμολογία. Μετά προσθέτουμε μια τρίτη στήλη που είναι οι λέξεις του κειμένου ώς στοιχεία λίστας, η διαδικασία tokenize </span>"
   ]
  },
  {
   "cell_type": "code",
   "execution_count": 4,
   "metadata": {},
   "outputs": [],
   "source": [
    "revStars = pd.DataFrame()\n",
    "revStars[['text','stars']] = revDf[['text_without_sw','stars']]\n",
    "revStars['tokenized_text'] = revStars.apply(lambda row: nltk.word_tokenize(row['text']), axis=1)"
   ]
  },
  {
   "cell_type": "markdown",
   "metadata": {},
   "source": [
    "<span style=\"color:black; font-weight:700;font-size:18px\"> Για το train_set θα χρησιμοποιήσουμε τις πρώτες 110.000 γραμμές.</span>"
   ]
  },
  {
   "cell_type": "code",
   "execution_count": 5,
   "metadata": {},
   "outputs": [
    {
     "data": {
      "text/html": [
       "<div>\n",
       "<style scoped>\n",
       "    .dataframe tbody tr th:only-of-type {\n",
       "        vertical-align: middle;\n",
       "    }\n",
       "\n",
       "    .dataframe tbody tr th {\n",
       "        vertical-align: top;\n",
       "    }\n",
       "\n",
       "    .dataframe thead th {\n",
       "        text-align: right;\n",
       "    }\n",
       "</style>\n",
       "<table border=\"1\" class=\"dataframe\">\n",
       "  <thead>\n",
       "    <tr style=\"text-align: right;\">\n",
       "      <th></th>\n",
       "      <th>text</th>\n",
       "      <th>stars</th>\n",
       "      <th>tokenized_text</th>\n",
       "    </tr>\n",
       "  </thead>\n",
       "  <tbody>\n",
       "    <tr>\n",
       "      <th>0</th>\n",
       "      <td>Good food--loved gnocchi marinara baked eggpla...</td>\n",
       "      <td>4.0</td>\n",
       "      <td>[Good, food, --, loved, gnocchi, marinara, bak...</td>\n",
       "    </tr>\n",
       "    <tr>\n",
       "      <th>1</th>\n",
       "      <td>On scale one things awesome, place bomb. I dra...</td>\n",
       "      <td>5.0</td>\n",
       "      <td>[On, scale, one, things, awesome, ,, place, bo...</td>\n",
       "    </tr>\n",
       "    <tr>\n",
       "      <th>2</th>\n",
       "      <td>After trying ramen places crazy variety select...</td>\n",
       "      <td>3.0</td>\n",
       "      <td>[After, trying, ramen, places, crazy, variety,...</td>\n",
       "    </tr>\n",
       "    <tr>\n",
       "      <th>3</th>\n",
       "      <td>Good food, reasonably priced, nice staff. Not ...</td>\n",
       "      <td>4.0</td>\n",
       "      <td>[Good, food, ,, reasonably, priced, ,, nice, s...</td>\n",
       "    </tr>\n",
       "    <tr>\n",
       "      <th>4</th>\n",
       "      <td>Picked takeout Village Whiskey (so I can't rev...</td>\n",
       "      <td>5.0</td>\n",
       "      <td>[Picked, takeout, Village, Whiskey, (, so, I, ...</td>\n",
       "    </tr>\n",
       "    <tr>\n",
       "      <th>...</th>\n",
       "      <td>...</td>\n",
       "      <td>...</td>\n",
       "      <td>...</td>\n",
       "    </tr>\n",
       "    <tr>\n",
       "      <th>109995</th>\n",
       "      <td>The view, feeling classic bar, beer enticing b...</td>\n",
       "      <td>5.0</td>\n",
       "      <td>[The, view, ,, feeling, classic, bar, ,, beer,...</td>\n",
       "    </tr>\n",
       "    <tr>\n",
       "      <th>109996</th>\n",
       "      <td>The best restaurant I've since I dont know whe...</td>\n",
       "      <td>5.0</td>\n",
       "      <td>[The, best, restaurant, I, 've, since, I, dont...</td>\n",
       "    </tr>\n",
       "    <tr>\n",
       "      <th>109997</th>\n",
       "      <td>Realized eating beautiful pictures prepared di...</td>\n",
       "      <td>2.0</td>\n",
       "      <td>[Realized, eating, beautiful, pictures, prepar...</td>\n",
       "    </tr>\n",
       "    <tr>\n",
       "      <th>109998</th>\n",
       "      <td>I back La Fourno many many times past year. I ...</td>\n",
       "      <td>5.0</td>\n",
       "      <td>[I, back, La, Fourno, many, many, times, past,...</td>\n",
       "    </tr>\n",
       "    <tr>\n",
       "      <th>109999</th>\n",
       "      <td>I live 2 blocks away eating ordering last four...</td>\n",
       "      <td>1.0</td>\n",
       "      <td>[I, live, 2, blocks, away, eating, ordering, l...</td>\n",
       "    </tr>\n",
       "  </tbody>\n",
       "</table>\n",
       "<p>110000 rows × 3 columns</p>\n",
       "</div>"
      ],
      "text/plain": [
       "                                                     text  stars  \\\n",
       "0       Good food--loved gnocchi marinara baked eggpla...    4.0   \n",
       "1       On scale one things awesome, place bomb. I dra...    5.0   \n",
       "2       After trying ramen places crazy variety select...    3.0   \n",
       "3       Good food, reasonably priced, nice staff. Not ...    4.0   \n",
       "4       Picked takeout Village Whiskey (so I can't rev...    5.0   \n",
       "...                                                   ...    ...   \n",
       "109995  The view, feeling classic bar, beer enticing b...    5.0   \n",
       "109996  The best restaurant I've since I dont know whe...    5.0   \n",
       "109997  Realized eating beautiful pictures prepared di...    2.0   \n",
       "109998  I back La Fourno many many times past year. I ...    5.0   \n",
       "109999  I live 2 blocks away eating ordering last four...    1.0   \n",
       "\n",
       "                                           tokenized_text  \n",
       "0       [Good, food, --, loved, gnocchi, marinara, bak...  \n",
       "1       [On, scale, one, things, awesome, ,, place, bo...  \n",
       "2       [After, trying, ramen, places, crazy, variety,...  \n",
       "3       [Good, food, ,, reasonably, priced, ,, nice, s...  \n",
       "4       [Picked, takeout, Village, Whiskey, (, so, I, ...  \n",
       "...                                                   ...  \n",
       "109995  [The, view, ,, feeling, classic, bar, ,, beer,...  \n",
       "109996  [The, best, restaurant, I, 've, since, I, dont...  \n",
       "109997  [Realized, eating, beautiful, pictures, prepar...  \n",
       "109998  [I, back, La, Fourno, many, many, times, past,...  \n",
       "109999  [I, live, 2, blocks, away, eating, ordering, l...  \n",
       "\n",
       "[110000 rows x 3 columns]"
      ]
     },
     "execution_count": 5,
     "metadata": {},
     "output_type": "execute_result"
    }
   ],
   "source": [
    "revStarsTrain = revStars.iloc[:110000]\n",
    "revStarsTrain.dropna()"
   ]
  },
  {
   "cell_type": "markdown",
   "metadata": {},
   "source": [
    "<span style=\"color:black; font-weight:700;font-size:18px\"> Από εδώ ξεκινάει ο αλγόριθμος. Για αρχή θα δημιουργήσουμε ένα λεξικό freqWords με κλειδιά κάθε λέξη που εμφανίζεται στα review και ως τιμές το πόσες φορές εμφανίζεται η καθεμία λέξη σε όλα τα review. Ύστερα δημιουργούμε από το λεξικό ένα DataFrame wordDf με δύο στήλες, η πρώτη μια λέξη και η δεύτερη το πόσες φορές εμφανίζεται.</span>"
   ]
  },
  {
   "cell_type": "code",
   "execution_count": 6,
   "metadata": {},
   "outputs": [],
   "source": [
    "global freqWords\n",
    "freqWords = {}\n",
    "\n",
    "english_words = set(words.words())\n",
    "\n",
    "def findFrequency(text):\n",
    "    for word in text:\n",
    "        if word not in freqWords:\n",
    "            freqWords[word] = 1\n",
    "            continue\n",
    "        freqWords[word] += 1\n",
    "#revStars['tokenized_text'].apply(lambda x: [] if x is None else [word for word in x if word in english_words])\n",
    "revStarsTrain['tokenized_text'].apply(lambda row: findFrequency(row))\n",
    "\n",
    "wordDf = pd.DataFrame({'word':freqWords.keys(), 'occurances':freqWords.values()})\n",
    "wordDf.sort_values('occurances', inplace=True, ascending = False)"
   ]
  },
  {
   "cell_type": "markdown",
   "metadata": {},
   "source": [
    "<span style=\"color:black; font-weight:700;font-size:18px\"> Έδω φιλτράρουμε το DataFrame wordDf και το καθαρίζουμε από σκουπίδια. Για αρχή αφαιρούμε όσες λέξεις εμφανίζονται επάνω από 100000 φορές και κάτω από 100. Δηλαδή βάλαμε ένα άνω και κάτω κατώφλι που αφαιρεί λέξεις που δεν έχουν πληροφορία (πέρα από τα stopwords που ήδη αφαιρέθηκαν), οι πολύ συχνές λέξεις δεν έχουν κάτι ιδιαίτερο, όπως και οι πολύ σπάνιες, ουσιαστικά αφαιρέσαμε τις \"ακραίες\" τιμές. Μετά, τα review περιείχαν πολλά \"σκουπίδια\" όπως γράμματα μόνα τους, πεζά και κεφαλαία, τα οποία αφαιρέσαμε. Τέλος βγάλαμε και όλα τα σημεία στήξης.</span>"
   ]
  },
  {
   "cell_type": "code",
   "execution_count": 7,
   "metadata": {},
   "outputs": [
    {
     "data": {
      "text/plain": [
       "<bound method NDFrame.head of              word  occurances\n",
       "1            food       63898\n",
       "9            good       63016\n",
       "25          place       58162\n",
       "130         great       42566\n",
       "296          like       37362\n",
       "...           ...         ...\n",
       "7277     tempting         101\n",
       "15412    ultimate         101\n",
       "6537   tremendous         101\n",
       "5229       museum         101\n",
       "3959        timed         101\n",
       "\n",
       "[3124 rows x 2 columns]>"
      ]
     },
     "execution_count": 7,
     "metadata": {},
     "output_type": "execute_result"
    }
   ],
   "source": [
    "wordDf = wordDf[wordDf.occurances < 100000]\n",
    "wordDf = wordDf[wordDf.occurances > 100]\n",
    "special = ['\\'', '.', ',', '/', '!', '@', '#', '%', '^', '&', '*', '(', ')','-','--']\n",
    "chars = ['a','b','c','d','e','f','g','h','i','j','k','l','m','n','o','p','q','r','s','t','u','v','w','x', 'y', 'z']\n",
    "charsC = ['A','B','C','D','E','F','G','H','I','J','K','L','M','N','O','P','Q','R','S','T','U','V','W','X','Y','Z']\n",
    "wordDf = wordDf[(wordDf['word'].isin(special)) == False]\n",
    "wordDf = wordDf[(wordDf['word'].isin(chars)) == False]\n",
    "wordDf = wordDf[(wordDf['word'].isin(charsC)) == False]\n",
    "english_words = set(words.words())\n",
    "wordDf = wordDf[wordDf['word'].isin(words.words())]\n",
    "freqWords = dict(zip(wordDf.word, wordDf.occurances))\n",
    "wordDf.head"
   ]
  },
  {
   "cell_type": "code",
   "execution_count": 8,
   "metadata": {
    "scrolled": true
   },
   "outputs": [
    {
     "data": {
      "text/html": [
       "<div>\n",
       "<style scoped>\n",
       "    .dataframe tbody tr th:only-of-type {\n",
       "        vertical-align: middle;\n",
       "    }\n",
       "\n",
       "    .dataframe tbody tr th {\n",
       "        vertical-align: top;\n",
       "    }\n",
       "\n",
       "    .dataframe thead th {\n",
       "        text-align: right;\n",
       "    }\n",
       "</style>\n",
       "<table border=\"1\" class=\"dataframe\">\n",
       "  <thead>\n",
       "    <tr style=\"text-align: right;\">\n",
       "      <th></th>\n",
       "      <th>word</th>\n",
       "      <th>occurances</th>\n",
       "    </tr>\n",
       "  </thead>\n",
       "  <tbody>\n",
       "    <tr>\n",
       "      <th>1498</th>\n",
       "      <td>waitress</td>\n",
       "      <td>6343</td>\n",
       "    </tr>\n",
       "  </tbody>\n",
       "</table>\n",
       "</div>"
      ],
      "text/plain": [
       "          word  occurances\n",
       "1498  waitress        6343"
      ]
     },
     "execution_count": 8,
     "metadata": {},
     "output_type": "execute_result"
    }
   ],
   "source": [
    "wordDf[wordDf.word=='waitress']"
   ]
  },
  {
   "cell_type": "markdown",
   "metadata": {},
   "source": [
    "<span style=\"color:black; font-weight:700;font-size:18px\"> Εδώ συνεχίζει ο αλγόριθμος. Θέλουμε να διαχωρίσουμε ποια reviews θεωρούνται \"καλά\" και ποια \"κακά\". Το κριτήριο το παίρνουμε από τα αστέρια, άμα ένα review έχει πάνω από 3 (>3) θα θεωρηθεί καλό, ενώ άμα έχει από 3 και κάτω θα θεωρηθεί κακό. Τα καλά τα reviews τα κρατάμε στο DataFrame goodReviews και τα κακά στο badReviews </span>"
   ]
  },
  {
   "cell_type": "code",
   "execution_count": 9,
   "metadata": {},
   "outputs": [
    {
     "name": "stderr",
     "output_type": "stream",
     "text": [
      "<ipython-input-9-1efb2ae2112a>:1: UserWarning: Boolean Series key will be reindexed to match DataFrame index.\n",
      "  goodReviews = revStarsTrain[revStars.stars>3]\n",
      "<ipython-input-9-1efb2ae2112a>:2: UserWarning: Boolean Series key will be reindexed to match DataFrame index.\n",
      "  badReviews = revStarsTrain[revStars.stars<=3]\n"
     ]
    }
   ],
   "source": [
    "goodReviews = revStarsTrain[revStars.stars>3]\n",
    "badReviews = revStarsTrain[revStars.stars<=3]"
   ]
  },
  {
   "cell_type": "markdown",
   "metadata": {},
   "source": [
    "<span style=\"color:black; font-weight:700;font-size:18px\"> Και αρχίζουμε να δουλεύουμε με τα καλά review. Χρησιμοποιώντας το λεξικό freqWords προσπαθούμε να δούμε πόσες από τις λέξεις κλειδιά του freqWords εμφανίζονται στα καλά reviews. Για παράδειγμα η λέξη \"waitress\" εμφανίζεται σε ολόκληρο το train_set 6343 φορές και στα καλά review 2776 και ξέρουμε ότι τις υπόλοιπες εμφανίσεις θα της κάνει στα κακά review. Υπάρχει φυσικά η πιθανότητα κάποιες λέξεις να μην εμφανίζονται καθόλου και όλες οι εμφανίσεις να γίνονται στα κακά reviews (δεν συμβαίνει). Το πλήθος των λέξεων το κρατάμε στο λεξικό goodWords. </span>"
   ]
  },
  {
   "cell_type": "code",
   "execution_count": 10,
   "metadata": {},
   "outputs": [
    {
     "data": {
      "text/plain": [
       "0         None\n",
       "1         None\n",
       "3         None\n",
       "4         None\n",
       "5         None\n",
       "          ... \n",
       "109993    None\n",
       "109994    None\n",
       "109995    None\n",
       "109996    None\n",
       "109998    None\n",
       "Name: tokenized_text, Length: 76016, dtype: object"
      ]
     },
     "execution_count": 10,
     "metadata": {},
     "output_type": "execute_result"
    }
   ],
   "source": [
    "global goodWords\n",
    "goodWords = dict.fromkeys(freqWords.keys(), 0)\n",
    "\n",
    "def goodWordsDict(text):\n",
    "    for word in text:\n",
    "        # check if it's in the dictionary of the ALL text, so we have same words\n",
    "        if word in freqWords:\n",
    "            goodWords[word] += 1\n",
    "            continue\n",
    "        # if it's not in the other ictionary, continue\n",
    "        #freqWords[word] += 1\n",
    "    \n",
    "\n",
    "\n",
    "\n",
    "goodReviews['tokenized_text'].apply(lambda row: goodWordsDict(row))"
   ]
  },
  {
   "cell_type": "markdown",
   "metadata": {},
   "source": [
    "<span style=\"color:black; font-weight:700;font-size:18px\"> Το πλήθος των εμφανίσεων της λέξης waitress στα καλά review. </span>"
   ]
  },
  {
   "cell_type": "code",
   "execution_count": 11,
   "metadata": {},
   "outputs": [
    {
     "data": {
      "text/plain": [
       "2776"
      ]
     },
     "execution_count": 11,
     "metadata": {},
     "output_type": "execute_result"
    }
   ],
   "source": [
    "goodWords['waitress']"
   ]
  },
  {
   "cell_type": "markdown",
   "metadata": {},
   "source": [
    "<span style=\"color:black; font-weight:700;font-size:18px\"> Επαναλαμβάνουμε την ίδια διαδικασία μα τώρα για κακά reviews. Μετράμε πόσες εμφανίσεις κάνουν οι λέξεις και κρατάμε το πλήθος τους στο λεξικό badWords</span>"
   ]
  },
  {
   "cell_type": "code",
   "execution_count": 12,
   "metadata": {},
   "outputs": [
    {
     "data": {
      "text/plain": [
       "2         None\n",
       "8         None\n",
       "11        None\n",
       "13        None\n",
       "20        None\n",
       "          ... \n",
       "109979    None\n",
       "109980    None\n",
       "109986    None\n",
       "109997    None\n",
       "109999    None\n",
       "Name: tokenized_text, Length: 33984, dtype: object"
      ]
     },
     "execution_count": 12,
     "metadata": {},
     "output_type": "execute_result"
    }
   ],
   "source": [
    "global badWords\n",
    "badWords = dict.fromkeys(freqWords.keys(), 0)\n",
    "\n",
    "global badDf\n",
    "badDf = pd.DataFrame()\n",
    "#english_words = set(words.words())\n",
    "\n",
    "def badWordsDict(text):\n",
    "    for word in text:\n",
    "        # check if it's in the dictionary of the ALL text, so we have same words\n",
    "        if word in freqWords:\n",
    "            badWords[word] += 1\n",
    "            continue\n",
    "    \n",
    "    \n",
    "\n",
    "badReviews['tokenized_text'].apply(lambda row: badWordsDict(row))"
   ]
  },
  {
   "cell_type": "markdown",
   "metadata": {},
   "source": [
    "<span style=\"color:black; font-weight:700;font-size:18px\"> Το πλήθος των εμφανίσεων της λέξης waitress στα κακά review. Πράγματι επαληθεύεται ότι οι υπόλοιπες φορές που δεν εμφανίστηκαν στα καλά review, είναι εδώ.</span>"
   ]
  },
  {
   "cell_type": "code",
   "execution_count": 13,
   "metadata": {
    "scrolled": true
   },
   "outputs": [
    {
     "data": {
      "text/plain": [
       "3567"
      ]
     },
     "execution_count": 13,
     "metadata": {},
     "output_type": "execute_result"
    }
   ],
   "source": [
    "badWords['waitress']"
   ]
  },
  {
   "cell_type": "markdown",
   "metadata": {},
   "source": [
    "<span style=\"color:black; font-weight:700;font-size:18px\"> Εδώ βάζουμε τις πληροφορίες για τις εμφανίσεις των λέξεων στα καλά και στα κακά review σε ένα DataFrame allWords. Έχουμε 4 στήλες αρχικά, η πρώτη στήλη ονομάζεται G_word και έχει τις λέξεις όλων των review, η δεύτερη G_occurances και περιέχει το πλήθος των εμφανίσεων των λέξεων στα καλά review, η τρίτη B_word περιέχει, όπως και η G_word, τις λέξεις όλων των review και η τέταρτη B_occurances περιέχει το πλήθος των εμφανίσεων των λέξεων στα κακά review. Μετά βρίσκουμε μια πέμπτη στήλη diff_per που περιέχει την διαφορά σε ποσοστό εμφανίσεων των καλών λέξεων προς το ολικό πλήθος από το 50%. Δηλαδή άμα μια λέξη εμφανίζεται ισόποσα και στα G_occurances και στα Β_occurances η στήλη diff_per θα έχει την τιμή 0. Αν μια λέξη εμφανίζεται κατά 70% στα καλά review η στήλη diff_per θα έχει την τιμή 20 (70-50). Αν μια λέξη εμφανίζεται κατά 10% στα καλά review η στήλη diff_per θα έχει την τιμή -40 (10-50). </span>"
   ]
  },
  {
   "cell_type": "code",
   "execution_count": 14,
   "metadata": {},
   "outputs": [
    {
     "data": {
      "text/html": [
       "<div>\n",
       "<style scoped>\n",
       "    .dataframe tbody tr th:only-of-type {\n",
       "        vertical-align: middle;\n",
       "    }\n",
       "\n",
       "    .dataframe tbody tr th {\n",
       "        vertical-align: top;\n",
       "    }\n",
       "\n",
       "    .dataframe thead th {\n",
       "        text-align: right;\n",
       "    }\n",
       "</style>\n",
       "<table border=\"1\" class=\"dataframe\">\n",
       "  <thead>\n",
       "    <tr style=\"text-align: right;\">\n",
       "      <th></th>\n",
       "      <th>G_word</th>\n",
       "      <th>G_occurances</th>\n",
       "      <th>B_word</th>\n",
       "      <th>B_occurances</th>\n",
       "      <th>diff_per</th>\n",
       "    </tr>\n",
       "  </thead>\n",
       "  <tbody>\n",
       "    <tr>\n",
       "      <th>0</th>\n",
       "      <td>food</td>\n",
       "      <td>39424</td>\n",
       "      <td>food</td>\n",
       "      <td>24474</td>\n",
       "      <td>11.698332</td>\n",
       "    </tr>\n",
       "    <tr>\n",
       "      <th>1</th>\n",
       "      <td>good</td>\n",
       "      <td>41572</td>\n",
       "      <td>good</td>\n",
       "      <td>21444</td>\n",
       "      <td>15.970547</td>\n",
       "    </tr>\n",
       "    <tr>\n",
       "      <th>2</th>\n",
       "      <td>place</td>\n",
       "      <td>39514</td>\n",
       "      <td>place</td>\n",
       "      <td>18648</td>\n",
       "      <td>17.937829</td>\n",
       "    </tr>\n",
       "    <tr>\n",
       "      <th>3</th>\n",
       "      <td>great</td>\n",
       "      <td>34373</td>\n",
       "      <td>great</td>\n",
       "      <td>8193</td>\n",
       "      <td>30.752244</td>\n",
       "    </tr>\n",
       "    <tr>\n",
       "      <th>4</th>\n",
       "      <td>like</td>\n",
       "      <td>21788</td>\n",
       "      <td>like</td>\n",
       "      <td>15574</td>\n",
       "      <td>8.315936</td>\n",
       "    </tr>\n",
       "  </tbody>\n",
       "</table>\n",
       "</div>"
      ],
      "text/plain": [
       "  G_word  G_occurances B_word  B_occurances   diff_per\n",
       "0   food         39424   food         24474  11.698332\n",
       "1   good         41572   good         21444  15.970547\n",
       "2  place         39514  place         18648  17.937829\n",
       "3  great         34373  great          8193  30.752244\n",
       "4   like         21788   like         15574   8.315936"
      ]
     },
     "execution_count": 14,
     "metadata": {},
     "output_type": "execute_result"
    }
   ],
   "source": [
    "allWords = pd.DataFrame({'G_word':goodWords.keys(), 'G_occurances':goodWords.values(),\n",
    "                      'B_word':badWords.keys(), 'B_occurances':badWords.values()})\n",
    "\n",
    "allWords['diff_per'] = allWords.G_occurances/(allWords.G_occurances+allWords.B_occurances)*100 - 50\n",
    "allWords.head()"
   ]
  },
  {
   "cell_type": "markdown",
   "metadata": {},
   "source": [
    "<span style=\"color:black; font-weight:700;font-size:18px\"> Επόμενο βήμα, δημιουργούμε δύο DataFrame με καλές και κακές λέξεις. Το κριτήριο είναι η αναλογία εμφανίσεων της λέξης σε σχέση με το ολικό πλήθος εμφανίσεων, δηλαδή σύμφωνα με την στήλη diff_per. Στο DataFrame goodDf κρατάμε όσες λέξεις περιέχονται κατά 80% στα καλά review (diff_per >= 30) και στο DataFrame badDf κρατάμε όσες λέξεις περιέχονται κατά 30% στα κακά review (diff_per<=-20). Όσες λέξεις είναι μοιρασμένες μεταξύ καλών και κακών review κατά 30-80% θεωρείται ότι δεν προσφέρουν κάποια ιδιαίτερη πληροφορία, καθώς είναι ουσιαστικά κοινές και αγνοούνται.</span>"
   ]
  },
  {
   "cell_type": "code",
   "execution_count": 15,
   "metadata": {},
   "outputs": [],
   "source": [
    "goodSer = allWords[allWords.diff_per >= 30]['G_word']\n",
    "goodDf = goodSer.to_frame(name='G_word')\n",
    "\n",
    "badSer = allWords[allWords.diff_per <= -20]['B_word']\n",
    "badDf = badSer.to_frame(name='B_word')"
   ]
  },
  {
   "cell_type": "markdown",
   "metadata": {},
   "source": [
    "<span style=\"color:black; font-weight:700;font-size:18px\"> Εδώ επεξεργαζόμαστε το test_set. Παίρνουμε τις υπόλοιπες από τις 110.000 γραμμές και προσθέτουμε μια τρίτη στήλη label. Άμα η τιμή stars είναι μεγαλύτερη του 3 θα βάλουμε label 1 (καλό review), αλλιώς την τιμή 0 (κακό review).</span>"
   ]
  },
  {
   "cell_type": "code",
   "execution_count": 16,
   "metadata": {},
   "outputs": [
    {
     "data": {
      "text/html": [
       "<div>\n",
       "<style scoped>\n",
       "    .dataframe tbody tr th:only-of-type {\n",
       "        vertical-align: middle;\n",
       "    }\n",
       "\n",
       "    .dataframe tbody tr th {\n",
       "        vertical-align: top;\n",
       "    }\n",
       "\n",
       "    .dataframe thead th {\n",
       "        text-align: right;\n",
       "    }\n",
       "</style>\n",
       "<table border=\"1\" class=\"dataframe\">\n",
       "  <thead>\n",
       "    <tr style=\"text-align: right;\">\n",
       "      <th></th>\n",
       "      <th>tokenized_text</th>\n",
       "      <th>stars</th>\n",
       "      <th>label</th>\n",
       "    </tr>\n",
       "  </thead>\n",
       "  <tbody>\n",
       "    <tr>\n",
       "      <th>110000</th>\n",
       "      <td>[Awesome, staff, ,, awesome, beer, ,, awesome,...</td>\n",
       "      <td>5.0</td>\n",
       "      <td>1</td>\n",
       "    </tr>\n",
       "    <tr>\n",
       "      <th>110001</th>\n",
       "      <td>[I, found, tiny, worm, chicken, wing, platter,...</td>\n",
       "      <td>1.0</td>\n",
       "      <td>0</td>\n",
       "    </tr>\n",
       "    <tr>\n",
       "      <th>110002</th>\n",
       "      <td>[What, let, down, ., Food, drinks, okay, ., Th...</td>\n",
       "      <td>3.0</td>\n",
       "      <td>0</td>\n",
       "    </tr>\n",
       "    <tr>\n",
       "      <th>110003</th>\n",
       "      <td>[This, great, place, enjoy, dinner, work, ., I...</td>\n",
       "      <td>4.0</td>\n",
       "      <td>1</td>\n",
       "    </tr>\n",
       "    <tr>\n",
       "      <th>110004</th>\n",
       "      <td>[I, think, I, rediscovered, love, pizza, !, I,...</td>\n",
       "      <td>5.0</td>\n",
       "      <td>1</td>\n",
       "    </tr>\n",
       "  </tbody>\n",
       "</table>\n",
       "</div>"
      ],
      "text/plain": [
       "                                           tokenized_text  stars  label\n",
       "110000  [Awesome, staff, ,, awesome, beer, ,, awesome,...    5.0      1\n",
       "110001  [I, found, tiny, worm, chicken, wing, platter,...    1.0      0\n",
       "110002  [What, let, down, ., Food, drinks, okay, ., Th...    3.0      0\n",
       "110003  [This, great, place, enjoy, dinner, work, ., I...    4.0      1\n",
       "110004  [I, think, I, rediscovered, love, pizza, !, I,...    5.0      1"
      ]
     },
     "execution_count": 16,
     "metadata": {},
     "output_type": "execute_result"
    }
   ],
   "source": [
    "test_data = pd.DataFrame()\n",
    "test_data = revStars[['tokenized_text','stars']].iloc[110000:]\n",
    "# ######## 1 is for GOOD 0 is for BAD\n",
    "test_data['label'] = test_data['stars'].apply(lambda star: 1 if(star>3) else 0)\n",
    "test_data.head()"
   ]
  },
  {
   "cell_type": "markdown",
   "metadata": {},
   "source": [
    "<span style=\"color:black; font-weight:700;font-size:18px\"> Εδώ υλοποιείται ένας αλγόριθμος για την αξιολόγηση των λιστών. Θα παίρνουμε τα test review μας, και η στήλη tokenized_text περιέχει το review σε μορφή λίστας, και μετά ανάλογα με το που βρίσκεται κάθε λέξη του review, στην λίστα με τις καλές λέξεις goodList ή στην λίστα με τις κακές λέξεις badList, θα γίνεται μια ψηφοφορία. Αν στο τέλος οι περισσότερες λέξεις βρισκόντουσταν στην goodList θα προβλεφτεί ώς label 1 (good) αν βρίσκονται στο badList θα προβλεφτεί ώς label 0 (bad).</span>"
   ]
  },
  {
   "cell_type": "code",
   "execution_count": 17,
   "metadata": {},
   "outputs": [],
   "source": [
    "ll = []\n",
    "def predict(text):\n",
    "    goodVote = 0\n",
    "    badVote = 0\n",
    "    goodList = goodDf['G_word'].values\n",
    "    badList = badDf['B_word'].values\n",
    "    for word in text:\n",
    "        # check if it's in the dictionary of the ALL text, so we have same words\n",
    "        if (word in goodList):\n",
    "            goodVote += 1\n",
    "        if (word in badList):\n",
    "            badVote += 1\n",
    "    if(goodVote > badVote):\n",
    "        return 1\n",
    "    else:\n",
    "        return 0"
   ]
  },
  {
   "cell_type": "code",
   "execution_count": 18,
   "metadata": {},
   "outputs": [],
   "source": [
    "test_data['predicted'] = test_data['tokenized_text'].apply(lambda row: predict(row))"
   ]
  },
  {
   "cell_type": "code",
   "execution_count": 19,
   "metadata": {},
   "outputs": [
    {
     "name": "stdout",
     "output_type": "stream",
     "text": [
      "Accuracy 0.7893826619964974\n",
      "Precision 0.9160237892948173\n",
      "Recall 0.7903471733520995\n"
     ]
    }
   ],
   "source": [
    "# train has 110k samples\n",
    "acc = metrics.accuracy_score(test_data['predicted'], test_data['label'])\n",
    "print(\"Accuracy\",acc)\n",
    "prec = metrics.precision_score(test_data['predicted'], test_data['label'])\n",
    "print(\"Precision\",prec)\n",
    "rec = metrics.recall_score(test_data['predicted'], test_data['label'])\n",
    "print(\"Recall\",rec)"
   ]
  },
  {
   "cell_type": "code",
   "execution_count": null,
   "metadata": {},
   "outputs": [],
   "source": []
  }
 ],
 "metadata": {
  "kernelspec": {
   "display_name": "Python 3",
   "language": "python",
   "name": "python3"
  },
  "language_info": {
   "codemirror_mode": {
    "name": "ipython",
    "version": 3
   },
   "file_extension": ".py",
   "mimetype": "text/x-python",
   "name": "python",
   "nbconvert_exporter": "python",
   "pygments_lexer": "ipython3",
   "version": "3.8.5"
  }
 },
 "nbformat": 4,
 "nbformat_minor": 4
}
